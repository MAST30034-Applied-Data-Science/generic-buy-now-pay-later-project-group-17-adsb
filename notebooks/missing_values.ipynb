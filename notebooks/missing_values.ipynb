{
 "cells": [
  {
   "cell_type": "code",
   "execution_count": 12,
   "id": "b7ab36f2-5c1a-41bb-a0c8-c8abbdfa7ca6",
   "metadata": {},
   "outputs": [],
   "source": [
    "# from pyspark.sql import SparkSession\n",
    "# import pyspark.pandas as ps\n",
    "import numpy as np\n",
    "import pandas as pd\n",
    "\n",
    "import seaborn as sns\n",
    "\n",
    "# spark = (\n",
    "#     SparkSession.builder.appName(\"BNPL\")\n",
    "#     .config(\"spark.sql.repl.eagerEval.enabled\", True) \n",
    "#     .config(\"spark.sql.parquet.cacheMetadata\", \"true\")\n",
    "#     .config(\"spark.driver.memory\", \"8g\")\n",
    "#     .getOrCreate()\n",
    "# )\n",
    "\n",
    "data_directory = \"../data/\"\n",
    "tables_directory = data_directory + \"tables/\"\n",
    "transactions_directory = tables_directory + \"transactions_20210228_20210827_snapshot/\"\n",
    "merchants_file_loc = tables_directory + \"tbl_merchants.parquet\""
   ]
  },
  {
   "cell_type": "code",
   "execution_count": 13,
   "id": "f1efdf7c-b9fa-40b1-bc75-d5cc39880b78",
   "metadata": {},
   "outputs": [
    {
     "data": {
      "text/plain": [
       "user_id           3643266\n",
       "merchant_abn      3643266\n",
       "dollar_value      3643266\n",
       "order_id          3643266\n",
       "order_datetime    3643266\n",
       "dtype: int64"
      ]
     },
     "execution_count": 13,
     "metadata": {},
     "output_type": "execute_result"
    }
   ],
   "source": [
    "merchants = pd.read_parquet(merchants_file_loc)\n",
    "transactions = pd.read_parquet(transactions_directory)\n",
    "transactions.count()"
   ]
  },
  {
   "cell_type": "code",
   "execution_count": 14,
   "id": "89d866e0-08c7-4c7b-b32e-fe72f78f782a",
   "metadata": {},
   "outputs": [
    {
     "data": {
      "text/plain": [
       "user_id           3643266\n",
       "merchant_abn      3643266\n",
       "dollar_value      3643266\n",
       "order_id          3643266\n",
       "order_datetime    3643266\n",
       "name              3494038\n",
       "tags              3494038\n",
       "dtype: int64"
      ]
     },
     "execution_count": 14,
     "metadata": {},
     "output_type": "execute_result"
    }
   ],
   "source": [
    "transactions = transactions.merge(merchants, how=\"left\", on=\"merchant_abn\")\n",
    "transactions[\"order_datetime\"] = pd.to_datetime(transactions[\"order_datetime\"])\n",
    "transactions.count()"
   ]
  },
  {
   "cell_type": "markdown",
   "id": "66de771d-9bd9-4799-a3ed-654f27701ae3",
   "metadata": {},
   "source": [
    "Theres merchant abns in transactions that arent in the merchants table"
   ]
  },
  {
   "cell_type": "code",
   "execution_count": 9,
   "id": "204c8c2a-9256-462c-b890-d8474fbaa858",
   "metadata": {},
   "outputs": [
    {
     "data": {
      "text/plain": [
       "name    4026\n",
       "tags    4026\n",
       "dtype: int64"
      ]
     },
     "execution_count": 9,
     "metadata": {},
     "output_type": "execute_result"
    }
   ],
   "source": [
    "merchants.count()"
   ]
  },
  {
   "cell_type": "code",
   "execution_count": 10,
   "id": "f42d0774-8fdc-4c6c-b521-005ef9ba900c",
   "metadata": {},
   "outputs": [
    {
     "data": {
      "text/plain": [
       "name           499999\n",
       "address        499999\n",
       "state          499999\n",
       "postcode       499999\n",
       "gender         499999\n",
       "consumer_id    499999\n",
       "dtype: int64"
      ]
     },
     "execution_count": 10,
     "metadata": {},
     "output_type": "execute_result"
    }
   ],
   "source": [
    "consumer_file_loc = tables_directory + \"tbl_consumer.csv\"\n",
    "consumers = pd.read_csv(consumer_file_loc, sep=\"|\")\n",
    "consumers.count()"
   ]
  },
  {
   "cell_type": "code",
   "execution_count": 11,
   "id": "307d64e7-c611-47f6-9a2b-575c46030996",
   "metadata": {},
   "outputs": [
    {
     "data": {
      "text/html": [
       "<div>\n",
       "<style scoped>\n",
       "    .dataframe tbody tr th:only-of-type {\n",
       "        vertical-align: middle;\n",
       "    }\n",
       "\n",
       "    .dataframe tbody tr th {\n",
       "        vertical-align: top;\n",
       "    }\n",
       "\n",
       "    .dataframe thead th {\n",
       "        text-align: right;\n",
       "    }\n",
       "</style>\n",
       "<table border=\"1\" class=\"dataframe\">\n",
       "  <thead>\n",
       "    <tr style=\"text-align: right;\">\n",
       "      <th></th>\n",
       "      <th>user_id</th>\n",
       "      <th>merchant_abn</th>\n",
       "      <th>dollar_value</th>\n",
       "      <th>order_id</th>\n",
       "      <th>order_datetime</th>\n",
       "      <th>name</th>\n",
       "      <th>tags</th>\n",
       "    </tr>\n",
       "  </thead>\n",
       "  <tbody>\n",
       "    <tr>\n",
       "      <th>6</th>\n",
       "      <td>3</td>\n",
       "      <td>29566626791</td>\n",
       "      <td>46.330872</td>\n",
       "      <td>26b7574e-81c2-4558-a7d1-017ea9d29440</td>\n",
       "      <td>2021-02-28</td>\n",
       "      <td>NaN</td>\n",
       "      <td>NaN</td>\n",
       "    </tr>\n",
       "    <tr>\n",
       "      <th>39</th>\n",
       "      <td>18512</td>\n",
       "      <td>75342681786</td>\n",
       "      <td>11.114536</td>\n",
       "      <td>bdd7bdb2-f5c6-47e6-81f8-4e8c0d9882d2</td>\n",
       "      <td>2021-02-28</td>\n",
       "      <td>NaN</td>\n",
       "      <td>NaN</td>\n",
       "    </tr>\n",
       "    <tr>\n",
       "      <th>51</th>\n",
       "      <td>18519</td>\n",
       "      <td>27130058170</td>\n",
       "      <td>914.106232</td>\n",
       "      <td>f0a2ad39-0b6f-4b22-a87f-0345ae4bb677</td>\n",
       "      <td>2021-02-28</td>\n",
       "      <td>NaN</td>\n",
       "      <td>NaN</td>\n",
       "    </tr>\n",
       "    <tr>\n",
       "      <th>54</th>\n",
       "      <td>29</td>\n",
       "      <td>29323795999</td>\n",
       "      <td>9.257938</td>\n",
       "      <td>e74e8f04-2fe3-44d4-b081-0ccf1e8aba69</td>\n",
       "      <td>2021-02-28</td>\n",
       "      <td>NaN</td>\n",
       "      <td>NaN</td>\n",
       "    </tr>\n",
       "    <tr>\n",
       "      <th>68</th>\n",
       "      <td>32</td>\n",
       "      <td>32234779638</td>\n",
       "      <td>15.485283</td>\n",
       "      <td>ed81cbe9-2474-45a8-895a-9189c3877e84</td>\n",
       "      <td>2021-02-28</td>\n",
       "      <td>NaN</td>\n",
       "      <td>NaN</td>\n",
       "    </tr>\n",
       "    <tr>\n",
       "      <th>...</th>\n",
       "      <td>...</td>\n",
       "      <td>...</td>\n",
       "      <td>...</td>\n",
       "      <td>...</td>\n",
       "      <td>...</td>\n",
       "      <td>...</td>\n",
       "      <td>...</td>\n",
       "    </tr>\n",
       "    <tr>\n",
       "      <th>3643225</th>\n",
       "      <td>18431</td>\n",
       "      <td>75342681786</td>\n",
       "      <td>19.955335</td>\n",
       "      <td>a1cec489-6aa8-4254-901c-50a9a9ef4d30</td>\n",
       "      <td>2021-08-27</td>\n",
       "      <td>NaN</td>\n",
       "      <td>NaN</td>\n",
       "    </tr>\n",
       "    <tr>\n",
       "      <th>3643232</th>\n",
       "      <td>18437</td>\n",
       "      <td>32234779638</td>\n",
       "      <td>78.371616</td>\n",
       "      <td>b9507b5c-a838-4fd4-befc-12b6a8a0e478</td>\n",
       "      <td>2021-08-27</td>\n",
       "      <td>NaN</td>\n",
       "      <td>NaN</td>\n",
       "    </tr>\n",
       "    <tr>\n",
       "      <th>3643245</th>\n",
       "      <td>18455</td>\n",
       "      <td>32234779638</td>\n",
       "      <td>14.372271</td>\n",
       "      <td>8260af91-769c-4a70-8718-05f67debdbc4</td>\n",
       "      <td>2021-08-27</td>\n",
       "      <td>NaN</td>\n",
       "      <td>NaN</td>\n",
       "    </tr>\n",
       "    <tr>\n",
       "      <th>3643254</th>\n",
       "      <td>18460</td>\n",
       "      <td>20562405782</td>\n",
       "      <td>250.924374</td>\n",
       "      <td>1642786c-97ea-4496-b3a3-a00dd9a1e5aa</td>\n",
       "      <td>2021-08-27</td>\n",
       "      <td>NaN</td>\n",
       "      <td>NaN</td>\n",
       "    </tr>\n",
       "    <tr>\n",
       "      <th>3643261</th>\n",
       "      <td>18470</td>\n",
       "      <td>29323795999</td>\n",
       "      <td>8.346682</td>\n",
       "      <td>f35299fa-c9f4-408e-bb86-b9d5fff65a9a</td>\n",
       "      <td>2021-08-27</td>\n",
       "      <td>NaN</td>\n",
       "      <td>NaN</td>\n",
       "    </tr>\n",
       "  </tbody>\n",
       "</table>\n",
       "<p>149228 rows × 7 columns</p>\n",
       "</div>"
      ],
      "text/plain": [
       "         user_id  merchant_abn  dollar_value  \\\n",
       "6              3   29566626791     46.330872   \n",
       "39         18512   75342681786     11.114536   \n",
       "51         18519   27130058170    914.106232   \n",
       "54            29   29323795999      9.257938   \n",
       "68            32   32234779638     15.485283   \n",
       "...          ...           ...           ...   \n",
       "3643225    18431   75342681786     19.955335   \n",
       "3643232    18437   32234779638     78.371616   \n",
       "3643245    18455   32234779638     14.372271   \n",
       "3643254    18460   20562405782    250.924374   \n",
       "3643261    18470   29323795999      8.346682   \n",
       "\n",
       "                                     order_id order_datetime name tags  \n",
       "6        26b7574e-81c2-4558-a7d1-017ea9d29440     2021-02-28  NaN  NaN  \n",
       "39       bdd7bdb2-f5c6-47e6-81f8-4e8c0d9882d2     2021-02-28  NaN  NaN  \n",
       "51       f0a2ad39-0b6f-4b22-a87f-0345ae4bb677     2021-02-28  NaN  NaN  \n",
       "54       e74e8f04-2fe3-44d4-b081-0ccf1e8aba69     2021-02-28  NaN  NaN  \n",
       "68       ed81cbe9-2474-45a8-895a-9189c3877e84     2021-02-28  NaN  NaN  \n",
       "...                                       ...            ...  ...  ...  \n",
       "3643225  a1cec489-6aa8-4254-901c-50a9a9ef4d30     2021-08-27  NaN  NaN  \n",
       "3643232  b9507b5c-a838-4fd4-befc-12b6a8a0e478     2021-08-27  NaN  NaN  \n",
       "3643245  8260af91-769c-4a70-8718-05f67debdbc4     2021-08-27  NaN  NaN  \n",
       "3643254  1642786c-97ea-4496-b3a3-a00dd9a1e5aa     2021-08-27  NaN  NaN  \n",
       "3643261  f35299fa-c9f4-408e-bb86-b9d5fff65a9a     2021-08-27  NaN  NaN  \n",
       "\n",
       "[149228 rows x 7 columns]"
      ]
     },
     "execution_count": 11,
     "metadata": {},
     "output_type": "execute_result"
    }
   ],
   "source": [
    "transactions[transactions.isnull().any(axis=1)]"
   ]
  },
  {
   "cell_type": "markdown",
   "id": "760786f3-566a-4a01-b9cd-e2a0d073061a",
   "metadata": {},
   "source": [
    "Transactions linked to non valid abn"
   ]
  }
 ],
 "metadata": {
  "kernelspec": {
   "display_name": "Python 3 (ipykernel)",
   "language": "python",
   "name": "python3"
  },
  "language_info": {
   "codemirror_mode": {
    "name": "ipython",
    "version": 3
   },
   "file_extension": ".py",
   "mimetype": "text/x-python",
   "name": "python",
   "nbconvert_exporter": "python",
   "pygments_lexer": "ipython3",
   "version": "3.8.10"
  }
 },
 "nbformat": 4,
 "nbformat_minor": 5
}
