{
 "cells": [
  {
   "cell_type": "code",
   "execution_count": 7,
   "metadata": {},
   "outputs": [
    {
     "data": {
      "text/plain": [
       "(PosixPath('../data/pop_zip'), <http.client.HTTPMessage at 0x7fb1177b37f0>)"
      ]
     },
     "execution_count": 7,
     "metadata": {},
     "output_type": "execute_result"
    }
   ],
   "source": [
    "from urllib.request import urlretrieve\n",
    "import zipfile\n",
    "from pathlib import Path\n",
    "import os\n",
    "\n",
    "url = 'https://www.abs.gov.au/census/find-census-data/datapacks/download/2021_GCP_POA_for_AUS_short-header.zip'\n",
    "\n",
    "urlretrieve(url, Path('../data', 'pop_zip'))\n"
   ]
  },
  {
   "cell_type": "code",
   "execution_count": 13,
   "metadata": {},
   "outputs": [],
   "source": [
    "with zipfile.ZipFile('../data/pop_zip', 'r') as zip_ref:\n",
    "    zip_ref.extractall('../data')"
   ]
  },
  {
   "cell_type": "code",
   "execution_count": 14,
   "metadata": {},
   "outputs": [],
   "source": [
    "import shutil\n",
    "\n",
    "shutil.rmtree('../data/Metadata')\n",
    "shutil.rmtree('../data/Readme')"
   ]
  },
  {
   "cell_type": "code",
   "execution_count": 15,
   "metadata": {},
   "outputs": [],
   "source": [
    "os.rename(\"../data/2021 Census GCP Postal Areas for AUS\", \"../data/census\")"
   ]
  },
  {
   "cell_type": "code",
   "execution_count": 18,
   "metadata": {},
   "outputs": [],
   "source": [
    "import pandas as pd\n",
    "G01 = pd.read_csv(\"../data/census/2021Census_G01_AUST_POA.csv\")\n",
    "G02 = pd.read_csv(\"../data/census/2021Census_G02_AUST_POA.csv\")"
   ]
  },
  {
   "cell_type": "code",
   "execution_count": 20,
   "metadata": {},
   "outputs": [],
   "source": [
    "dataset = pd.merge(G01, G02, how=\"outer\", on=[\"POA_CODE_2021\", \"POA_CODE_2021\"])\n",
    "dataset = dataset[[\"POA_CODE_2021\", \"Tot_P_M\", \"Tot_P_F\",\"Tot_P_P\", \"High_yr_schl_comp_Yr_12_eq_M\", \"High_yr_schl_comp_Yr_12_eq_F\", \"High_yr_schl_comp_Yr_12_eq_P\", \"Median_age_persons\", \"Median_mortgage_repay_monthly\", \"Median_tot_prsnl_inc_weekly\", \"Median_tot_hhd_inc_weekly\"]]"
   ]
  },
  {
   "cell_type": "code",
   "execution_count": 21,
   "metadata": {},
   "outputs": [],
   "source": [
    "# Feature Engineering\n",
    "\n",
    "import re\n",
    "\n",
    "def strip_it(code):\n",
    "    return code[3:]\n",
    "\n",
    "dataset['POA_CODE_2021'] = dataset['POA_CODE_2021'].apply(strip_it)\n",
    "dataset['comp_Yr_12_eq_percent'] = dataset['High_yr_schl_comp_Yr_12_eq_P'] / dataset['Tot_P_P']\n",
    "dataset['comp_Yr_12_eq_percent_M'] = dataset['High_yr_schl_comp_Yr_12_eq_M'] / dataset['Tot_P_M']\n",
    "dataset['comp_Yr_12_eq_percent_F'] = dataset['High_yr_schl_comp_Yr_12_eq_F'] / dataset['Tot_P_F']\n",
    "dataset['house_repay_to_income'] = dataset[\"Median_mortgage_repay_monthly\"] / (dataset[\"Median_tot_hhd_inc_weekly\"] * 4.333333)\n",
    "\n",
    "\n",
    "# \"Median_age_persons\", \"Median_mortgage_repay_monthly\", \"Median_tot_prsnl_inc_weekly\", \"Median_tot_hhd_inc_weekly\""
   ]
  },
  {
   "cell_type": "code",
   "execution_count": 22,
   "metadata": {},
   "outputs": [
    {
     "data": {
      "text/html": [
       "<div>\n",
       "<style scoped>\n",
       "    .dataframe tbody tr th:only-of-type {\n",
       "        vertical-align: middle;\n",
       "    }\n",
       "\n",
       "    .dataframe tbody tr th {\n",
       "        vertical-align: top;\n",
       "    }\n",
       "\n",
       "    .dataframe thead th {\n",
       "        text-align: right;\n",
       "    }\n",
       "</style>\n",
       "<table border=\"1\" class=\"dataframe\">\n",
       "  <thead>\n",
       "    <tr style=\"text-align: right;\">\n",
       "      <th></th>\n",
       "      <th>POA_CODE_2021</th>\n",
       "      <th>comp_Yr_12_eq_percent</th>\n",
       "      <th>comp_Yr_12_eq_percent_M</th>\n",
       "      <th>comp_Yr_12_eq_percent_F</th>\n",
       "      <th>house_repay_to_income</th>\n",
       "      <th>Median_age_persons</th>\n",
       "      <th>Median_tot_prsnl_inc_weekly</th>\n",
       "      <th>Median_mortgage_repay_monthly</th>\n",
       "    </tr>\n",
       "  </thead>\n",
       "  <tbody>\n",
       "    <tr>\n",
       "      <th>0</th>\n",
       "      <td>2000</td>\n",
       "      <td>0.771728</td>\n",
       "      <td>0.769739</td>\n",
       "      <td>0.773937</td>\n",
       "      <td>0.290406</td>\n",
       "      <td>32</td>\n",
       "      <td>941</td>\n",
       "      <td>2800</td>\n",
       "    </tr>\n",
       "    <tr>\n",
       "      <th>1</th>\n",
       "      <td>2007</td>\n",
       "      <td>0.760864</td>\n",
       "      <td>0.760563</td>\n",
       "      <td>0.760977</td>\n",
       "      <td>0.319625</td>\n",
       "      <td>30</td>\n",
       "      <td>772</td>\n",
       "      <td>2500</td>\n",
       "    </tr>\n",
       "    <tr>\n",
       "      <th>2</th>\n",
       "      <td>2008</td>\n",
       "      <td>0.809423</td>\n",
       "      <td>0.801505</td>\n",
       "      <td>0.816840</td>\n",
       "      <td>0.343643</td>\n",
       "      <td>28</td>\n",
       "      <td>860</td>\n",
       "      <td>2600</td>\n",
       "    </tr>\n",
       "    <tr>\n",
       "      <th>3</th>\n",
       "      <td>2009</td>\n",
       "      <td>0.705720</td>\n",
       "      <td>0.709748</td>\n",
       "      <td>0.700973</td>\n",
       "      <td>0.266785</td>\n",
       "      <td>37</td>\n",
       "      <td>1297</td>\n",
       "      <td>2800</td>\n",
       "    </tr>\n",
       "    <tr>\n",
       "      <th>4</th>\n",
       "      <td>2010</td>\n",
       "      <td>0.756949</td>\n",
       "      <td>0.753972</td>\n",
       "      <td>0.761866</td>\n",
       "      <td>0.291350</td>\n",
       "      <td>36</td>\n",
       "      <td>1479</td>\n",
       "      <td>2900</td>\n",
       "    </tr>\n",
       "    <tr>\n",
       "      <th>...</th>\n",
       "      <td>...</td>\n",
       "      <td>...</td>\n",
       "      <td>...</td>\n",
       "      <td>...</td>\n",
       "      <td>...</td>\n",
       "      <td>...</td>\n",
       "      <td>...</td>\n",
       "      <td>...</td>\n",
       "    </tr>\n",
       "    <tr>\n",
       "      <th>2638</th>\n",
       "      <td>2899</td>\n",
       "      <td>0.388483</td>\n",
       "      <td>0.332075</td>\n",
       "      <td>0.442478</td>\n",
       "      <td>0.253378</td>\n",
       "      <td>50</td>\n",
       "      <td>736</td>\n",
       "      <td>1300</td>\n",
       "    </tr>\n",
       "    <tr>\n",
       "      <th>2639</th>\n",
       "      <td>6798</td>\n",
       "      <td>0.315012</td>\n",
       "      <td>0.268390</td>\n",
       "      <td>0.386861</td>\n",
       "      <td>0.142248</td>\n",
       "      <td>38</td>\n",
       "      <td>1233</td>\n",
       "      <td>1300</td>\n",
       "    </tr>\n",
       "    <tr>\n",
       "      <th>2640</th>\n",
       "      <td>6799</td>\n",
       "      <td>0.293423</td>\n",
       "      <td>0.251656</td>\n",
       "      <td>0.349315</td>\n",
       "      <td>0.180658</td>\n",
       "      <td>40</td>\n",
       "      <td>741</td>\n",
       "      <td>1972</td>\n",
       "    </tr>\n",
       "    <tr>\n",
       "      <th>2641</th>\n",
       "      <td>9494</td>\n",
       "      <td>0.283777</td>\n",
       "      <td>0.247478</td>\n",
       "      <td>0.328896</td>\n",
       "      <td>NaN</td>\n",
       "      <td>0</td>\n",
       "      <td>0</td>\n",
       "      <td>0</td>\n",
       "    </tr>\n",
       "    <tr>\n",
       "      <th>2642</th>\n",
       "      <td>9797</td>\n",
       "      <td>0.293981</td>\n",
       "      <td>0.280212</td>\n",
       "      <td>0.355140</td>\n",
       "      <td>0.177744</td>\n",
       "      <td>40</td>\n",
       "      <td>1887</td>\n",
       "      <td>1733</td>\n",
       "    </tr>\n",
       "  </tbody>\n",
       "</table>\n",
       "<p>2643 rows × 8 columns</p>\n",
       "</div>"
      ],
      "text/plain": [
       "     POA_CODE_2021  comp_Yr_12_eq_percent  comp_Yr_12_eq_percent_M  \\\n",
       "0             2000               0.771728                 0.769739   \n",
       "1             2007               0.760864                 0.760563   \n",
       "2             2008               0.809423                 0.801505   \n",
       "3             2009               0.705720                 0.709748   \n",
       "4             2010               0.756949                 0.753972   \n",
       "...            ...                    ...                      ...   \n",
       "2638          2899               0.388483                 0.332075   \n",
       "2639          6798               0.315012                 0.268390   \n",
       "2640          6799               0.293423                 0.251656   \n",
       "2641          9494               0.283777                 0.247478   \n",
       "2642          9797               0.293981                 0.280212   \n",
       "\n",
       "      comp_Yr_12_eq_percent_F  house_repay_to_income  Median_age_persons  \\\n",
       "0                    0.773937               0.290406                  32   \n",
       "1                    0.760977               0.319625                  30   \n",
       "2                    0.816840               0.343643                  28   \n",
       "3                    0.700973               0.266785                  37   \n",
       "4                    0.761866               0.291350                  36   \n",
       "...                       ...                    ...                 ...   \n",
       "2638                 0.442478               0.253378                  50   \n",
       "2639                 0.386861               0.142248                  38   \n",
       "2640                 0.349315               0.180658                  40   \n",
       "2641                 0.328896                    NaN                   0   \n",
       "2642                 0.355140               0.177744                  40   \n",
       "\n",
       "      Median_tot_prsnl_inc_weekly  Median_mortgage_repay_monthly  \n",
       "0                             941                           2800  \n",
       "1                             772                           2500  \n",
       "2                             860                           2600  \n",
       "3                            1297                           2800  \n",
       "4                            1479                           2900  \n",
       "...                           ...                            ...  \n",
       "2638                          736                           1300  \n",
       "2639                         1233                           1300  \n",
       "2640                          741                           1972  \n",
       "2641                            0                              0  \n",
       "2642                         1887                           1733  \n",
       "\n",
       "[2643 rows x 8 columns]"
      ]
     },
     "execution_count": 22,
     "metadata": {},
     "output_type": "execute_result"
    }
   ],
   "source": [
    "dataset2 = dataset[[\"POA_CODE_2021\", \"comp_Yr_12_eq_percent\", \"comp_Yr_12_eq_percent_M\", \"comp_Yr_12_eq_percent_F\", \"house_repay_to_income\", \"Median_age_persons\", \"Median_tot_prsnl_inc_weekly\", \"Median_mortgage_repay_monthly\"]]\n",
    "dataset2"
   ]
  },
  {
   "cell_type": "code",
   "execution_count": 24,
   "metadata": {},
   "outputs": [],
   "source": [
    "dataset2.to_csv('../data/curated/census.csv', header=True, index=False)"
   ]
  },
  {
   "cell_type": "code",
   "execution_count": null,
   "metadata": {},
   "outputs": [],
   "source": []
  }
 ],
 "metadata": {
  "kernelspec": {
   "display_name": "Python 3.9.12 ('base')",
   "language": "python",
   "name": "python3"
  },
  "language_info": {
   "codemirror_mode": {
    "name": "ipython",
    "version": 3
   },
   "file_extension": ".py",
   "mimetype": "text/x-python",
   "name": "python",
   "nbconvert_exporter": "python",
   "pygments_lexer": "ipython3",
   "version": "3.9.12"
  },
  "orig_nbformat": 4,
  "vscode": {
   "interpreter": {
    "hash": "50b73ae79045fb2a523d72b8879c1b1e5088f0693b339db4e6ba67626a420216"
   }
  }
 },
 "nbformat": 4,
 "nbformat_minor": 2
}
