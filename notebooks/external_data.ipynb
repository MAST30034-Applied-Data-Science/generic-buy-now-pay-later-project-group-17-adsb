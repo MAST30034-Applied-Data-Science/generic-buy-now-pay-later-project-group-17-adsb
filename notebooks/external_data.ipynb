{
 "cells": [
  {
   "cell_type": "code",
   "execution_count": 7,
   "metadata": {},
   "outputs": [
    {
     "data": {
      "text/plain": [
       "(PosixPath('../data/pop_zip'), <http.client.HTTPMessage at 0x7fb1177b37f0>)"
      ]
     },
     "execution_count": 7,
     "metadata": {},
     "output_type": "execute_result"
    }
   ],
   "source": [
    "from urllib.request import urlretrieve\n",
    "import zipfile\n",
    "from pathlib import Path\n",
    "import os\n",
    "\n",
    "url = 'https://www.abs.gov.au/census/find-census-data/datapacks/download/2021_GCP_POA_for_AUS_short-header.zip'\n",
    "\n",
    "urlretrieve(url, Path('../data', 'pop_zip'))\n"
   ]
  },
  {
   "cell_type": "code",
   "execution_count": 13,
   "metadata": {},
   "outputs": [],
   "source": [
    "with zipfile.ZipFile('../data/pop_zip', 'r') as zip_ref:\n",
    "    zip_ref.extractall('../data')"
   ]
  },
  {
   "cell_type": "code",
   "execution_count": 14,
   "metadata": {},
   "outputs": [],
   "source": [
    "import shutil\n",
    "\n",
    "shutil.rmtree('../data/Metadata')\n",
    "shutil.rmtree('../data/Readme')"
   ]
  },
  {
   "cell_type": "code",
   "execution_count": 15,
   "metadata": {},
   "outputs": [],
   "source": [
    "os.rename(\"../data/2021 Census GCP Postal Areas for AUS\", \"../data/census\")"
   ]
  },
  {
   "cell_type": "code",
   "execution_count": 18,
   "metadata": {},
   "outputs": [],
   "source": [
    "import pandas as pd\n",
    "G01 = pd.read_csv(\"../data/census/2021Census_G01_AUST_POA.csv\")\n",
    "G02 = pd.read_csv(\"../data/census/2021Census_G02_AUST_POA.csv\")"
   ]
  },
  {
   "cell_type": "code",
   "execution_count": 27,
   "metadata": {},
   "outputs": [],
   "source": [
    "dataset = pd.merge(G01, G02, how=\"outer\", on=[\"POA_CODE_2021\", \"POA_CODE_2021\"])\n",
    "dataset = dataset[[\"POA_CODE_2021\", \"Tot_P_M\", \"Tot_P_F\",\"Tot_P_P\", \"High_yr_schl_comp_Yr_12_eq_M\", \"High_yr_schl_comp_Yr_12_eq_F\", \"High_yr_schl_comp_Yr_12_eq_P\", \"Median_age_persons\", \"Median_mortgage_repay_monthly\", \"Median_tot_prsnl_inc_weekly\", \"Median_tot_hhd_inc_weekly\"]]"
   ]
  },
  {
   "cell_type": "code",
   "execution_count": 28,
   "metadata": {},
   "outputs": [],
   "source": [
    "# Feature Engineering\n",
    "\n",
    "import re\n",
    "\n",
    "def strip_it(code):\n",
    "    return code[3:]\n",
    "\n",
    "dataset['postcode'] = dataset['POA_CODE_2021'].apply(strip_it)\n",
    "dataset['comp_Yr_12_eq_percent'] = dataset['High_yr_schl_comp_Yr_12_eq_P'] / dataset['Tot_P_P']\n",
    "dataset['comp_Yr_12_eq_percent_M'] = dataset['High_yr_schl_comp_Yr_12_eq_M'] / dataset['Tot_P_M']\n",
    "dataset['comp_Yr_12_eq_percent_F'] = dataset['High_yr_schl_comp_Yr_12_eq_F'] / dataset['Tot_P_F']\n",
    "dataset['house_repay_to_income'] = dataset[\"Median_mortgage_repay_monthly\"] / (dataset[\"Median_tot_hhd_inc_weekly\"] * 4.333333)\n",
    "\n",
    "\n",
    "# \"Median_age_persons\", \"Median_mortgage_repay_monthly\", \"Median_tot_prsnl_inc_weekly\", \"Median_tot_hhd_inc_weekly\""
   ]
  },
  {
   "cell_type": "code",
   "execution_count": 29,
   "metadata": {},
   "outputs": [
    {
     "data": {
      "text/html": [
       "<div>\n",
       "<style scoped>\n",
       "    .dataframe tbody tr th:only-of-type {\n",
       "        vertical-align: middle;\n",
       "    }\n",
       "\n",
       "    .dataframe tbody tr th {\n",
       "        vertical-align: top;\n",
       "    }\n",
       "\n",
       "    .dataframe thead th {\n",
       "        text-align: right;\n",
       "    }\n",
       "</style>\n",
       "<table border=\"1\" class=\"dataframe\">\n",
       "  <thead>\n",
       "    <tr style=\"text-align: right;\">\n",
       "      <th></th>\n",
       "      <th>postcode</th>\n",
       "      <th>comp_Yr_12_eq_percent</th>\n",
       "      <th>comp_Yr_12_eq_percent_M</th>\n",
       "      <th>comp_Yr_12_eq_percent_F</th>\n",
       "      <th>house_repay_to_income</th>\n",
       "      <th>Median_age_persons</th>\n",
       "      <th>Median_tot_prsnl_inc_weekly</th>\n",
       "      <th>Median_mortgage_repay_monthly</th>\n",
       "    </tr>\n",
       "  </thead>\n",
       "  <tbody>\n",
       "    <tr>\n",
       "      <th>0</th>\n",
       "      <td>2000</td>\n",
       "      <td>0.771728</td>\n",
       "      <td>0.769739</td>\n",
       "      <td>0.773937</td>\n",
       "      <td>0.290406</td>\n",
       "      <td>32</td>\n",
       "      <td>941</td>\n",
       "      <td>2800</td>\n",
       "    </tr>\n",
       "    <tr>\n",
       "      <th>1</th>\n",
       "      <td>2007</td>\n",
       "      <td>0.760864</td>\n",
       "      <td>0.760563</td>\n",
       "      <td>0.760977</td>\n",
       "      <td>0.319625</td>\n",
       "      <td>30</td>\n",
       "      <td>772</td>\n",
       "      <td>2500</td>\n",
       "    </tr>\n",
       "    <tr>\n",
       "      <th>2</th>\n",
       "      <td>2008</td>\n",
       "      <td>0.809423</td>\n",
       "      <td>0.801505</td>\n",
       "      <td>0.816840</td>\n",
       "      <td>0.343643</td>\n",
       "      <td>28</td>\n",
       "      <td>860</td>\n",
       "      <td>2600</td>\n",
       "    </tr>\n",
       "    <tr>\n",
       "      <th>3</th>\n",
       "      <td>2009</td>\n",
       "      <td>0.705720</td>\n",
       "      <td>0.709748</td>\n",
       "      <td>0.700973</td>\n",
       "      <td>0.266785</td>\n",
       "      <td>37</td>\n",
       "      <td>1297</td>\n",
       "      <td>2800</td>\n",
       "    </tr>\n",
       "    <tr>\n",
       "      <th>4</th>\n",
       "      <td>2010</td>\n",
       "      <td>0.756949</td>\n",
       "      <td>0.753972</td>\n",
       "      <td>0.761866</td>\n",
       "      <td>0.291350</td>\n",
       "      <td>36</td>\n",
       "      <td>1479</td>\n",
       "      <td>2900</td>\n",
       "    </tr>\n",
       "    <tr>\n",
       "      <th>...</th>\n",
       "      <td>...</td>\n",
       "      <td>...</td>\n",
       "      <td>...</td>\n",
       "      <td>...</td>\n",
       "      <td>...</td>\n",
       "      <td>...</td>\n",
       "      <td>...</td>\n",
       "      <td>...</td>\n",
       "    </tr>\n",
       "    <tr>\n",
       "      <th>2638</th>\n",
       "      <td>2899</td>\n",
       "      <td>0.388483</td>\n",
       "      <td>0.332075</td>\n",
       "      <td>0.442478</td>\n",
       "      <td>0.253378</td>\n",
       "      <td>50</td>\n",
       "      <td>736</td>\n",
       "      <td>1300</td>\n",
       "    </tr>\n",
       "    <tr>\n",
       "      <th>2639</th>\n",
       "      <td>6798</td>\n",
       "      <td>0.315012</td>\n",
       "      <td>0.268390</td>\n",
       "      <td>0.386861</td>\n",
       "      <td>0.142248</td>\n",
       "      <td>38</td>\n",
       "      <td>1233</td>\n",
       "      <td>1300</td>\n",
       "    </tr>\n",
       "    <tr>\n",
       "      <th>2640</th>\n",
       "      <td>6799</td>\n",
       "      <td>0.293423</td>\n",
       "      <td>0.251656</td>\n",
       "      <td>0.349315</td>\n",
       "      <td>0.180658</td>\n",
       "      <td>40</td>\n",
       "      <td>741</td>\n",
       "      <td>1972</td>\n",
       "    </tr>\n",
       "    <tr>\n",
       "      <th>2641</th>\n",
       "      <td>9494</td>\n",
       "      <td>0.283777</td>\n",
       "      <td>0.247478</td>\n",
       "      <td>0.328896</td>\n",
       "      <td>NaN</td>\n",
       "      <td>0</td>\n",
       "      <td>0</td>\n",
       "      <td>0</td>\n",
       "    </tr>\n",
       "    <tr>\n",
       "      <th>2642</th>\n",
       "      <td>9797</td>\n",
       "      <td>0.293981</td>\n",
       "      <td>0.280212</td>\n",
       "      <td>0.355140</td>\n",
       "      <td>0.177744</td>\n",
       "      <td>40</td>\n",
       "      <td>1887</td>\n",
       "      <td>1733</td>\n",
       "    </tr>\n",
       "  </tbody>\n",
       "</table>\n",
       "<p>2643 rows × 8 columns</p>\n",
       "</div>"
      ],
      "text/plain": [
       "     postcode  comp_Yr_12_eq_percent  comp_Yr_12_eq_percent_M  \\\n",
       "0        2000               0.771728                 0.769739   \n",
       "1        2007               0.760864                 0.760563   \n",
       "2        2008               0.809423                 0.801505   \n",
       "3        2009               0.705720                 0.709748   \n",
       "4        2010               0.756949                 0.753972   \n",
       "...       ...                    ...                      ...   \n",
       "2638     2899               0.388483                 0.332075   \n",
       "2639     6798               0.315012                 0.268390   \n",
       "2640     6799               0.293423                 0.251656   \n",
       "2641     9494               0.283777                 0.247478   \n",
       "2642     9797               0.293981                 0.280212   \n",
       "\n",
       "      comp_Yr_12_eq_percent_F  house_repay_to_income  Median_age_persons  \\\n",
       "0                    0.773937               0.290406                  32   \n",
       "1                    0.760977               0.319625                  30   \n",
       "2                    0.816840               0.343643                  28   \n",
       "3                    0.700973               0.266785                  37   \n",
       "4                    0.761866               0.291350                  36   \n",
       "...                       ...                    ...                 ...   \n",
       "2638                 0.442478               0.253378                  50   \n",
       "2639                 0.386861               0.142248                  38   \n",
       "2640                 0.349315               0.180658                  40   \n",
       "2641                 0.328896                    NaN                   0   \n",
       "2642                 0.355140               0.177744                  40   \n",
       "\n",
       "      Median_tot_prsnl_inc_weekly  Median_mortgage_repay_monthly  \n",
       "0                             941                           2800  \n",
       "1                             772                           2500  \n",
       "2                             860                           2600  \n",
       "3                            1297                           2800  \n",
       "4                            1479                           2900  \n",
       "...                           ...                            ...  \n",
       "2638                          736                           1300  \n",
       "2639                         1233                           1300  \n",
       "2640                          741                           1972  \n",
       "2641                            0                              0  \n",
       "2642                         1887                           1733  \n",
       "\n",
       "[2643 rows x 8 columns]"
      ]
     },
     "execution_count": 29,
     "metadata": {},
     "output_type": "execute_result"
    }
   ],
   "source": [
    "dataset2 = dataset[[\"postcode\", \"comp_Yr_12_eq_percent\", \"comp_Yr_12_eq_percent_M\", \"comp_Yr_12_eq_percent_F\", \"house_repay_to_income\", \"Median_age_persons\", \"Median_tot_prsnl_inc_weekly\", \"Median_mortgage_repay_monthly\"]]\n",
    "dataset2"
   ]
  },
  {
   "cell_type": "code",
   "execution_count": 31,
   "metadata": {},
   "outputs": [
    {
     "ename": "ImportError",
     "evalue": "Unable to find a usable engine; tried using: 'pyarrow', 'fastparquet'.\nA suitable version of pyarrow or fastparquet is required for parquet support.\nTrying to import the above resulted in these errors:\n - Missing optional dependency 'pyarrow'. pyarrow is required for parquet support. Use pip or conda to install pyarrow.\n - Missing optional dependency 'fastparquet'. fastparquet is required for parquet support. Use pip or conda to install fastparquet.",
     "output_type": "error",
     "traceback": [
      "\u001b[0;31m---------------------------------------------------------------------------\u001b[0m",
      "\u001b[0;31mImportError\u001b[0m                               Traceback (most recent call last)",
      "\u001b[1;32m/Users/mac-02114831/Documents/GitHub/generic-buy-now-pay-later-project-group-17-adsb/notebooks/external_data.ipynb Cell 9\u001b[0m in \u001b[0;36m<cell line: 1>\u001b[0;34m()\u001b[0m\n\u001b[0;32m----> <a href='vscode-notebook-cell:/Users/mac-02114831/Documents/GitHub/generic-buy-now-pay-later-project-group-17-adsb/notebooks/external_data.ipynb#X15sZmlsZQ%3D%3D?line=0'>1</a>\u001b[0m dataset2\u001b[39m.\u001b[39;49mto_parquet(\u001b[39m'\u001b[39;49m\u001b[39m../data/curated/census.csv\u001b[39;49m\u001b[39m'\u001b[39;49m, header\u001b[39m=\u001b[39;49m\u001b[39mTrue\u001b[39;49;00m, index\u001b[39m=\u001b[39;49m\u001b[39mFalse\u001b[39;49;00m)\n",
      "File \u001b[0;32m~/opt/anaconda3/lib/python3.9/site-packages/pandas/util/_decorators.py:207\u001b[0m, in \u001b[0;36mdeprecate_kwarg.<locals>._deprecate_kwarg.<locals>.wrapper\u001b[0;34m(*args, **kwargs)\u001b[0m\n\u001b[1;32m    205\u001b[0m     \u001b[39melse\u001b[39;00m:\n\u001b[1;32m    206\u001b[0m         kwargs[new_arg_name] \u001b[39m=\u001b[39m new_arg_value\n\u001b[0;32m--> 207\u001b[0m \u001b[39mreturn\u001b[39;00m func(\u001b[39m*\u001b[39;49margs, \u001b[39m*\u001b[39;49m\u001b[39m*\u001b[39;49mkwargs)\n",
      "File \u001b[0;32m~/opt/anaconda3/lib/python3.9/site-packages/pandas/core/frame.py:2835\u001b[0m, in \u001b[0;36mDataFrame.to_parquet\u001b[0;34m(self, path, engine, compression, index, partition_cols, storage_options, **kwargs)\u001b[0m\n\u001b[1;32m   2749\u001b[0m \u001b[39m\"\"\"\u001b[39;00m\n\u001b[1;32m   2750\u001b[0m \u001b[39mWrite a DataFrame to the binary parquet format.\u001b[39;00m\n\u001b[1;32m   2751\u001b[0m \n\u001b[0;32m   (...)\u001b[0m\n\u001b[1;32m   2831\u001b[0m \u001b[39m>>> content = f.read()\u001b[39;00m\n\u001b[1;32m   2832\u001b[0m \u001b[39m\"\"\"\u001b[39;00m\n\u001b[1;32m   2833\u001b[0m \u001b[39mfrom\u001b[39;00m \u001b[39mpandas\u001b[39;00m\u001b[39m.\u001b[39;00m\u001b[39mio\u001b[39;00m\u001b[39m.\u001b[39;00m\u001b[39mparquet\u001b[39;00m \u001b[39mimport\u001b[39;00m to_parquet\n\u001b[0;32m-> 2835\u001b[0m \u001b[39mreturn\u001b[39;00m to_parquet(\n\u001b[1;32m   2836\u001b[0m     \u001b[39mself\u001b[39;49m,\n\u001b[1;32m   2837\u001b[0m     path,\n\u001b[1;32m   2838\u001b[0m     engine,\n\u001b[1;32m   2839\u001b[0m     compression\u001b[39m=\u001b[39;49mcompression,\n\u001b[1;32m   2840\u001b[0m     index\u001b[39m=\u001b[39;49mindex,\n\u001b[1;32m   2841\u001b[0m     partition_cols\u001b[39m=\u001b[39;49mpartition_cols,\n\u001b[1;32m   2842\u001b[0m     storage_options\u001b[39m=\u001b[39;49mstorage_options,\n\u001b[1;32m   2843\u001b[0m     \u001b[39m*\u001b[39;49m\u001b[39m*\u001b[39;49mkwargs,\n\u001b[1;32m   2844\u001b[0m )\n",
      "File \u001b[0;32m~/opt/anaconda3/lib/python3.9/site-packages/pandas/io/parquet.py:416\u001b[0m, in \u001b[0;36mto_parquet\u001b[0;34m(df, path, engine, compression, index, storage_options, partition_cols, **kwargs)\u001b[0m\n\u001b[1;32m    414\u001b[0m \u001b[39mif\u001b[39;00m \u001b[39misinstance\u001b[39m(partition_cols, \u001b[39mstr\u001b[39m):\n\u001b[1;32m    415\u001b[0m     partition_cols \u001b[39m=\u001b[39m [partition_cols]\n\u001b[0;32m--> 416\u001b[0m impl \u001b[39m=\u001b[39m get_engine(engine)\n\u001b[1;32m    418\u001b[0m path_or_buf: FilePath \u001b[39m|\u001b[39m WriteBuffer[\u001b[39mbytes\u001b[39m] \u001b[39m=\u001b[39m io\u001b[39m.\u001b[39mBytesIO() \u001b[39mif\u001b[39;00m path \u001b[39mis\u001b[39;00m \u001b[39mNone\u001b[39;00m \u001b[39melse\u001b[39;00m path\n\u001b[1;32m    420\u001b[0m impl\u001b[39m.\u001b[39mwrite(\n\u001b[1;32m    421\u001b[0m     df,\n\u001b[1;32m    422\u001b[0m     path_or_buf,\n\u001b[0;32m   (...)\u001b[0m\n\u001b[1;32m    427\u001b[0m     \u001b[39m*\u001b[39m\u001b[39m*\u001b[39mkwargs,\n\u001b[1;32m    428\u001b[0m )\n",
      "File \u001b[0;32m~/opt/anaconda3/lib/python3.9/site-packages/pandas/io/parquet.py:52\u001b[0m, in \u001b[0;36mget_engine\u001b[0;34m(engine)\u001b[0m\n\u001b[1;32m     49\u001b[0m         \u001b[39mexcept\u001b[39;00m \u001b[39mImportError\u001b[39;00m \u001b[39mas\u001b[39;00m err:\n\u001b[1;32m     50\u001b[0m             error_msgs \u001b[39m+\u001b[39m\u001b[39m=\u001b[39m \u001b[39m\"\u001b[39m\u001b[39m\\n\u001b[39;00m\u001b[39m - \u001b[39m\u001b[39m\"\u001b[39m \u001b[39m+\u001b[39m \u001b[39mstr\u001b[39m(err)\n\u001b[0;32m---> 52\u001b[0m     \u001b[39mraise\u001b[39;00m \u001b[39mImportError\u001b[39;00m(\n\u001b[1;32m     53\u001b[0m         \u001b[39m\"\u001b[39m\u001b[39mUnable to find a usable engine; \u001b[39m\u001b[39m\"\u001b[39m\n\u001b[1;32m     54\u001b[0m         \u001b[39m\"\u001b[39m\u001b[39mtried using: \u001b[39m\u001b[39m'\u001b[39m\u001b[39mpyarrow\u001b[39m\u001b[39m'\u001b[39m\u001b[39m, \u001b[39m\u001b[39m'\u001b[39m\u001b[39mfastparquet\u001b[39m\u001b[39m'\u001b[39m\u001b[39m.\u001b[39m\u001b[39m\\n\u001b[39;00m\u001b[39m\"\u001b[39m\n\u001b[1;32m     55\u001b[0m         \u001b[39m\"\u001b[39m\u001b[39mA suitable version of \u001b[39m\u001b[39m\"\u001b[39m\n\u001b[1;32m     56\u001b[0m         \u001b[39m\"\u001b[39m\u001b[39mpyarrow or fastparquet is required for parquet \u001b[39m\u001b[39m\"\u001b[39m\n\u001b[1;32m     57\u001b[0m         \u001b[39m\"\u001b[39m\u001b[39msupport.\u001b[39m\u001b[39m\\n\u001b[39;00m\u001b[39m\"\u001b[39m\n\u001b[1;32m     58\u001b[0m         \u001b[39m\"\u001b[39m\u001b[39mTrying to import the above resulted in these errors:\u001b[39m\u001b[39m\"\u001b[39m\n\u001b[1;32m     59\u001b[0m         \u001b[39mf\u001b[39m\u001b[39m\"\u001b[39m\u001b[39m{\u001b[39;00merror_msgs\u001b[39m}\u001b[39;00m\u001b[39m\"\u001b[39m\n\u001b[1;32m     60\u001b[0m     )\n\u001b[1;32m     62\u001b[0m \u001b[39mif\u001b[39;00m engine \u001b[39m==\u001b[39m \u001b[39m\"\u001b[39m\u001b[39mpyarrow\u001b[39m\u001b[39m\"\u001b[39m:\n\u001b[1;32m     63\u001b[0m     \u001b[39mreturn\u001b[39;00m PyArrowImpl()\n",
      "\u001b[0;31mImportError\u001b[0m: Unable to find a usable engine; tried using: 'pyarrow', 'fastparquet'.\nA suitable version of pyarrow or fastparquet is required for parquet support.\nTrying to import the above resulted in these errors:\n - Missing optional dependency 'pyarrow'. pyarrow is required for parquet support. Use pip or conda to install pyarrow.\n - Missing optional dependency 'fastparquet'. fastparquet is required for parquet support. Use pip or conda to install fastparquet."
     ]
    }
   ],
   "source": [
    "dataset2.to_parquet('../data/curated/census.csv', header=True, index=False)"
   ]
  },
  {
   "cell_type": "code",
   "execution_count": null,
   "metadata": {},
   "outputs": [],
   "source": []
  }
 ],
 "metadata": {
  "kernelspec": {
   "display_name": "Python 3.9.12 ('base')",
   "language": "python",
   "name": "python3"
  },
  "language_info": {
   "codemirror_mode": {
    "name": "ipython",
    "version": 3
   },
   "file_extension": ".py",
   "mimetype": "text/x-python",
   "name": "python",
   "nbconvert_exporter": "python",
   "pygments_lexer": "ipython3",
   "version": "3.9.12"
  },
  "orig_nbformat": 4,
  "vscode": {
   "interpreter": {
    "hash": "50b73ae79045fb2a523d72b8879c1b1e5088f0693b339db4e6ba67626a420216"
   }
  }
 },
 "nbformat": 4,
 "nbformat_minor": 2
}
