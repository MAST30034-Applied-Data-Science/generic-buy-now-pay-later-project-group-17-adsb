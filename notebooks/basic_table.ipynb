{
 "cells": [
  {
   "cell_type": "code",
   "execution_count": 1,
   "id": "f2d8b34d-eecf-41c2-b408-1851caff1fbe",
   "metadata": {},
   "outputs": [],
   "source": [
    "import pandas as pd\n",
    "import numpy as np\n",
    "\n",
    "data_directory = \"../data/\"\n",
    "tables_directory = data_directory + \"tables/\""
   ]
  },
  {
   "cell_type": "code",
   "execution_count": 2,
   "id": "f6f01b6e-0780-41d0-840a-1eead1f08e6f",
   "metadata": {},
   "outputs": [
    {
     "data": {
      "text/html": [
       "<div>\n",
       "<style scoped>\n",
       "    .dataframe tbody tr th:only-of-type {\n",
       "        vertical-align: middle;\n",
       "    }\n",
       "\n",
       "    .dataframe tbody tr th {\n",
       "        vertical-align: top;\n",
       "    }\n",
       "\n",
       "    .dataframe thead th {\n",
       "        text-align: right;\n",
       "    }\n",
       "</style>\n",
       "<table border=\"1\" class=\"dataframe\">\n",
       "  <thead>\n",
       "    <tr style=\"text-align: right;\">\n",
       "      <th></th>\n",
       "      <th>name</th>\n",
       "      <th>address</th>\n",
       "      <th>state</th>\n",
       "      <th>postcode</th>\n",
       "      <th>gender</th>\n",
       "      <th>consumer_id</th>\n",
       "    </tr>\n",
       "  </thead>\n",
       "  <tbody>\n",
       "    <tr>\n",
       "      <th>0</th>\n",
       "      <td>Yolanda Williams</td>\n",
       "      <td>413 Haney Gardens Apt. 742</td>\n",
       "      <td>WA</td>\n",
       "      <td>6935</td>\n",
       "      <td>Female</td>\n",
       "      <td>1195503</td>\n",
       "    </tr>\n",
       "    <tr>\n",
       "      <th>1</th>\n",
       "      <td>Mary Smith</td>\n",
       "      <td>3764 Amber Oval</td>\n",
       "      <td>NSW</td>\n",
       "      <td>2782</td>\n",
       "      <td>Female</td>\n",
       "      <td>179208</td>\n",
       "    </tr>\n",
       "    <tr>\n",
       "      <th>2</th>\n",
       "      <td>Jill Jones MD</td>\n",
       "      <td>40693 Henry Greens</td>\n",
       "      <td>NT</td>\n",
       "      <td>862</td>\n",
       "      <td>Female</td>\n",
       "      <td>1194530</td>\n",
       "    </tr>\n",
       "    <tr>\n",
       "      <th>3</th>\n",
       "      <td>Lindsay Jimenez</td>\n",
       "      <td>00653 Davenport Crossroad</td>\n",
       "      <td>NSW</td>\n",
       "      <td>2780</td>\n",
       "      <td>Female</td>\n",
       "      <td>154128</td>\n",
       "    </tr>\n",
       "    <tr>\n",
       "      <th>4</th>\n",
       "      <td>Rebecca Blanchard</td>\n",
       "      <td>9271 Michael Manors Suite 651</td>\n",
       "      <td>WA</td>\n",
       "      <td>6355</td>\n",
       "      <td>Female</td>\n",
       "      <td>712975</td>\n",
       "    </tr>\n",
       "  </tbody>\n",
       "</table>\n",
       "</div>"
      ],
      "text/plain": [
       "                name                        address state  postcode  gender  \\\n",
       "0   Yolanda Williams     413 Haney Gardens Apt. 742    WA      6935  Female   \n",
       "1         Mary Smith                3764 Amber Oval   NSW      2782  Female   \n",
       "2      Jill Jones MD             40693 Henry Greens    NT       862  Female   \n",
       "3    Lindsay Jimenez      00653 Davenport Crossroad   NSW      2780  Female   \n",
       "4  Rebecca Blanchard  9271 Michael Manors Suite 651    WA      6355  Female   \n",
       "\n",
       "   consumer_id  \n",
       "0      1195503  \n",
       "1       179208  \n",
       "2      1194530  \n",
       "3       154128  \n",
       "4       712975  "
      ]
     },
     "execution_count": 2,
     "metadata": {},
     "output_type": "execute_result"
    }
   ],
   "source": [
    "consumer_file_loc = tables_directory + \"tbl_consumer.csv\"\n",
    "consumers = pd.read_csv(consumer_file_loc, sep=\"|\")\n",
    "consumers.head()"
   ]
  },
  {
   "cell_type": "code",
   "execution_count": 3,
   "id": "c5ab327d-73de-46c2-94f3-2dbf06c9db30",
   "metadata": {},
   "outputs": [
    {
     "data": {
      "text/plain": [
       "name           499999\n",
       "address        499999\n",
       "state          499999\n",
       "postcode       499999\n",
       "gender         499999\n",
       "consumer_id    499999\n",
       "dtype: int64"
      ]
     },
     "execution_count": 3,
     "metadata": {},
     "output_type": "execute_result"
    }
   ],
   "source": [
    "consumers.count()"
   ]
  },
  {
   "cell_type": "code",
   "execution_count": 4,
   "id": "c206c075-bddb-478f-b4cb-1ca52152e670",
   "metadata": {},
   "outputs": [
    {
     "data": {
      "text/html": [
       "<div>\n",
       "<style scoped>\n",
       "    .dataframe tbody tr th:only-of-type {\n",
       "        vertical-align: middle;\n",
       "    }\n",
       "\n",
       "    .dataframe tbody tr th {\n",
       "        vertical-align: top;\n",
       "    }\n",
       "\n",
       "    .dataframe thead th {\n",
       "        text-align: right;\n",
       "    }\n",
       "</style>\n",
       "<table border=\"1\" class=\"dataframe\">\n",
       "  <thead>\n",
       "    <tr style=\"text-align: right;\">\n",
       "      <th></th>\n",
       "      <th>name</th>\n",
       "      <th>tags</th>\n",
       "    </tr>\n",
       "    <tr>\n",
       "      <th>merchant_abn</th>\n",
       "      <th></th>\n",
       "      <th></th>\n",
       "    </tr>\n",
       "  </thead>\n",
       "  <tbody>\n",
       "    <tr>\n",
       "      <th>10023283211</th>\n",
       "      <td>Felis Limited</td>\n",
       "      <td>((furniture, home furnishings and equipment sh...</td>\n",
       "    </tr>\n",
       "    <tr>\n",
       "      <th>10142254217</th>\n",
       "      <td>Arcu Ac Orci Corporation</td>\n",
       "      <td>([cable, satellite, and otHer pay television a...</td>\n",
       "    </tr>\n",
       "    <tr>\n",
       "      <th>10165489824</th>\n",
       "      <td>Nunc Sed Company</td>\n",
       "      <td>([jewelry, watch, clock, and silverware shops]...</td>\n",
       "    </tr>\n",
       "    <tr>\n",
       "      <th>10187291046</th>\n",
       "      <td>Ultricies Dignissim Lacus Foundation</td>\n",
       "      <td>([wAtch, clock, and jewelry repair shops], [b]...</td>\n",
       "    </tr>\n",
       "    <tr>\n",
       "      <th>10192359162</th>\n",
       "      <td>Enim Condimentum PC</td>\n",
       "      <td>([music shops - musical instruments, pianos, a...</td>\n",
       "    </tr>\n",
       "  </tbody>\n",
       "</table>\n",
       "</div>"
      ],
      "text/plain": [
       "                                              name  \\\n",
       "merchant_abn                                         \n",
       "10023283211                          Felis Limited   \n",
       "10142254217               Arcu Ac Orci Corporation   \n",
       "10165489824                       Nunc Sed Company   \n",
       "10187291046   Ultricies Dignissim Lacus Foundation   \n",
       "10192359162                    Enim Condimentum PC   \n",
       "\n",
       "                                                           tags  \n",
       "merchant_abn                                                     \n",
       "10023283211   ((furniture, home furnishings and equipment sh...  \n",
       "10142254217   ([cable, satellite, and otHer pay television a...  \n",
       "10165489824   ([jewelry, watch, clock, and silverware shops]...  \n",
       "10187291046   ([wAtch, clock, and jewelry repair shops], [b]...  \n",
       "10192359162   ([music shops - musical instruments, pianos, a...  "
      ]
     },
     "execution_count": 4,
     "metadata": {},
     "output_type": "execute_result"
    }
   ],
   "source": [
    "merchants_file_loc = tables_directory + \"tbl_merchants.parquet\"\n",
    "merchants = pd.read_parquet(merchants_file_loc)\n",
    "merchants.head()"
   ]
  },
  {
   "cell_type": "code",
   "execution_count": 5,
   "id": "812c2904-7c66-4548-99c0-59f37f214007",
   "metadata": {},
   "outputs": [
    {
     "data": {
      "text/plain": [
       "name    4026\n",
       "tags    4026\n",
       "dtype: int64"
      ]
     },
     "execution_count": 5,
     "metadata": {},
     "output_type": "execute_result"
    }
   ],
   "source": [
    "merchants.count()"
   ]
  },
  {
   "cell_type": "code",
   "execution_count": 6,
   "id": "4550c118-4d42-4550-8038-8bed234105bd",
   "metadata": {},
   "outputs": [
    {
     "data": {
      "text/html": [
       "<div>\n",
       "<style scoped>\n",
       "    .dataframe tbody tr th:only-of-type {\n",
       "        vertical-align: middle;\n",
       "    }\n",
       "\n",
       "    .dataframe tbody tr th {\n",
       "        vertical-align: top;\n",
       "    }\n",
       "\n",
       "    .dataframe thead th {\n",
       "        text-align: right;\n",
       "    }\n",
       "</style>\n",
       "<table border=\"1\" class=\"dataframe\">\n",
       "  <thead>\n",
       "    <tr style=\"text-align: right;\">\n",
       "      <th></th>\n",
       "      <th>user_id</th>\n",
       "      <th>consumer_id</th>\n",
       "    </tr>\n",
       "  </thead>\n",
       "  <tbody>\n",
       "    <tr>\n",
       "      <th>0</th>\n",
       "      <td>1</td>\n",
       "      <td>1195503</td>\n",
       "    </tr>\n",
       "    <tr>\n",
       "      <th>1</th>\n",
       "      <td>2</td>\n",
       "      <td>179208</td>\n",
       "    </tr>\n",
       "    <tr>\n",
       "      <th>2</th>\n",
       "      <td>3</td>\n",
       "      <td>1194530</td>\n",
       "    </tr>\n",
       "    <tr>\n",
       "      <th>3</th>\n",
       "      <td>4</td>\n",
       "      <td>154128</td>\n",
       "    </tr>\n",
       "    <tr>\n",
       "      <th>4</th>\n",
       "      <td>5</td>\n",
       "      <td>712975</td>\n",
       "    </tr>\n",
       "  </tbody>\n",
       "</table>\n",
       "</div>"
      ],
      "text/plain": [
       "   user_id  consumer_id\n",
       "0        1      1195503\n",
       "1        2       179208\n",
       "2        3      1194530\n",
       "3        4       154128\n",
       "4        5       712975"
      ]
     },
     "execution_count": 6,
     "metadata": {},
     "output_type": "execute_result"
    }
   ],
   "source": [
    "consumers_info_loc = tables_directory + \"consumer_user_details.parquet\"\n",
    "consumers_info = pd.read_parquet(consumers_info_loc)\n",
    "consumers_info.head()"
   ]
  },
  {
   "cell_type": "code",
   "execution_count": 7,
   "id": "c37c9d09-88b3-45ac-a24e-d2cded08db64",
   "metadata": {},
   "outputs": [
    {
     "data": {
      "text/plain": [
       "user_id        499999\n",
       "consumer_id    499999\n",
       "dtype: int64"
      ]
     },
     "execution_count": 7,
     "metadata": {},
     "output_type": "execute_result"
    }
   ],
   "source": [
    "consumers_info.count()"
   ]
  }
 ],
 "metadata": {
  "kernelspec": {
   "display_name": "Python 3 (ipykernel)",
   "language": "python",
   "name": "python3"
  },
  "language_info": {
   "codemirror_mode": {
    "name": "ipython",
    "version": 3
   },
   "file_extension": ".py",
   "mimetype": "text/x-python",
   "name": "python",
   "nbconvert_exporter": "python",
   "pygments_lexer": "ipython3",
   "version": "3.9.12"
  }
 },
 "nbformat": 4,
 "nbformat_minor": 5
}
