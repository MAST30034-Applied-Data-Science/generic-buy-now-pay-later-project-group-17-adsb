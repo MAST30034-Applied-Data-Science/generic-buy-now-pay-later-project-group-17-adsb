{
 "cells": [
  {
   "cell_type": "code",
<<<<<<< Updated upstream
   "execution_count": 40,
=======
   "execution_count": 3,
>>>>>>> Stashed changes
   "id": "e44aab48",
   "metadata": {
    "ExecuteTime": {
     "end_time": "2022-10-09T14:26:01.974786Z",
     "start_time": "2022-10-09T14:26:01.968920Z"
    }
   },
   "outputs": [],
   "source": [
    "# from pyspark.sql import SparkSession\n",
    "# import pyspark.pandas as ps\n",
    "import numpy as np\n",
    "import pandas as pd\n",
    "import matplotlib.pyplot as plt\n",
    "import seaborn as sns\n",
    "import random\n",
    "from sklearn.preprocessing import RobustScaler\n",
    "from sklearn import linear_model\n",
    "from sklearn import metrics\n",
    "import re\n",
    "\n",
    "# spark = (\n",
    "#     SparkSession.builder.appName(\"BNPL\")\n",
    "#     .config(\"spark.sql.repl.eagerEval.enabled\", True) \n",
    "#     .config(\"spark.sql.parquet.cacheMetadata\", \"true\")\n",
    "#     .config(\"spark.driver.memory\", \"8g\")\n",
    "#     .getOrCreate()\n",
    "# )\n",
    "\n",
    "data_directory = \"../data/\"\n",
    "tables_directory = data_directory + \"tables/\"\n",
    "merchant_fraud_directory = tables_directory + \"merchant_fraud_probability.csv\"\n",
    "consumer_fraud_directory = tables_directory + \"consumer_fraud_probability.csv\"\n",
    "transactions_directory = \"../data/curated/transactions.parquet\"\n",
    "\n",
    "random.seed(42)"
   ]
  },
  {
   "cell_type": "code",
<<<<<<< Updated upstream
   "execution_count": 5,
=======
   "execution_count": 4,
>>>>>>> Stashed changes
   "id": "a1083a04",
   "metadata": {
    "ExecuteTime": {
     "end_time": "2022-10-09T14:26:23.258503Z",
     "start_time": "2022-10-09T14:26:02.871573Z"
    }
   },
   "outputs": [],
   "source": [
    "# Getting transaction data and remove merchants not listed in transactions\n",
    "def normalise_tags(merchants):\n",
    "    merchants[[\"sector_tags\", \"revenue_band\", \"take_rate\"]] = merchants.apply(lambda row: process_tags(row.tags),axis='columns', result_type='expand')\n",
    "    merchants[\"sector_tags\"] = merchants[\"sector_tags\"].str.lower().str.replace(' +', ' ', regex=True).str.strip()\n",
    "    return merchants\n",
    "def process_tags(tag):\n",
    "    result = re.search(r'^[\\[\\(]{2}(.+?(?:, ?.+)*)[\\]\\)], [\\[\\(]([a-z])[\\]\\)], [\\(\\[].+: (\\d+\\.?\\d+)[\\)\\]]{2}$', tag)\n",
    "    return result.group(1), result.group(2), result.group(3)\n",
    "\n",
    "merchants = normalise_tags(pd.read_parquet(\"../data/tables/tbl_merchants.parquet\"))\n",
    "transactions_directories = [\"../data/tables/transactions_20210228_20210827_snapshot\"\n",
    "                  ,\"../data/tables/transactions_20210828_20220227_snapshot\"\n",
    "                  ,\"../data/tables/transactions_20220228_20220828_snapshot\"]\n",
    "transactions = pd.concat([pd.read_parquet(trans_dir) for trans_dir in transactions_directories])\n",
    "transactions = transactions[transactions[\"merchant_abn\"].isin(merchants.index.to_numpy())]\n",
    "merchant_fraud_prob = pd.read_csv(merchant_fraud_directory)\n",
    "consumer_fraud_prob = pd.read_csv(consumer_fraud_directory)\n",
    "merchant_fraud_prob[\"order_datetime\"] = pd.to_datetime(merchant_fraud_prob[\"order_datetime\"])\n",
<<<<<<< Updated upstream
    "consumer_fraud_prob[\"order_datetime\"] = pd.to_datetime(consumer_fraud_prob[\"order_datetime\"])"
=======
    "consumer_fraud_prob[\"order_datetime\"] = pd.to_datetime(consumer_fraud_prob[\"order_datetime\"])\n",
    "transactions[\"order_datetime\"] = pd.to_datetime(transactions[\"order_datetime\"])"
>>>>>>> Stashed changes
   ]
  },
  {
   "cell_type": "code",
<<<<<<< Updated upstream
   "execution_count": 6,
=======
   "execution_count": 5,
>>>>>>> Stashed changes
   "id": "47259db0",
   "metadata": {
    "ExecuteTime": {
     "end_time": "2022-10-09T14:26:33.180779Z",
     "start_time": "2022-10-09T14:26:29.905327Z"
    }
   },
   "outputs": [],
   "source": [
    "merchant_fraud_total = transactions.merge(merchant_fraud_prob, how='inner', on=['merchant_abn', 'order_datetime'])\n",
    "consumer_fraud_total = transactions.merge(consumer_fraud_prob, how='inner', on=['user_id', 'order_datetime'])"
   ]
  },
  {
   "cell_type": "markdown",
   "id": "f48cc338",
   "metadata": {},
   "source": [
    "According to consumers. First we will need to get the right data which is normalized difference from median."
   ]
  },
  {
   "cell_type": "code",
<<<<<<< Updated upstream
   "execution_count": 10,
=======
   "execution_count": 6,
>>>>>>> Stashed changes
   "id": "642f865e",
   "metadata": {
    "ExecuteTime": {
     "end_time": "2022-10-09T14:26:41.899477Z",
     "start_time": "2022-10-09T14:26:35.901647Z"
    },
    "scrolled": true
   },
   "outputs": [
    {
     "data": {
      "text/html": [
       "<div>\n",
       "<style scoped>\n",
       "    .dataframe tbody tr th:only-of-type {\n",
       "        vertical-align: middle;\n",
       "    }\n",
       "\n",
       "    .dataframe tbody tr th {\n",
       "        vertical-align: top;\n",
       "    }\n",
       "\n",
       "    .dataframe thead th {\n",
       "        text-align: right;\n",
       "    }\n",
       "</style>\n",
       "<table border=\"1\" class=\"dataframe\">\n",
       "  <thead>\n",
       "    <tr style=\"text-align: right;\">\n",
       "      <th></th>\n",
       "      <th>user_id</th>\n",
       "      <th>order_datetime</th>\n",
       "      <th>total_dollar</th>\n",
       "    </tr>\n",
       "  </thead>\n",
       "  <tbody>\n",
       "    <tr>\n",
       "      <th>0</th>\n",
       "      <td>1</td>\n",
       "      <td>2021-02-28</td>\n",
       "      <td>163.668243</td>\n",
       "    </tr>\n",
       "    <tr>\n",
       "      <th>1</th>\n",
       "      <td>1</td>\n",
       "      <td>2021-03-02</td>\n",
       "      <td>301.677498</td>\n",
       "    </tr>\n",
       "    <tr>\n",
       "      <th>2</th>\n",
       "      <td>1</td>\n",
       "      <td>2021-03-04</td>\n",
       "      <td>5.904951</td>\n",
       "    </tr>\n",
       "    <tr>\n",
       "      <th>3</th>\n",
       "      <td>1</td>\n",
       "      <td>2021-03-06</td>\n",
       "      <td>18.135592</td>\n",
       "    </tr>\n",
       "    <tr>\n",
       "      <th>4</th>\n",
       "      <td>1</td>\n",
       "      <td>2021-03-09</td>\n",
       "      <td>64.670772</td>\n",
       "    </tr>\n",
       "    <tr>\n",
       "      <th>...</th>\n",
       "      <td>...</td>\n",
       "      <td>...</td>\n",
       "      <td>...</td>\n",
       "    </tr>\n",
       "    <tr>\n",
       "      <th>8756833</th>\n",
       "      <td>24081</td>\n",
       "      <td>2022-10-19</td>\n",
       "      <td>575.305082</td>\n",
       "    </tr>\n",
       "    <tr>\n",
       "      <th>8756834</th>\n",
       "      <td>24081</td>\n",
       "      <td>2022-10-20</td>\n",
       "      <td>705.340737</td>\n",
       "    </tr>\n",
       "    <tr>\n",
       "      <th>8756835</th>\n",
       "      <td>24081</td>\n",
       "      <td>2022-10-21</td>\n",
       "      <td>5.876394</td>\n",
       "    </tr>\n",
       "    <tr>\n",
       "      <th>8756836</th>\n",
       "      <td>24081</td>\n",
       "      <td>2022-10-24</td>\n",
       "      <td>68.147276</td>\n",
       "    </tr>\n",
       "    <tr>\n",
       "      <th>8756837</th>\n",
       "      <td>24081</td>\n",
       "      <td>2022-10-25</td>\n",
       "      <td>379.534146</td>\n",
       "    </tr>\n",
       "  </tbody>\n",
       "</table>\n",
       "<p>8756838 rows × 3 columns</p>\n",
       "</div>"
      ],
      "text/plain": [
       "         user_id order_datetime  total_dollar\n",
       "0              1     2021-02-28    163.668243\n",
       "1              1     2021-03-02    301.677498\n",
       "2              1     2021-03-04      5.904951\n",
       "3              1     2021-03-06     18.135592\n",
       "4              1     2021-03-09     64.670772\n",
       "...          ...            ...           ...\n",
       "8756833    24081     2022-10-19    575.305082\n",
       "8756834    24081     2022-10-20    705.340737\n",
       "8756835    24081     2022-10-21      5.876394\n",
       "8756836    24081     2022-10-24     68.147276\n",
       "8756837    24081     2022-10-25    379.534146\n",
       "\n",
       "[8756838 rows x 3 columns]"
      ]
     },
<<<<<<< Updated upstream
     "execution_count": 10,
=======
     "execution_count": 6,
>>>>>>> Stashed changes
     "metadata": {},
     "output_type": "execute_result"
    }
   ],
   "source": [
    "# Now we will collate all transactions relating to those consumers and group by day per consumer\n",
    "consumer_transactions_day = transactions.groupby(['user_id', 'order_datetime']).agg(total_dollar=pd.NamedAgg(column='dollar_value', aggfunc=\"sum\")).reset_index()\n",
    "consumer_transactions_day"
   ]
  },
  {
   "cell_type": "markdown",
   "id": "755b5965",
   "metadata": {},
   "source": [
    "Now that we have grouped each transaction by days per customer, we will find all the transactions pertaining to the fraud data and then find the outliers through the IQR and record distances away from median (normalized)"
   ]
  },
  {
   "cell_type": "code",
<<<<<<< Updated upstream
   "execution_count": 19,
=======
   "execution_count": 9,
>>>>>>> Stashed changes
   "id": "f41ada6c",
   "metadata": {
    "ExecuteTime": {
     "end_time": "2022-10-09T14:28:02.233612Z",
     "start_time": "2022-10-09T14:27:27.642903Z"
    }
   },
   "outputs": [],
   "source": [
    "# Median and Quantile Scaling to scale all customers transactions\n",
    "consumer_transactions_day['normal_total_dollar'] = (consumer_transactions_day\n",
    "                                                    .groupby('user_id')['total_dollar']\n",
    "                                                    .apply(lambda x: (x-x.median())/(x.quantile(0.75)-x.quantile(0.25))))\n"
   ]
  },
  {
   "cell_type": "code",
<<<<<<< Updated upstream
   "execution_count": 20,
=======
   "execution_count": 10,
>>>>>>> Stashed changes
   "id": "54daf48f",
   "metadata": {
    "ExecuteTime": {
     "end_time": "2022-10-09T14:28:02.256734Z",
     "start_time": "2022-10-09T14:28:02.237067Z"
    },
    "scrolled": true
   },
   "outputs": [
    {
     "data": {
      "text/html": [
       "<div>\n",
       "<style scoped>\n",
       "    .dataframe tbody tr th:only-of-type {\n",
       "        vertical-align: middle;\n",
       "    }\n",
       "\n",
       "    .dataframe tbody tr th {\n",
       "        vertical-align: top;\n",
       "    }\n",
       "\n",
       "    .dataframe thead th {\n",
       "        text-align: right;\n",
       "    }\n",
       "</style>\n",
       "<table border=\"1\" class=\"dataframe\">\n",
       "  <thead>\n",
       "    <tr style=\"text-align: right;\">\n",
       "      <th></th>\n",
       "      <th>user_id</th>\n",
       "      <th>order_datetime</th>\n",
       "      <th>total_dollar</th>\n",
       "      <th>normal_total_dollar</th>\n",
       "    </tr>\n",
       "  </thead>\n",
       "  <tbody>\n",
       "    <tr>\n",
       "      <th>0</th>\n",
       "      <td>1</td>\n",
       "      <td>2021-02-28</td>\n",
       "      <td>163.668243</td>\n",
       "      <td>0.302918</td>\n",
       "    </tr>\n",
       "    <tr>\n",
       "      <th>1</th>\n",
       "      <td>1</td>\n",
       "      <td>2021-03-02</td>\n",
       "      <td>301.677498</td>\n",
       "      <td>0.969702</td>\n",
       "    </tr>\n",
       "    <tr>\n",
       "      <th>2</th>\n",
       "      <td>1</td>\n",
       "      <td>2021-03-04</td>\n",
       "      <td>5.904951</td>\n",
       "      <td>-0.459306</td>\n",
       "    </tr>\n",
       "    <tr>\n",
       "      <th>3</th>\n",
       "      <td>1</td>\n",
       "      <td>2021-03-06</td>\n",
       "      <td>18.135592</td>\n",
       "      <td>-0.400214</td>\n",
       "    </tr>\n",
       "    <tr>\n",
       "      <th>4</th>\n",
       "      <td>1</td>\n",
       "      <td>2021-03-09</td>\n",
       "      <td>64.670772</td>\n",
       "      <td>-0.175382</td>\n",
       "    </tr>\n",
       "    <tr>\n",
       "      <th>...</th>\n",
       "      <td>...</td>\n",
       "      <td>...</td>\n",
       "      <td>...</td>\n",
       "      <td>...</td>\n",
       "    </tr>\n",
       "    <tr>\n",
       "      <th>8756833</th>\n",
       "      <td>24081</td>\n",
       "      <td>2022-10-19</td>\n",
       "      <td>575.305082</td>\n",
       "      <td>1.838081</td>\n",
       "    </tr>\n",
       "    <tr>\n",
       "      <th>8756834</th>\n",
       "      <td>24081</td>\n",
       "      <td>2022-10-20</td>\n",
       "      <td>705.340737</td>\n",
       "      <td>2.362365</td>\n",
       "    </tr>\n",
       "    <tr>\n",
       "      <th>8756835</th>\n",
       "      <td>24081</td>\n",
       "      <td>2022-10-21</td>\n",
       "      <td>5.876394</td>\n",
       "      <td>-0.457770</td>\n",
       "    </tr>\n",
       "    <tr>\n",
       "      <th>8756836</th>\n",
       "      <td>24081</td>\n",
       "      <td>2022-10-24</td>\n",
       "      <td>68.147276</td>\n",
       "      <td>-0.206703</td>\n",
       "    </tr>\n",
       "    <tr>\n",
       "      <th>8756837</th>\n",
       "      <td>24081</td>\n",
       "      <td>2022-10-25</td>\n",
       "      <td>379.534146</td>\n",
       "      <td>1.048762</td>\n",
       "    </tr>\n",
       "  </tbody>\n",
       "</table>\n",
       "<p>8756838 rows × 4 columns</p>\n",
       "</div>"
      ],
      "text/plain": [
       "         user_id order_datetime  total_dollar  normal_total_dollar\n",
       "0              1     2021-02-28    163.668243             0.302918\n",
       "1              1     2021-03-02    301.677498             0.969702\n",
       "2              1     2021-03-04      5.904951            -0.459306\n",
       "3              1     2021-03-06     18.135592            -0.400214\n",
       "4              1     2021-03-09     64.670772            -0.175382\n",
       "...          ...            ...           ...                  ...\n",
       "8756833    24081     2022-10-19    575.305082             1.838081\n",
       "8756834    24081     2022-10-20    705.340737             2.362365\n",
       "8756835    24081     2022-10-21      5.876394            -0.457770\n",
       "8756836    24081     2022-10-24     68.147276            -0.206703\n",
       "8756837    24081     2022-10-25    379.534146             1.048762\n",
       "\n",
       "[8756838 rows x 4 columns]"
      ]
     },
<<<<<<< Updated upstream
     "execution_count": 20,
=======
     "execution_count": 10,
>>>>>>> Stashed changes
     "metadata": {},
     "output_type": "execute_result"
    }
   ],
   "source": [
    "consumer_transactions_day"
   ]
  },
  {
   "cell_type": "markdown",
   "id": "85ef71be",
   "metadata": {},
   "source": [
    "After Median and Quantile scaling, we can now see that all outliers would have a normal total dollar value of >2. Now we will build a linear model based on given fraud probabilities and scaled distance of the transactions. "
   ]
  },
  {
   "cell_type": "code",
<<<<<<< Updated upstream
   "execution_count": 21,
   "id": "6d7d01e1",
   "metadata": {
    "ExecuteTime": {
     "end_time": "2022-10-05T19:24:11.369076Z",
     "start_time": "2022-10-05T19:24:11.315935Z"
    },
    "scrolled": true
   },
   "outputs": [
    {
     "data": {
      "text/html": [
       "<div>\n",
       "<style scoped>\n",
       "    .dataframe tbody tr th:only-of-type {\n",
       "        vertical-align: middle;\n",
       "    }\n",
       "\n",
       "    .dataframe tbody tr th {\n",
       "        vertical-align: top;\n",
       "    }\n",
       "\n",
       "    .dataframe thead th {\n",
       "        text-align: right;\n",
       "    }\n",
       "</style>\n",
       "<table border=\"1\" class=\"dataframe\">\n",
       "  <thead>\n",
       "    <tr style=\"text-align: right;\">\n",
       "      <th></th>\n",
       "      <th>user_id</th>\n",
       "      <th>order_datetime</th>\n",
       "      <th>fraud_probability</th>\n",
       "    </tr>\n",
       "  </thead>\n",
       "  <tbody>\n",
       "    <tr>\n",
       "      <th>0</th>\n",
       "      <td>6228</td>\n",
       "      <td>2021-12-19</td>\n",
       "      <td>97.629808</td>\n",
       "    </tr>\n",
       "    <tr>\n",
       "      <th>1</th>\n",
       "      <td>21419</td>\n",
       "      <td>2021-12-10</td>\n",
       "      <td>99.247380</td>\n",
       "    </tr>\n",
       "    <tr>\n",
       "      <th>2</th>\n",
       "      <td>5606</td>\n",
       "      <td>2021-10-17</td>\n",
       "      <td>84.058250</td>\n",
       "    </tr>\n",
       "    <tr>\n",
       "      <th>3</th>\n",
       "      <td>3101</td>\n",
       "      <td>2021-04-17</td>\n",
       "      <td>91.421921</td>\n",
       "    </tr>\n",
       "    <tr>\n",
       "      <th>4</th>\n",
       "      <td>22239</td>\n",
       "      <td>2021-10-19</td>\n",
       "      <td>94.703425</td>\n",
       "    </tr>\n",
       "    <tr>\n",
       "      <th>...</th>\n",
       "      <td>...</td>\n",
       "      <td>...</td>\n",
       "      <td>...</td>\n",
       "    </tr>\n",
       "    <tr>\n",
       "      <th>34859</th>\n",
       "      <td>18466</td>\n",
       "      <td>2022-02-22</td>\n",
       "      <td>8.679873</td>\n",
       "    </tr>\n",
       "    <tr>\n",
       "      <th>34860</th>\n",
       "      <td>17552</td>\n",
       "      <td>2021-12-26</td>\n",
       "      <td>8.349463</td>\n",
       "    </tr>\n",
       "    <tr>\n",
       "      <th>34861</th>\n",
       "      <td>17875</td>\n",
       "      <td>2021-06-27</td>\n",
       "      <td>8.288847</td>\n",
       "    </tr>\n",
       "    <tr>\n",
       "      <th>34862</th>\n",
       "      <td>10401</td>\n",
       "      <td>2021-09-18</td>\n",
       "      <td>8.842216</td>\n",
       "    </tr>\n",
       "    <tr>\n",
       "      <th>34863</th>\n",
       "      <td>18076</td>\n",
       "      <td>2021-11-30</td>\n",
       "      <td>8.542029</td>\n",
       "    </tr>\n",
       "  </tbody>\n",
       "</table>\n",
       "<p>34864 rows × 3 columns</p>\n",
       "</div>"
      ],
      "text/plain": [
       "       user_id order_datetime  fraud_probability\n",
       "0         6228     2021-12-19          97.629808\n",
       "1        21419     2021-12-10          99.247380\n",
       "2         5606     2021-10-17          84.058250\n",
       "3         3101     2021-04-17          91.421921\n",
       "4        22239     2021-10-19          94.703425\n",
       "...        ...            ...                ...\n",
       "34859    18466     2022-02-22           8.679873\n",
       "34860    17552     2021-12-26           8.349463\n",
       "34861    17875     2021-06-27           8.288847\n",
       "34862    10401     2021-09-18           8.842216\n",
       "34863    18076     2021-11-30           8.542029\n",
       "\n",
       "[34864 rows x 3 columns]"
      ]
     },
     "execution_count": 21,
     "metadata": {},
     "output_type": "execute_result"
    }
   ],
   "source": [
    "consumer_fraud_prob"
   ]
  },
  {
   "cell_type": "code",
   "execution_count": 22,
=======
   "execution_count": 11,
>>>>>>> Stashed changes
   "id": "ad9cefcd",
   "metadata": {
    "ExecuteTime": {
     "end_time": "2022-10-09T14:28:04.128535Z",
     "start_time": "2022-10-09T14:28:02.259333Z"
    }
   },
   "outputs": [
    {
     "data": {
      "text/html": [
       "<div>\n",
       "<style scoped>\n",
       "    .dataframe tbody tr th:only-of-type {\n",
       "        vertical-align: middle;\n",
       "    }\n",
       "\n",
       "    .dataframe tbody tr th {\n",
       "        vertical-align: top;\n",
       "    }\n",
       "\n",
       "    .dataframe thead th {\n",
       "        text-align: right;\n",
       "    }\n",
       "</style>\n",
       "<table border=\"1\" class=\"dataframe\">\n",
       "  <thead>\n",
       "    <tr style=\"text-align: right;\">\n",
       "      <th></th>\n",
       "      <th>user_id</th>\n",
       "      <th>order_datetime</th>\n",
       "      <th>total_dollar</th>\n",
       "      <th>normal_total_dollar</th>\n",
       "      <th>fraud_probability</th>\n",
       "    </tr>\n",
       "  </thead>\n",
       "  <tbody>\n",
       "    <tr>\n",
       "      <th>0</th>\n",
       "      <td>1</td>\n",
       "      <td>2022-02-20</td>\n",
       "      <td>2479.076338</td>\n",
       "      <td>11.489677</td>\n",
       "      <td>9.805431</td>\n",
       "    </tr>\n",
       "    <tr>\n",
       "      <th>1</th>\n",
       "      <td>2</td>\n",
       "      <td>2021-08-30</td>\n",
       "      <td>2132.002253</td>\n",
       "      <td>9.594187</td>\n",
       "      <td>9.599514</td>\n",
       "    </tr>\n",
       "    <tr>\n",
       "      <th>2</th>\n",
       "      <td>2</td>\n",
       "      <td>2021-09-25</td>\n",
       "      <td>2236.461666</td>\n",
       "      <td>10.089482</td>\n",
       "      <td>10.069851</td>\n",
       "    </tr>\n",
       "    <tr>\n",
       "      <th>3</th>\n",
       "      <td>3</td>\n",
       "      <td>2021-11-03</td>\n",
       "      <td>2334.493717</td>\n",
       "      <td>10.065918</td>\n",
       "      <td>8.300636</td>\n",
       "    </tr>\n",
       "    <tr>\n",
       "      <th>4</th>\n",
       "      <td>4</td>\n",
       "      <td>2021-10-09</td>\n",
       "      <td>2325.039260</td>\n",
       "      <td>10.299494</td>\n",
       "      <td>9.633302</td>\n",
       "    </tr>\n",
       "    <tr>\n",
       "      <th>...</th>\n",
       "      <td>...</td>\n",
       "      <td>...</td>\n",
       "      <td>...</td>\n",
       "      <td>...</td>\n",
       "      <td>...</td>\n",
       "    </tr>\n",
       "    <tr>\n",
       "      <th>32762</th>\n",
       "      <td>24079</td>\n",
       "      <td>2021-10-12</td>\n",
       "      <td>4708.648444</td>\n",
       "      <td>19.229422</td>\n",
       "      <td>14.948165</td>\n",
       "    </tr>\n",
       "    <tr>\n",
       "      <th>32763</th>\n",
       "      <td>24079</td>\n",
       "      <td>2021-11-08</td>\n",
       "      <td>2816.251072</td>\n",
       "      <td>11.329474</td>\n",
       "      <td>8.940524</td>\n",
       "    </tr>\n",
       "    <tr>\n",
       "      <th>32764</th>\n",
       "      <td>24079</td>\n",
       "      <td>2021-11-26</td>\n",
       "      <td>2784.152043</td>\n",
       "      <td>11.195474</td>\n",
       "      <td>8.838622</td>\n",
       "    </tr>\n",
       "    <tr>\n",
       "      <th>32765</th>\n",
       "      <td>24081</td>\n",
       "      <td>2021-10-08</td>\n",
       "      <td>4320.715449</td>\n",
       "      <td>16.939012</td>\n",
       "      <td>14.343772</td>\n",
       "    </tr>\n",
       "    <tr>\n",
       "      <th>32766</th>\n",
       "      <td>24081</td>\n",
       "      <td>2021-11-28</td>\n",
       "      <td>3522.956288</td>\n",
       "      <td>13.722567</td>\n",
       "      <td>11.695397</td>\n",
       "    </tr>\n",
       "  </tbody>\n",
       "</table>\n",
       "<p>32767 rows × 5 columns</p>\n",
       "</div>"
      ],
      "text/plain": [
       "       user_id order_datetime  total_dollar  normal_total_dollar  \\\n",
       "0            1     2022-02-20   2479.076338            11.489677   \n",
       "1            2     2021-08-30   2132.002253             9.594187   \n",
       "2            2     2021-09-25   2236.461666            10.089482   \n",
       "3            3     2021-11-03   2334.493717            10.065918   \n",
       "4            4     2021-10-09   2325.039260            10.299494   \n",
       "...        ...            ...           ...                  ...   \n",
       "32762    24079     2021-10-12   4708.648444            19.229422   \n",
       "32763    24079     2021-11-08   2816.251072            11.329474   \n",
       "32764    24079     2021-11-26   2784.152043            11.195474   \n",
       "32765    24081     2021-10-08   4320.715449            16.939012   \n",
       "32766    24081     2021-11-28   3522.956288            13.722567   \n",
       "\n",
       "       fraud_probability  \n",
       "0               9.805431  \n",
       "1               9.599514  \n",
       "2              10.069851  \n",
       "3               8.300636  \n",
       "4               9.633302  \n",
       "...                  ...  \n",
       "32762          14.948165  \n",
       "32763           8.940524  \n",
       "32764           8.838622  \n",
       "32765          14.343772  \n",
       "32766          11.695397  \n",
       "\n",
       "[32767 rows x 5 columns]"
      ]
     },
<<<<<<< Updated upstream
     "execution_count": 22,
=======
     "execution_count": 11,
>>>>>>> Stashed changes
     "metadata": {},
     "output_type": "execute_result"
    }
   ],
   "source": [
    "fraud_consumer_norm_prob = consumer_transactions_day.merge(consumer_fraud_prob, how='inner', on=['user_id', 'order_datetime'])\n",
    "fraud_consumer_norm_prob"
   ]
  },
  {
   "cell_type": "code",
<<<<<<< Updated upstream
   "execution_count": 54,
=======
   "execution_count": 20,
>>>>>>> Stashed changes
   "id": "66436cc4",
   "metadata": {
    "ExecuteTime": {
     "end_time": "2022-10-09T14:35:24.560416Z",
     "start_time": "2022-10-09T14:35:24.546358Z"
    }
   },
   "outputs": [],
   "source": [
    "lm = linear_model.LinearRegression()\n",
    "X = fraud_consumer_norm_prob['normal_total_dollar']\n",
    "y = fraud_consumer_norm_prob['fraud_probability']"
   ]
  },
  {
   "cell_type": "code",
<<<<<<< Updated upstream
   "execution_count": 55,
=======
   "execution_count": 21,
>>>>>>> Stashed changes
   "id": "643385af",
   "metadata": {
    "ExecuteTime": {
     "end_time": "2022-10-09T14:35:26.446274Z",
     "start_time": "2022-10-09T14:35:26.408426Z"
    }
   },
   "outputs": [],
   "source": [
    "from sklearn.model_selection import train_test_split\n",
    "X = X.values.reshape(-1, 1)\n",
    "X_train, X_test, y_train, y_test = train_test_split(X, y, test_size=0.1)"
   ]
  },
  {
   "cell_type": "code",
<<<<<<< Updated upstream
   "execution_count": 56,
=======
   "execution_count": 22,
>>>>>>> Stashed changes
   "id": "78827980",
   "metadata": {
    "ExecuteTime": {
     "end_time": "2022-10-09T14:35:26.744493Z",
     "start_time": "2022-10-09T14:35:26.684640Z"
    }
   },
   "outputs": [
    {
     "data": {
      "text/plain": [
       "LinearRegression()"
      ]
     },
<<<<<<< Updated upstream
     "execution_count": 56,
=======
     "execution_count": 22,
>>>>>>> Stashed changes
     "metadata": {},
     "output_type": "execute_result"
    }
   ],
   "source": [
    "lm.fit(X_train,y_train)"
   ]
  },
  {
   "cell_type": "code",
<<<<<<< Updated upstream
   "execution_count": 57,
=======
   "execution_count": 23,
>>>>>>> Stashed changes
   "id": "8b4a091b",
   "metadata": {
    "ExecuteTime": {
     "end_time": "2022-10-09T14:35:27.370944Z",
     "start_time": "2022-10-09T14:35:27.361053Z"
    }
   },
   "outputs": [
    {
     "data": {
      "text/plain": [
<<<<<<< Updated upstream
       "array([0.27893171])"
      ]
     },
     "execution_count": 57,
=======
       "array([0.3404328])"
      ]
     },
     "execution_count": 23,
>>>>>>> Stashed changes
     "metadata": {},
     "output_type": "execute_result"
    }
   ],
   "source": [
    "lm.coef_"
   ]
  },
  {
   "cell_type": "code",
<<<<<<< Updated upstream
   "execution_count": 58,
=======
   "execution_count": 24,
>>>>>>> Stashed changes
   "id": "a0d454be",
   "metadata": {
    "ExecuteTime": {
     "end_time": "2022-10-09T14:35:27.994673Z",
     "start_time": "2022-10-09T14:35:27.988898Z"
    }
   },
   "outputs": [],
   "source": [
    "y_pred = lm.predict(X_test)"
   ]
  },
  {
   "cell_type": "code",
<<<<<<< Updated upstream
   "execution_count": 59,
=======
   "execution_count": 25,
>>>>>>> Stashed changes
   "id": "7617040f",
   "metadata": {
    "ExecuteTime": {
     "end_time": "2022-10-09T14:35:28.663732Z",
     "start_time": "2022-10-09T14:35:28.655218Z"
    }
   },
   "outputs": [
    {
     "data": {
      "text/plain": [
<<<<<<< Updated upstream
       "0.41559230261831015"
      ]
     },
     "execution_count": 59,
=======
       "0.5268505911379817"
      ]
     },
     "execution_count": 25,
>>>>>>> Stashed changes
     "metadata": {},
     "output_type": "execute_result"
    }
   ],
   "source": [
    "metrics.r2_score(y_test, y_pred)"
   ]
  },
  {
   "cell_type": "code",
<<<<<<< Updated upstream
   "execution_count": 60,
=======
   "execution_count": 26,
>>>>>>> Stashed changes
   "id": "02ec28dd",
   "metadata": {
    "ExecuteTime": {
     "end_time": "2022-10-09T14:35:30.005406Z",
     "start_time": "2022-10-09T14:35:29.998408Z"
    }
   },
   "outputs": [
    {
     "data": {
      "text/plain": [
<<<<<<< Updated upstream
       "52.01648458109954"
      ]
     },
     "execution_count": 60,
=======
       "39.21100713371064"
      ]
     },
     "execution_count": 26,
>>>>>>> Stashed changes
     "metadata": {},
     "output_type": "execute_result"
    }
   ],
   "source": [
    "metrics.mean_squared_error(y_test, y_pred)"
   ]
  },
  {
   "cell_type": "code",
<<<<<<< Updated upstream
   "execution_count": 61,
=======
   "execution_count": 27,
>>>>>>> Stashed changes
   "id": "e630bb75",
   "metadata": {
    "ExecuteTime": {
     "end_time": "2022-10-09T14:35:30.794067Z",
     "start_time": "2022-10-09T14:35:30.788531Z"
    }
   },
   "outputs": [
    {
     "data": {
      "text/plain": [
<<<<<<< Updated upstream
       "4.536372173715659"
      ]
     },
     "execution_count": 61,
=======
       "3.9038433267980843"
      ]
     },
     "execution_count": 27,
>>>>>>> Stashed changes
     "metadata": {},
     "output_type": "execute_result"
    }
   ],
   "source": [
    "metrics.mean_absolute_error(y_test,y_pred)"
   ]
  },
  {
   "cell_type": "markdown",
   "id": "a223842f",
   "metadata": {},
   "source": [
    "We have a fraud model that predicts accuractly the fraud probability (+- 3.904%). Now we will find all the outliers in the transactions and give it a fraud probability, and remove it with the fraud probability chance. "
   ]
  },
  {
   "cell_type": "code",
<<<<<<< Updated upstream
   "execution_count": 92,
=======
   "execution_count": 28,
>>>>>>> Stashed changes
   "id": "c06362f1",
   "metadata": {
    "ExecuteTime": {
     "end_time": "2022-10-09T14:36:28.311889Z",
     "start_time": "2022-10-09T14:35:47.176364Z"
    }
   },
   "outputs": [],
   "source": [
    "consumer_transactions_day['fraud_prob'] = consumer_transactions_day['normal_total_dollar'].apply(lambda x: (lm.predict([[x]]))[0] if x>2 else 0.00001)"
   ]
  },
  {
   "cell_type": "code",
<<<<<<< Updated upstream
   "execution_count": 93,
=======
   "execution_count": 29,
>>>>>>> Stashed changes
   "id": "016ebbc1",
   "metadata": {
    "ExecuteTime": {
     "end_time": "2022-10-09T14:36:28.414848Z",
     "start_time": "2022-10-09T14:36:28.315293Z"
    },
    "scrolled": true
   },
   "outputs": [],
   "source": [
    "consumer_transactions_day['fraud_prob'] = consumer_transactions_day['fraud_prob']/100"
   ]
  },
  {
   "cell_type": "code",
<<<<<<< Updated upstream
   "execution_count": 83,
=======
   "execution_count": 30,
>>>>>>> Stashed changes
   "id": "0477b139",
   "metadata": {
    "ExecuteTime": {
     "end_time": "2022-10-09T14:36:28.464229Z",
     "start_time": "2022-10-09T14:36:28.420124Z"
    }
   },
   "outputs": [
    {
     "data": {
      "text/html": [
       "<div>\n",
       "<style scoped>\n",
       "    .dataframe tbody tr th:only-of-type {\n",
       "        vertical-align: middle;\n",
       "    }\n",
       "\n",
       "    .dataframe tbody tr th {\n",
       "        vertical-align: top;\n",
       "    }\n",
       "\n",
       "    .dataframe thead th {\n",
       "        text-align: right;\n",
       "    }\n",
       "</style>\n",
       "<table border=\"1\" class=\"dataframe\">\n",
       "  <thead>\n",
       "    <tr style=\"text-align: right;\">\n",
       "      <th></th>\n",
       "      <th>user_id</th>\n",
       "      <th>order_datetime</th>\n",
       "      <th>total_dollar</th>\n",
       "      <th>normal_total_dollar</th>\n",
       "      <th>fraud_prob</th>\n",
       "    </tr>\n",
       "  </thead>\n",
       "  <tbody>\n",
       "    <tr>\n",
       "      <th>0</th>\n",
       "      <td>1</td>\n",
       "      <td>2021-02-28</td>\n",
       "      <td>163.668243</td>\n",
<<<<<<< Updated upstream
       "      <td>0.349362</td>\n",
       "      <td>NaN</td>\n",
=======
       "      <td>0.302918</td>\n",
       "      <td>1.000000e-07</td>\n",
>>>>>>> Stashed changes
       "    </tr>\n",
       "    <tr>\n",
       "      <th>1</th>\n",
       "      <td>1</td>\n",
       "      <td>2021-03-02</td>\n",
       "      <td>301.677498</td>\n",
<<<<<<< Updated upstream
       "      <td>1.048156</td>\n",
       "      <td>NaN</td>\n",
=======
       "      <td>0.969702</td>\n",
       "      <td>1.000000e-07</td>\n",
>>>>>>> Stashed changes
       "    </tr>\n",
       "    <tr>\n",
       "      <th>2</th>\n",
       "      <td>1</td>\n",
       "      <td>2021-03-04</td>\n",
       "      <td>5.904951</td>\n",
<<<<<<< Updated upstream
       "      <td>-0.449453</td>\n",
       "      <td>NaN</td>\n",
=======
       "      <td>-0.459306</td>\n",
       "      <td>1.000000e-07</td>\n",
>>>>>>> Stashed changes
       "    </tr>\n",
       "    <tr>\n",
       "      <th>3</th>\n",
       "      <td>1</td>\n",
       "      <td>2021-03-06</td>\n",
       "      <td>18.135592</td>\n",
<<<<<<< Updated upstream
       "      <td>-0.387525</td>\n",
       "      <td>NaN</td>\n",
=======
       "      <td>-0.400214</td>\n",
       "      <td>1.000000e-07</td>\n",
>>>>>>> Stashed changes
       "    </tr>\n",
       "    <tr>\n",
       "      <th>4</th>\n",
       "      <td>1</td>\n",
       "      <td>2021-03-09</td>\n",
       "      <td>64.670772</td>\n",
<<<<<<< Updated upstream
       "      <td>-0.151899</td>\n",
       "      <td>NaN</td>\n",
=======
       "      <td>-0.175382</td>\n",
       "      <td>1.000000e-07</td>\n",
>>>>>>> Stashed changes
       "    </tr>\n",
       "    <tr>\n",
       "      <th>...</th>\n",
       "      <td>...</td>\n",
       "      <td>...</td>\n",
       "      <td>...</td>\n",
       "      <td>...</td>\n",
       "      <td>...</td>\n",
       "    </tr>\n",
       "    <tr>\n",
       "      <th>8756833</th>\n",
       "      <td>24081</td>\n",
       "      <td>2022-10-19</td>\n",
       "      <td>575.305082</td>\n",
<<<<<<< Updated upstream
       "      <td>2.176581</td>\n",
       "      <td>0.108962</td>\n",
=======
       "      <td>1.838081</td>\n",
       "      <td>1.000000e-07</td>\n",
>>>>>>> Stashed changes
       "    </tr>\n",
       "    <tr>\n",
       "      <th>8756834</th>\n",
       "      <td>24081</td>\n",
       "      <td>2022-10-20</td>\n",
       "      <td>705.340737</td>\n",
<<<<<<< Updated upstream
       "      <td>2.792478</td>\n",
       "      <td>0.110680</td>\n",
=======
       "      <td>2.362365</td>\n",
       "      <td>9.568140e-02</td>\n",
>>>>>>> Stashed changes
       "    </tr>\n",
       "    <tr>\n",
       "      <th>8756835</th>\n",
       "      <td>24081</td>\n",
       "      <td>2022-10-21</td>\n",
       "      <td>5.876394</td>\n",
<<<<<<< Updated upstream
       "      <td>-0.520443</td>\n",
       "      <td>NaN</td>\n",
=======
       "      <td>-0.457770</td>\n",
       "      <td>1.000000e-07</td>\n",
>>>>>>> Stashed changes
       "    </tr>\n",
       "    <tr>\n",
       "      <th>8756836</th>\n",
       "      <td>24081</td>\n",
       "      <td>2022-10-24</td>\n",
       "      <td>68.147276</td>\n",
<<<<<<< Updated upstream
       "      <td>-0.225505</td>\n",
       "      <td>NaN</td>\n",
=======
       "      <td>-0.206703</td>\n",
       "      <td>1.000000e-07</td>\n",
>>>>>>> Stashed changes
       "    </tr>\n",
       "    <tr>\n",
       "      <th>8756837</th>\n",
       "      <td>24081</td>\n",
       "      <td>2022-10-25</td>\n",
       "      <td>379.534146</td>\n",
<<<<<<< Updated upstream
       "      <td>1.249338</td>\n",
       "      <td>NaN</td>\n",
       "    </tr>\n",
       "  </tbody>\n",
       "</table>\n",
       "<p>8580519 rows × 5 columns</p>\n",
       "</div>"
      ],
      "text/plain": [
       "         user_id order_datetime  total_dollar  normal_total_dollar  fraud_prob\n",
       "0              1     2021-02-28    163.668243             0.349362         NaN\n",
       "1              1     2021-03-02    301.677498             1.048156         NaN\n",
       "2              1     2021-03-04      5.904951            -0.449453         NaN\n",
       "3              1     2021-03-06     18.135592            -0.387525         NaN\n",
       "4              1     2021-03-09     64.670772            -0.151899         NaN\n",
       "...          ...            ...           ...                  ...         ...\n",
       "8582343    24081     2022-10-19    575.305082             2.176581    0.108962\n",
       "8582344    24081     2022-10-20    705.340737             2.792478    0.110680\n",
       "8582345    24081     2022-10-21      5.876394            -0.520443         NaN\n",
       "8582346    24081     2022-10-24     68.147276            -0.225505         NaN\n",
       "8582347    24081     2022-10-25    379.534146             1.249338         NaN\n",
       "\n",
       "[8580519 rows x 5 columns]"
      ]
     },
     "execution_count": 83,
=======
       "      <td>1.048762</td>\n",
       "      <td>1.000000e-07</td>\n",
       "    </tr>\n",
       "  </tbody>\n",
       "</table>\n",
       "<p>8756838 rows × 5 columns</p>\n",
       "</div>"
      ],
      "text/plain": [
       "         user_id order_datetime  total_dollar  normal_total_dollar  \\\n",
       "0              1     2021-02-28    163.668243             0.302918   \n",
       "1              1     2021-03-02    301.677498             0.969702   \n",
       "2              1     2021-03-04      5.904951            -0.459306   \n",
       "3              1     2021-03-06     18.135592            -0.400214   \n",
       "4              1     2021-03-09     64.670772            -0.175382   \n",
       "...          ...            ...           ...                  ...   \n",
       "8756833    24081     2022-10-19    575.305082             1.838081   \n",
       "8756834    24081     2022-10-20    705.340737             2.362365   \n",
       "8756835    24081     2022-10-21      5.876394            -0.457770   \n",
       "8756836    24081     2022-10-24     68.147276            -0.206703   \n",
       "8756837    24081     2022-10-25    379.534146             1.048762   \n",
       "\n",
       "           fraud_prob  \n",
       "0        1.000000e-07  \n",
       "1        1.000000e-07  \n",
       "2        1.000000e-07  \n",
       "3        1.000000e-07  \n",
       "4        1.000000e-07  \n",
       "...               ...  \n",
       "8756833  1.000000e-07  \n",
       "8756834  9.568140e-02  \n",
       "8756835  1.000000e-07  \n",
       "8756836  1.000000e-07  \n",
       "8756837  1.000000e-07  \n",
       "\n",
       "[8756838 rows x 5 columns]"
      ]
     },
     "execution_count": 30,
>>>>>>> Stashed changes
     "metadata": {},
     "output_type": "execute_result"
    }
   ],
   "source": [
    "consumer_transactions_day"
   ]
  },
  {
   "cell_type": "code",
<<<<<<< Updated upstream
   "execution_count": 94,
=======
   "execution_count": 31,
>>>>>>> Stashed changes
   "id": "bf717bb1",
   "metadata": {
    "ExecuteTime": {
     "end_time": "2022-10-09T14:36:28.550880Z",
     "start_time": "2022-10-09T14:36:28.467833Z"
    }
   },
   "outputs": [],
   "source": [
    "consumer_transactions_day['generated_prob'] = np.random.random(size=len(consumer_transactions_day))"
   ]
  },
  {
   "cell_type": "code",
<<<<<<< Updated upstream
   "execution_count": 95,
=======
   "execution_count": 32,
>>>>>>> Stashed changes
   "id": "ef381006",
   "metadata": {
    "ExecuteTime": {
     "end_time": "2022-10-09T14:36:28.569182Z",
     "start_time": "2022-10-09T14:36:28.553140Z"
    }
   },
   "outputs": [
    {
     "data": {
      "text/html": [
       "<div>\n",
       "<style scoped>\n",
       "    .dataframe tbody tr th:only-of-type {\n",
       "        vertical-align: middle;\n",
       "    }\n",
       "\n",
       "    .dataframe tbody tr th {\n",
       "        vertical-align: top;\n",
       "    }\n",
       "\n",
       "    .dataframe thead th {\n",
       "        text-align: right;\n",
       "    }\n",
       "</style>\n",
       "<table border=\"1\" class=\"dataframe\">\n",
       "  <thead>\n",
       "    <tr style=\"text-align: right;\">\n",
       "      <th></th>\n",
       "      <th>user_id</th>\n",
       "      <th>order_datetime</th>\n",
       "      <th>total_dollar</th>\n",
       "      <th>normal_total_dollar</th>\n",
       "      <th>fraud_prob</th>\n",
       "      <th>generated_prob</th>\n",
       "    </tr>\n",
       "  </thead>\n",
       "  <tbody>\n",
       "    <tr>\n",
       "      <th>0</th>\n",
       "      <td>1</td>\n",
       "      <td>2021-02-28</td>\n",
       "      <td>163.668243</td>\n",
       "      <td>0.302918</td>\n",
       "      <td>1.000000e-07</td>\n",
<<<<<<< Updated upstream
       "      <td>0.134738</td>\n",
=======
       "      <td>0.374540</td>\n",
>>>>>>> Stashed changes
       "    </tr>\n",
       "    <tr>\n",
       "      <th>1</th>\n",
       "      <td>1</td>\n",
       "      <td>2021-03-02</td>\n",
       "      <td>301.677498</td>\n",
       "      <td>0.969702</td>\n",
       "      <td>1.000000e-07</td>\n",
<<<<<<< Updated upstream
       "      <td>0.954311</td>\n",
=======
       "      <td>0.950714</td>\n",
>>>>>>> Stashed changes
       "    </tr>\n",
       "    <tr>\n",
       "      <th>2</th>\n",
       "      <td>1</td>\n",
       "      <td>2021-03-04</td>\n",
       "      <td>5.904951</td>\n",
       "      <td>-0.459306</td>\n",
       "      <td>1.000000e-07</td>\n",
<<<<<<< Updated upstream
       "      <td>0.038001</td>\n",
=======
       "      <td>0.731994</td>\n",
>>>>>>> Stashed changes
       "    </tr>\n",
       "    <tr>\n",
       "      <th>3</th>\n",
       "      <td>1</td>\n",
       "      <td>2021-03-06</td>\n",
       "      <td>18.135592</td>\n",
       "      <td>-0.400214</td>\n",
       "      <td>1.000000e-07</td>\n",
<<<<<<< Updated upstream
       "      <td>0.292134</td>\n",
=======
       "      <td>0.598658</td>\n",
>>>>>>> Stashed changes
       "    </tr>\n",
       "    <tr>\n",
       "      <th>4</th>\n",
       "      <td>1</td>\n",
       "      <td>2021-03-09</td>\n",
       "      <td>64.670772</td>\n",
       "      <td>-0.175382</td>\n",
       "      <td>1.000000e-07</td>\n",
<<<<<<< Updated upstream
       "      <td>0.092263</td>\n",
=======
       "      <td>0.156019</td>\n",
>>>>>>> Stashed changes
       "    </tr>\n",
       "    <tr>\n",
       "      <th>...</th>\n",
       "      <td>...</td>\n",
       "      <td>...</td>\n",
       "      <td>...</td>\n",
       "      <td>...</td>\n",
       "      <td>...</td>\n",
       "      <td>...</td>\n",
       "    </tr>\n",
       "    <tr>\n",
       "      <th>8756833</th>\n",
       "      <td>24081</td>\n",
       "      <td>2022-10-19</td>\n",
       "      <td>575.305082</td>\n",
<<<<<<< Updated upstream
       "      <td>2.176581</td>\n",
       "      <td>1.089625e-01</td>\n",
       "      <td>0.282900</td>\n",
=======
       "      <td>1.838081</td>\n",
       "      <td>1.000000e-07</td>\n",
       "      <td>0.579625</td>\n",
>>>>>>> Stashed changes
       "    </tr>\n",
       "    <tr>\n",
       "      <th>8756834</th>\n",
       "      <td>24081</td>\n",
       "      <td>2022-10-20</td>\n",
       "      <td>705.340737</td>\n",
<<<<<<< Updated upstream
       "      <td>2.792478</td>\n",
       "      <td>1.106804e-01</td>\n",
       "      <td>0.052777</td>\n",
=======
       "      <td>2.362365</td>\n",
       "      <td>9.568140e-02</td>\n",
       "      <td>0.837765</td>\n",
>>>>>>> Stashed changes
       "    </tr>\n",
       "    <tr>\n",
       "      <th>8756835</th>\n",
       "      <td>24081</td>\n",
       "      <td>2022-10-21</td>\n",
       "      <td>5.876394</td>\n",
       "      <td>-0.457770</td>\n",
       "      <td>1.000000e-07</td>\n",
<<<<<<< Updated upstream
       "      <td>0.949943</td>\n",
=======
       "      <td>0.007949</td>\n",
>>>>>>> Stashed changes
       "    </tr>\n",
       "    <tr>\n",
       "      <th>8756836</th>\n",
       "      <td>24081</td>\n",
       "      <td>2022-10-24</td>\n",
       "      <td>68.147276</td>\n",
       "      <td>-0.206703</td>\n",
       "      <td>1.000000e-07</td>\n",
<<<<<<< Updated upstream
       "      <td>0.142533</td>\n",
=======
       "      <td>0.053546</td>\n",
>>>>>>> Stashed changes
       "    </tr>\n",
       "    <tr>\n",
       "      <th>8756837</th>\n",
       "      <td>24081</td>\n",
       "      <td>2022-10-25</td>\n",
       "      <td>379.534146</td>\n",
       "      <td>1.048762</td>\n",
       "      <td>1.000000e-07</td>\n",
<<<<<<< Updated upstream
       "      <td>0.276078</td>\n",
       "    </tr>\n",
       "  </tbody>\n",
       "</table>\n",
       "<p>8580245 rows × 6 columns</p>\n",
=======
       "      <td>0.145919</td>\n",
       "    </tr>\n",
       "  </tbody>\n",
       "</table>\n",
       "<p>8756838 rows × 6 columns</p>\n",
>>>>>>> Stashed changes
       "</div>"
      ],
      "text/plain": [
       "         user_id order_datetime  total_dollar  normal_total_dollar  \\\n",
       "0              1     2021-02-28    163.668243             0.302918   \n",
       "1              1     2021-03-02    301.677498             0.969702   \n",
       "2              1     2021-03-04      5.904951            -0.459306   \n",
       "3              1     2021-03-06     18.135592            -0.400214   \n",
       "4              1     2021-03-09     64.670772            -0.175382   \n",
       "...          ...            ...           ...                  ...   \n",
       "8756833    24081     2022-10-19    575.305082             1.838081   \n",
       "8756834    24081     2022-10-20    705.340737             2.362365   \n",
       "8756835    24081     2022-10-21      5.876394            -0.457770   \n",
       "8756836    24081     2022-10-24     68.147276            -0.206703   \n",
       "8756837    24081     2022-10-25    379.534146             1.048762   \n",
       "\n",
       "           fraud_prob  generated_prob  \n",
<<<<<<< Updated upstream
       "0        1.000000e-07        0.134738  \n",
       "1        1.000000e-07        0.954311  \n",
       "2        1.000000e-07        0.038001  \n",
       "3        1.000000e-07        0.292134  \n",
       "4        1.000000e-07        0.092263  \n",
       "...               ...             ...  \n",
       "8582343  1.089625e-01        0.282900  \n",
       "8582344  1.106804e-01        0.052777  \n",
       "8582345  1.000000e-07        0.949943  \n",
       "8582346  1.000000e-07        0.142533  \n",
       "8582347  1.000000e-07        0.276078  \n",
       "\n",
       "[8580245 rows x 6 columns]"
      ]
     },
     "execution_count": 95,
=======
       "0        1.000000e-07        0.374540  \n",
       "1        1.000000e-07        0.950714  \n",
       "2        1.000000e-07        0.731994  \n",
       "3        1.000000e-07        0.598658  \n",
       "4        1.000000e-07        0.156019  \n",
       "...               ...             ...  \n",
       "8756833  1.000000e-07        0.579625  \n",
       "8756834  9.568140e-02        0.837765  \n",
       "8756835  1.000000e-07        0.007949  \n",
       "8756836  1.000000e-07        0.053546  \n",
       "8756837  1.000000e-07        0.145919  \n",
       "\n",
       "[8756838 rows x 6 columns]"
      ]
     },
     "execution_count": 32,
>>>>>>> Stashed changes
     "metadata": {},
     "output_type": "execute_result"
    }
   ],
   "source": [
    "consumer_transactions_day"
   ]
  },
  {
   "cell_type": "code",
<<<<<<< Updated upstream
   "execution_count": 99,
=======
   "execution_count": 33,
>>>>>>> Stashed changes
   "id": "e7f7d479",
   "metadata": {
    "ExecuteTime": {
     "end_time": "2022-10-09T14:36:28.588208Z",
     "start_time": "2022-10-09T14:36:28.570717Z"
    }
   },
   "outputs": [],
   "source": [
    "consumer_transactions_day['remove'] = consumer_transactions_day['generated_prob'] < consumer_transactions_day['fraud_prob']"
   ]
  },
  {
   "cell_type": "code",
<<<<<<< Updated upstream
   "execution_count": 100,
=======
   "execution_count": 34,
>>>>>>> Stashed changes
   "id": "e371cc6f",
   "metadata": {
    "ExecuteTime": {
     "end_time": "2022-10-09T14:36:28.607112Z",
     "start_time": "2022-10-09T14:36:28.590836Z"
    }
   },
   "outputs": [
    {
     "data": {
      "text/html": [
       "<div>\n",
       "<style scoped>\n",
       "    .dataframe tbody tr th:only-of-type {\n",
       "        vertical-align: middle;\n",
       "    }\n",
       "\n",
       "    .dataframe tbody tr th {\n",
       "        vertical-align: top;\n",
       "    }\n",
       "\n",
       "    .dataframe thead th {\n",
       "        text-align: right;\n",
       "    }\n",
       "</style>\n",
       "<table border=\"1\" class=\"dataframe\">\n",
       "  <thead>\n",
       "    <tr style=\"text-align: right;\">\n",
       "      <th></th>\n",
       "      <th>user_id</th>\n",
       "      <th>order_datetime</th>\n",
       "      <th>total_dollar</th>\n",
       "      <th>normal_total_dollar</th>\n",
       "      <th>fraud_prob</th>\n",
       "      <th>generated_prob</th>\n",
       "      <th>remove</th>\n",
       "    </tr>\n",
       "  </thead>\n",
       "  <tbody>\n",
       "    <tr>\n",
       "      <th>0</th>\n",
       "      <td>1</td>\n",
       "      <td>2021-02-28</td>\n",
       "      <td>163.668243</td>\n",
       "      <td>0.302918</td>\n",
       "      <td>1.000000e-07</td>\n",
       "      <td>0.134738</td>\n",
       "      <td>False</td>\n",
       "    </tr>\n",
       "    <tr>\n",
       "      <th>1</th>\n",
       "      <td>1</td>\n",
       "      <td>2021-03-02</td>\n",
       "      <td>301.677498</td>\n",
       "      <td>0.969702</td>\n",
       "      <td>1.000000e-07</td>\n",
       "      <td>0.954311</td>\n",
       "      <td>False</td>\n",
       "    </tr>\n",
       "    <tr>\n",
       "      <th>2</th>\n",
       "      <td>1</td>\n",
       "      <td>2021-03-04</td>\n",
       "      <td>5.904951</td>\n",
       "      <td>-0.459306</td>\n",
       "      <td>1.000000e-07</td>\n",
       "      <td>0.038001</td>\n",
       "      <td>False</td>\n",
       "    </tr>\n",
       "    <tr>\n",
       "      <th>3</th>\n",
       "      <td>1</td>\n",
       "      <td>2021-03-06</td>\n",
       "      <td>18.135592</td>\n",
       "      <td>-0.400214</td>\n",
       "      <td>1.000000e-07</td>\n",
       "      <td>0.292134</td>\n",
       "      <td>False</td>\n",
       "    </tr>\n",
       "    <tr>\n",
       "      <th>4</th>\n",
       "      <td>1</td>\n",
       "      <td>2021-03-09</td>\n",
       "      <td>64.670772</td>\n",
       "      <td>-0.175382</td>\n",
       "      <td>1.000000e-07</td>\n",
       "      <td>0.092263</td>\n",
       "      <td>False</td>\n",
       "    </tr>\n",
       "    <tr>\n",
       "      <th>...</th>\n",
       "      <td>...</td>\n",
       "      <td>...</td>\n",
       "      <td>...</td>\n",
       "      <td>...</td>\n",
       "      <td>...</td>\n",
       "      <td>...</td>\n",
       "      <td>...</td>\n",
       "    </tr>\n",
       "    <tr>\n",
       "      <th>8756833</th>\n",
       "      <td>24081</td>\n",
       "      <td>2022-10-19</td>\n",
       "      <td>575.305082</td>\n",
<<<<<<< Updated upstream
       "      <td>2.176581</td>\n",
       "      <td>1.089625e-01</td>\n",
       "      <td>0.282900</td>\n",
=======
       "      <td>1.838081</td>\n",
       "      <td>1.000000e-07</td>\n",
       "      <td>0.579625</td>\n",
>>>>>>> Stashed changes
       "      <td>False</td>\n",
       "    </tr>\n",
       "    <tr>\n",
       "      <th>8756834</th>\n",
       "      <td>24081</td>\n",
       "      <td>2022-10-20</td>\n",
       "      <td>705.340737</td>\n",
<<<<<<< Updated upstream
       "      <td>2.792478</td>\n",
       "      <td>1.106804e-01</td>\n",
       "      <td>0.052777</td>\n",
       "      <td>True</td>\n",
=======
       "      <td>2.362365</td>\n",
       "      <td>9.568140e-02</td>\n",
       "      <td>0.837765</td>\n",
       "      <td>False</td>\n",
>>>>>>> Stashed changes
       "    </tr>\n",
       "    <tr>\n",
       "      <th>8756835</th>\n",
       "      <td>24081</td>\n",
       "      <td>2022-10-21</td>\n",
       "      <td>5.876394</td>\n",
       "      <td>-0.457770</td>\n",
       "      <td>1.000000e-07</td>\n",
<<<<<<< Updated upstream
       "      <td>0.949943</td>\n",
=======
       "      <td>0.007949</td>\n",
>>>>>>> Stashed changes
       "      <td>False</td>\n",
       "    </tr>\n",
       "    <tr>\n",
       "      <th>8756836</th>\n",
       "      <td>24081</td>\n",
       "      <td>2022-10-24</td>\n",
       "      <td>68.147276</td>\n",
       "      <td>-0.206703</td>\n",
       "      <td>1.000000e-07</td>\n",
<<<<<<< Updated upstream
       "      <td>0.142533</td>\n",
=======
       "      <td>0.053546</td>\n",
>>>>>>> Stashed changes
       "      <td>False</td>\n",
       "    </tr>\n",
       "    <tr>\n",
       "      <th>8756837</th>\n",
       "      <td>24081</td>\n",
       "      <td>2022-10-25</td>\n",
       "      <td>379.534146</td>\n",
       "      <td>1.048762</td>\n",
       "      <td>1.000000e-07</td>\n",
<<<<<<< Updated upstream
       "      <td>0.276078</td>\n",
=======
       "      <td>0.145919</td>\n",
>>>>>>> Stashed changes
       "      <td>False</td>\n",
       "    </tr>\n",
       "  </tbody>\n",
       "</table>\n",
<<<<<<< Updated upstream
       "<p>8580245 rows × 7 columns</p>\n",
=======
       "<p>8756838 rows × 7 columns</p>\n",
>>>>>>> Stashed changes
       "</div>"
      ],
      "text/plain": [
       "         user_id order_datetime  total_dollar  normal_total_dollar  \\\n",
       "0              1     2021-02-28    163.668243             0.302918   \n",
       "1              1     2021-03-02    301.677498             0.969702   \n",
       "2              1     2021-03-04      5.904951            -0.459306   \n",
       "3              1     2021-03-06     18.135592            -0.400214   \n",
       "4              1     2021-03-09     64.670772            -0.175382   \n",
       "...          ...            ...           ...                  ...   \n",
       "8756833    24081     2022-10-19    575.305082             1.838081   \n",
       "8756834    24081     2022-10-20    705.340737             2.362365   \n",
       "8756835    24081     2022-10-21      5.876394            -0.457770   \n",
       "8756836    24081     2022-10-24     68.147276            -0.206703   \n",
       "8756837    24081     2022-10-25    379.534146             1.048762   \n",
       "\n",
       "           fraud_prob  generated_prob  remove  \n",
       "0        1.000000e-07        0.134738   False  \n",
       "1        1.000000e-07        0.954311   False  \n",
       "2        1.000000e-07        0.038001   False  \n",
       "3        1.000000e-07        0.292134   False  \n",
       "4        1.000000e-07        0.092263   False  \n",
       "...               ...             ...     ...  \n",
<<<<<<< Updated upstream
       "8582343  1.089625e-01        0.282900   False  \n",
       "8582344  1.106804e-01        0.052777    True  \n",
       "8582345  1.000000e-07        0.949943   False  \n",
       "8582346  1.000000e-07        0.142533   False  \n",
       "8582347  1.000000e-07        0.276078   False  \n",
       "\n",
       "[8580245 rows x 7 columns]"
      ]
     },
     "execution_count": 100,
=======
       "8756833  1.000000e-07        0.579625   False  \n",
       "8756834  9.568140e-02        0.837765   False  \n",
       "8756835  1.000000e-07        0.007949   False  \n",
       "8756836  1.000000e-07        0.053546   False  \n",
       "8756837  1.000000e-07        0.145919   False  \n",
       "\n",
       "[8756838 rows x 7 columns]"
      ]
     },
     "execution_count": 34,
>>>>>>> Stashed changes
     "metadata": {},
     "output_type": "execute_result"
    }
   ],
   "source": [
    "consumer_transactions_day"
   ]
  },
  {
   "cell_type": "code",
<<<<<<< Updated upstream
   "execution_count": 101,
=======
   "execution_count": 35,
>>>>>>> Stashed changes
   "id": "09d5de0c",
   "metadata": {
    "ExecuteTime": {
     "end_time": "2022-10-09T14:36:30.244411Z",
     "start_time": "2022-10-09T14:36:28.609764Z"
    }
   },
   "outputs": [],
   "source": [
    "consumer_transactions_removed_fraud = consumer_transactions_day[consumer_transactions_day['remove']==False]"
   ]
  },
  {
   "cell_type": "code",
<<<<<<< Updated upstream
   "execution_count": 102,
=======
   "execution_count": 36,
>>>>>>> Stashed changes
   "id": "d5f1675b",
   "metadata": {
    "ExecuteTime": {
     "end_time": "2022-10-09T14:36:30.263424Z",
     "start_time": "2022-10-09T14:36:30.246083Z"
    }
   },
   "outputs": [
    {
     "data": {
      "text/html": [
       "<div>\n",
       "<style scoped>\n",
       "    .dataframe tbody tr th:only-of-type {\n",
       "        vertical-align: middle;\n",
       "    }\n",
       "\n",
       "    .dataframe tbody tr th {\n",
       "        vertical-align: top;\n",
       "    }\n",
       "\n",
       "    .dataframe thead th {\n",
       "        text-align: right;\n",
       "    }\n",
       "</style>\n",
       "<table border=\"1\" class=\"dataframe\">\n",
       "  <thead>\n",
       "    <tr style=\"text-align: right;\">\n",
       "      <th></th>\n",
       "      <th>user_id</th>\n",
       "      <th>order_datetime</th>\n",
       "      <th>total_dollar</th>\n",
       "      <th>normal_total_dollar</th>\n",
       "      <th>fraud_prob</th>\n",
       "      <th>generated_prob</th>\n",
       "      <th>remove</th>\n",
       "    </tr>\n",
       "  </thead>\n",
       "  <tbody>\n",
       "    <tr>\n",
       "      <th>0</th>\n",
       "      <td>1</td>\n",
       "      <td>2021-02-28</td>\n",
       "      <td>163.668243</td>\n",
       "      <td>0.302918</td>\n",
       "      <td>1.000000e-07</td>\n",
       "      <td>0.134738</td>\n",
       "      <td>False</td>\n",
       "    </tr>\n",
       "    <tr>\n",
       "      <th>1</th>\n",
       "      <td>1</td>\n",
       "      <td>2021-03-02</td>\n",
       "      <td>301.677498</td>\n",
       "      <td>0.969702</td>\n",
       "      <td>1.000000e-07</td>\n",
       "      <td>0.954311</td>\n",
       "      <td>False</td>\n",
       "    </tr>\n",
       "    <tr>\n",
       "      <th>2</th>\n",
       "      <td>1</td>\n",
       "      <td>2021-03-04</td>\n",
       "      <td>5.904951</td>\n",
       "      <td>-0.459306</td>\n",
       "      <td>1.000000e-07</td>\n",
       "      <td>0.038001</td>\n",
       "      <td>False</td>\n",
       "    </tr>\n",
       "    <tr>\n",
       "      <th>3</th>\n",
       "      <td>1</td>\n",
       "      <td>2021-03-06</td>\n",
       "      <td>18.135592</td>\n",
       "      <td>-0.400214</td>\n",
       "      <td>1.000000e-07</td>\n",
       "      <td>0.292134</td>\n",
       "      <td>False</td>\n",
       "    </tr>\n",
       "    <tr>\n",
       "      <th>4</th>\n",
       "      <td>1</td>\n",
       "      <td>2021-03-09</td>\n",
       "      <td>64.670772</td>\n",
       "      <td>-0.175382</td>\n",
       "      <td>1.000000e-07</td>\n",
       "      <td>0.092263</td>\n",
       "      <td>False</td>\n",
       "    </tr>\n",
       "    <tr>\n",
       "      <th>...</th>\n",
       "      <td>...</td>\n",
       "      <td>...</td>\n",
       "      <td>...</td>\n",
       "      <td>...</td>\n",
       "      <td>...</td>\n",
       "      <td>...</td>\n",
       "      <td>...</td>\n",
       "    </tr>\n",
       "    <tr>\n",
<<<<<<< Updated upstream
       "      <th>8582342</th>\n",
       "      <td>24081</td>\n",
       "      <td>2022-10-18</td>\n",
       "      <td>235.300136</td>\n",
       "      <td>0.566192</td>\n",
       "      <td>1.000000e-07</td>\n",
       "      <td>0.053562</td>\n",
       "      <td>False</td>\n",
       "    </tr>\n",
       "    <tr>\n",
       "      <th>8582343</th>\n",
       "      <td>24081</td>\n",
       "      <td>2022-10-19</td>\n",
       "      <td>575.305082</td>\n",
       "      <td>2.176581</td>\n",
       "      <td>1.089625e-01</td>\n",
       "      <td>0.282900</td>\n",
=======
       "      <th>8756833</th>\n",
       "      <td>24081</td>\n",
       "      <td>2022-10-19</td>\n",
       "      <td>575.305082</td>\n",
       "      <td>1.838081</td>\n",
       "      <td>1.000000e-07</td>\n",
       "      <td>0.579625</td>\n",
       "      <td>False</td>\n",
       "    </tr>\n",
       "    <tr>\n",
       "      <th>8756834</th>\n",
       "      <td>24081</td>\n",
       "      <td>2022-10-20</td>\n",
       "      <td>705.340737</td>\n",
       "      <td>2.362365</td>\n",
       "      <td>9.568140e-02</td>\n",
       "      <td>0.837765</td>\n",
>>>>>>> Stashed changes
       "      <td>False</td>\n",
       "    </tr>\n",
       "    <tr>\n",
       "      <th>8756835</th>\n",
       "      <td>24081</td>\n",
       "      <td>2022-10-21</td>\n",
       "      <td>5.876394</td>\n",
       "      <td>-0.457770</td>\n",
       "      <td>1.000000e-07</td>\n",
<<<<<<< Updated upstream
       "      <td>0.949943</td>\n",
=======
       "      <td>0.007949</td>\n",
>>>>>>> Stashed changes
       "      <td>False</td>\n",
       "    </tr>\n",
       "    <tr>\n",
       "      <th>8756836</th>\n",
       "      <td>24081</td>\n",
       "      <td>2022-10-24</td>\n",
       "      <td>68.147276</td>\n",
       "      <td>-0.206703</td>\n",
       "      <td>1.000000e-07</td>\n",
<<<<<<< Updated upstream
       "      <td>0.142533</td>\n",
=======
       "      <td>0.053546</td>\n",
>>>>>>> Stashed changes
       "      <td>False</td>\n",
       "    </tr>\n",
       "    <tr>\n",
       "      <th>8756837</th>\n",
       "      <td>24081</td>\n",
       "      <td>2022-10-25</td>\n",
       "      <td>379.534146</td>\n",
       "      <td>1.048762</td>\n",
       "      <td>1.000000e-07</td>\n",
<<<<<<< Updated upstream
       "      <td>0.276078</td>\n",
=======
       "      <td>0.145919</td>\n",
>>>>>>> Stashed changes
       "      <td>False</td>\n",
       "    </tr>\n",
       "  </tbody>\n",
       "</table>\n",
<<<<<<< Updated upstream
       "<p>8475177 rows × 7 columns</p>\n",
=======
       "<p>8660571 rows × 7 columns</p>\n",
>>>>>>> Stashed changes
       "</div>"
      ],
      "text/plain": [
       "         user_id order_datetime  total_dollar  normal_total_dollar  \\\n",
       "0              1     2021-02-28    163.668243             0.302918   \n",
       "1              1     2021-03-02    301.677498             0.969702   \n",
       "2              1     2021-03-04      5.904951            -0.459306   \n",
       "3              1     2021-03-06     18.135592            -0.400214   \n",
       "4              1     2021-03-09     64.670772            -0.175382   \n",
       "...          ...            ...           ...                  ...   \n",
<<<<<<< Updated upstream
       "8582342    24081     2022-10-18    235.300136             0.566192   \n",
       "8582343    24081     2022-10-19    575.305082             2.176581   \n",
       "8582345    24081     2022-10-21      5.876394            -0.520443   \n",
       "8582346    24081     2022-10-24     68.147276            -0.225505   \n",
       "8582347    24081     2022-10-25    379.534146             1.249338   \n",
=======
       "8756833    24081     2022-10-19    575.305082             1.838081   \n",
       "8756834    24081     2022-10-20    705.340737             2.362365   \n",
       "8756835    24081     2022-10-21      5.876394            -0.457770   \n",
       "8756836    24081     2022-10-24     68.147276            -0.206703   \n",
       "8756837    24081     2022-10-25    379.534146             1.048762   \n",
>>>>>>> Stashed changes
       "\n",
       "           fraud_prob  generated_prob  remove  \n",
       "0        1.000000e-07        0.134738   False  \n",
       "1        1.000000e-07        0.954311   False  \n",
       "2        1.000000e-07        0.038001   False  \n",
       "3        1.000000e-07        0.292134   False  \n",
       "4        1.000000e-07        0.092263   False  \n",
       "...               ...             ...     ...  \n",
<<<<<<< Updated upstream
       "8582342  1.000000e-07        0.053562   False  \n",
       "8582343  1.089625e-01        0.282900   False  \n",
       "8582345  1.000000e-07        0.949943   False  \n",
       "8582346  1.000000e-07        0.142533   False  \n",
       "8582347  1.000000e-07        0.276078   False  \n",
       "\n",
       "[8475177 rows x 7 columns]"
      ]
     },
     "execution_count": 102,
=======
       "8756833  1.000000e-07        0.579625   False  \n",
       "8756834  9.568140e-02        0.837765   False  \n",
       "8756835  1.000000e-07        0.007949   False  \n",
       "8756836  1.000000e-07        0.053546   False  \n",
       "8756837  1.000000e-07        0.145919   False  \n",
       "\n",
       "[8660571 rows x 7 columns]"
      ]
     },
     "execution_count": 36,
>>>>>>> Stashed changes
     "metadata": {},
     "output_type": "execute_result"
    }
   ],
   "source": [
    "consumer_transactions_removed_fraud"
   ]
  },
  {
   "cell_type": "markdown",
   "id": "41bee947",
   "metadata": {},
   "source": [
    "We only removed 8756838 - 8660571 = 96,267 rows which is 1.01% of the data. This additional removal would improve our model as we remove likelihood of fraud as much as we can so we can generate an accurate ranking system for the merchants."
   ]
  },
  {
   "cell_type": "code",
   "execution_count": null,
   "id": "e403da7d",
   "metadata": {},
   "outputs": [],
   "source": []
  }
 ],
 "metadata": {
  "kernelspec": {
   "display_name": "Python 3",
   "language": "python",
   "name": "python3"
  },
  "language_info": {
   "codemirror_mode": {
    "name": "ipython",
    "version": 3
   },
   "file_extension": ".py",
   "mimetype": "text/x-python",
   "name": "python",
   "nbconvert_exporter": "python",
   "pygments_lexer": "ipython3",
   "version": "3.8.8"
  },
  "toc": {
   "base_numbering": 1,
   "nav_menu": {},
   "number_sections": true,
   "sideBar": true,
   "skip_h1_title": false,
   "title_cell": "Table of Contents",
   "title_sidebar": "Contents",
   "toc_cell": false,
   "toc_position": {},
   "toc_section_display": true,
   "toc_window_display": false
  }
 },
 "nbformat": 4,
 "nbformat_minor": 5
}
