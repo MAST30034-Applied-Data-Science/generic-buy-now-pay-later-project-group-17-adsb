{
 "cells": [
  {
   "cell_type": "code",
   "execution_count": 40,
   "id": "e44aab48",
   "metadata": {
    "ExecuteTime": {
     "end_time": "2022-10-05T20:18:03.148182Z",
     "start_time": "2022-10-05T20:18:03.132389Z"
    }
   },
   "outputs": [],
   "source": [
    "# from pyspark.sql import SparkSession\n",
    "# import pyspark.pandas as ps\n",
    "import numpy as np\n",
    "import pandas as pd\n",
    "import matplotlib.pyplot as plt\n",
    "import seaborn as sns\n",
    "import random\n",
    "from sklearn.preprocessing import RobustScaler\n",
    "from sklearn import linear_model\n",
    "from sklearn import metrics\n",
    "\n",
    "# spark = (\n",
    "#     SparkSession.builder.appName(\"BNPL\")\n",
    "#     .config(\"spark.sql.repl.eagerEval.enabled\", True) \n",
    "#     .config(\"spark.sql.parquet.cacheMetadata\", \"true\")\n",
    "#     .config(\"spark.driver.memory\", \"8g\")\n",
    "#     .getOrCreate()\n",
    "# )\n",
    "\n",
    "data_directory = \"../data/\"\n",
    "tables_directory = data_directory + \"tables/\"\n",
    "merchant_fraud_directory = tables_directory + \"merchant_fraud_probability.csv\"\n",
    "consumer_fraud_directory = tables_directory + \"consumer_fraud_probability.csv\"\n",
    "transactions_directory = \"../data/curated/transactions.parquet\"\n",
    "\n",
    "random.seed(42)"
   ]
  },
  {
   "cell_type": "code",
   "execution_count": 5,
   "id": "a1083a04",
   "metadata": {
    "ExecuteTime": {
     "end_time": "2022-10-05T17:28:41.220352Z",
     "start_time": "2022-10-05T17:28:41.125864Z"
    }
   },
   "outputs": [],
   "source": [
    "transactions = pd.read_parquet(transactions_directory)\n",
    "merchant_fraud_prob = pd.read_csv(merchant_fraud_directory)\n",
    "consumer_fraud_prob = pd.read_csv(consumer_fraud_directory)\n",
    "merchant_fraud_prob[\"order_datetime\"] = pd.to_datetime(merchant_fraud_prob[\"order_datetime\"])\n",
    "consumer_fraud_prob[\"order_datetime\"] = pd.to_datetime(consumer_fraud_prob[\"order_datetime\"])"
   ]
  },
  {
   "cell_type": "code",
   "execution_count": 6,
   "id": "47259db0",
   "metadata": {
    "ExecuteTime": {
     "end_time": "2022-10-05T17:29:30.643186Z",
     "start_time": "2022-10-05T17:29:18.764667Z"
    }
   },
   "outputs": [],
   "source": [
    "merchant_fraud_total = transactions.merge(merchant_fraud_prob, how='inner', on=['merchant_abn', 'order_datetime'])\n",
    "consumer_fraud_total = transactions.merge(consumer_fraud_prob, how='inner', on=['user_id', 'order_datetime'])"
   ]
  },
  {
   "cell_type": "markdown",
   "id": "f48cc338",
   "metadata": {},
   "source": [
    "According to consumers. First we will need to get the right data which is normalized difference from median."
   ]
  },
  {
   "cell_type": "code",
   "execution_count": 10,
   "id": "642f865e",
   "metadata": {
    "ExecuteTime": {
     "end_time": "2022-10-05T17:56:40.512258Z",
     "start_time": "2022-10-05T17:56:29.219891Z"
    },
    "scrolled": true
   },
   "outputs": [
    {
     "data": {
      "text/html": [
       "<div>\n",
       "<style scoped>\n",
       "    .dataframe tbody tr th:only-of-type {\n",
       "        vertical-align: middle;\n",
       "    }\n",
       "\n",
       "    .dataframe tbody tr th {\n",
       "        vertical-align: top;\n",
       "    }\n",
       "\n",
       "    .dataframe thead th {\n",
       "        text-align: right;\n",
       "    }\n",
       "</style>\n",
       "<table border=\"1\" class=\"dataframe\">\n",
       "  <thead>\n",
       "    <tr style=\"text-align: right;\">\n",
       "      <th></th>\n",
       "      <th>user_id</th>\n",
       "      <th>order_datetime</th>\n",
       "      <th>total_dollar</th>\n",
       "    </tr>\n",
       "  </thead>\n",
       "  <tbody>\n",
       "    <tr>\n",
       "      <th>0</th>\n",
       "      <td>1</td>\n",
       "      <td>2021-02-28</td>\n",
       "      <td>163.668243</td>\n",
       "    </tr>\n",
       "    <tr>\n",
       "      <th>1</th>\n",
       "      <td>1</td>\n",
       "      <td>2021-03-02</td>\n",
       "      <td>301.677498</td>\n",
       "    </tr>\n",
       "    <tr>\n",
       "      <th>2</th>\n",
       "      <td>1</td>\n",
       "      <td>2021-03-04</td>\n",
       "      <td>5.904951</td>\n",
       "    </tr>\n",
       "    <tr>\n",
       "      <th>3</th>\n",
       "      <td>1</td>\n",
       "      <td>2021-03-06</td>\n",
       "      <td>18.135592</td>\n",
       "    </tr>\n",
       "    <tr>\n",
       "      <th>4</th>\n",
       "      <td>1</td>\n",
       "      <td>2021-03-09</td>\n",
       "      <td>64.670772</td>\n",
       "    </tr>\n",
       "    <tr>\n",
       "      <th>...</th>\n",
       "      <td>...</td>\n",
       "      <td>...</td>\n",
       "      <td>...</td>\n",
       "    </tr>\n",
       "    <tr>\n",
       "      <th>8582343</th>\n",
       "      <td>24081</td>\n",
       "      <td>2022-10-19</td>\n",
       "      <td>575.305082</td>\n",
       "    </tr>\n",
       "    <tr>\n",
       "      <th>8582344</th>\n",
       "      <td>24081</td>\n",
       "      <td>2022-10-20</td>\n",
       "      <td>705.340737</td>\n",
       "    </tr>\n",
       "    <tr>\n",
       "      <th>8582345</th>\n",
       "      <td>24081</td>\n",
       "      <td>2022-10-21</td>\n",
       "      <td>5.876394</td>\n",
       "    </tr>\n",
       "    <tr>\n",
       "      <th>8582346</th>\n",
       "      <td>24081</td>\n",
       "      <td>2022-10-24</td>\n",
       "      <td>68.147276</td>\n",
       "    </tr>\n",
       "    <tr>\n",
       "      <th>8582347</th>\n",
       "      <td>24081</td>\n",
       "      <td>2022-10-25</td>\n",
       "      <td>379.534146</td>\n",
       "    </tr>\n",
       "  </tbody>\n",
       "</table>\n",
       "<p>8582348 rows × 3 columns</p>\n",
       "</div>"
      ],
      "text/plain": [
       "         user_id order_datetime  total_dollar\n",
       "0              1     2021-02-28    163.668243\n",
       "1              1     2021-03-02    301.677498\n",
       "2              1     2021-03-04      5.904951\n",
       "3              1     2021-03-06     18.135592\n",
       "4              1     2021-03-09     64.670772\n",
       "...          ...            ...           ...\n",
       "8582343    24081     2022-10-19    575.305082\n",
       "8582344    24081     2022-10-20    705.340737\n",
       "8582345    24081     2022-10-21      5.876394\n",
       "8582346    24081     2022-10-24     68.147276\n",
       "8582347    24081     2022-10-25    379.534146\n",
       "\n",
       "[8582348 rows x 3 columns]"
      ]
     },
     "execution_count": 10,
     "metadata": {},
     "output_type": "execute_result"
    }
   ],
   "source": [
    "# Now we will collate all transactions relating to those consumers and group by day per consumer\n",
    "consumer_transactions_day = transactions.groupby(['user_id', 'order_datetime']).agg(total_dollar=pd.NamedAgg(column='dollar_value', aggfunc=\"sum\")).reset_index()\n",
    "consumer_transactions_day"
   ]
  },
  {
   "cell_type": "markdown",
   "id": "755b5965",
   "metadata": {},
   "source": [
    "Now that we have grouped each transaction by days per customer, we will find all the transactions pertaining to the fraud data and then find the outliers through the IQR and record distances away from median (normalized)"
   ]
  },
  {
   "cell_type": "code",
   "execution_count": 19,
   "id": "f41ada6c",
   "metadata": {
    "ExecuteTime": {
     "end_time": "2022-10-05T19:14:09.721929Z",
     "start_time": "2022-10-05T19:13:29.587769Z"
    }
   },
   "outputs": [],
   "source": [
    "# Median and Quantile Scaling to scale all customers transactions\n",
    "rs = RobustScaler()\n",
    "consumer_transactions_day['normal_total_dollar'] = (consumer_transactions_day\n",
    "                                                    .groupby('user_id')['total_dollar']\n",
    "                                                    .apply(lambda x: (x-x.median())/(x.quantile(0.75)-x.quantile(0.25))))\n"
   ]
  },
  {
   "cell_type": "code",
   "execution_count": 20,
   "id": "54daf48f",
   "metadata": {
    "ExecuteTime": {
     "end_time": "2022-10-05T19:14:09.756355Z",
     "start_time": "2022-10-05T19:14:09.727243Z"
    },
    "scrolled": true
   },
   "outputs": [
    {
     "data": {
      "text/html": [
       "<div>\n",
       "<style scoped>\n",
       "    .dataframe tbody tr th:only-of-type {\n",
       "        vertical-align: middle;\n",
       "    }\n",
       "\n",
       "    .dataframe tbody tr th {\n",
       "        vertical-align: top;\n",
       "    }\n",
       "\n",
       "    .dataframe thead th {\n",
       "        text-align: right;\n",
       "    }\n",
       "</style>\n",
       "<table border=\"1\" class=\"dataframe\">\n",
       "  <thead>\n",
       "    <tr style=\"text-align: right;\">\n",
       "      <th></th>\n",
       "      <th>user_id</th>\n",
       "      <th>order_datetime</th>\n",
       "      <th>total_dollar</th>\n",
       "      <th>normal_total_dollar</th>\n",
       "    </tr>\n",
       "  </thead>\n",
       "  <tbody>\n",
       "    <tr>\n",
       "      <th>0</th>\n",
       "      <td>1</td>\n",
       "      <td>2021-02-28</td>\n",
       "      <td>163.668243</td>\n",
       "      <td>0.349362</td>\n",
       "    </tr>\n",
       "    <tr>\n",
       "      <th>1</th>\n",
       "      <td>1</td>\n",
       "      <td>2021-03-02</td>\n",
       "      <td>301.677498</td>\n",
       "      <td>1.048156</td>\n",
       "    </tr>\n",
       "    <tr>\n",
       "      <th>2</th>\n",
       "      <td>1</td>\n",
       "      <td>2021-03-04</td>\n",
       "      <td>5.904951</td>\n",
       "      <td>-0.449453</td>\n",
       "    </tr>\n",
       "    <tr>\n",
       "      <th>3</th>\n",
       "      <td>1</td>\n",
       "      <td>2021-03-06</td>\n",
       "      <td>18.135592</td>\n",
       "      <td>-0.387525</td>\n",
       "    </tr>\n",
       "    <tr>\n",
       "      <th>4</th>\n",
       "      <td>1</td>\n",
       "      <td>2021-03-09</td>\n",
       "      <td>64.670772</td>\n",
       "      <td>-0.151899</td>\n",
       "    </tr>\n",
       "    <tr>\n",
       "      <th>...</th>\n",
       "      <td>...</td>\n",
       "      <td>...</td>\n",
       "      <td>...</td>\n",
       "      <td>...</td>\n",
       "    </tr>\n",
       "    <tr>\n",
       "      <th>8582343</th>\n",
       "      <td>24081</td>\n",
       "      <td>2022-10-19</td>\n",
       "      <td>575.305082</td>\n",
       "      <td>2.176581</td>\n",
       "    </tr>\n",
       "    <tr>\n",
       "      <th>8582344</th>\n",
       "      <td>24081</td>\n",
       "      <td>2022-10-20</td>\n",
       "      <td>705.340737</td>\n",
       "      <td>2.792478</td>\n",
       "    </tr>\n",
       "    <tr>\n",
       "      <th>8582345</th>\n",
       "      <td>24081</td>\n",
       "      <td>2022-10-21</td>\n",
       "      <td>5.876394</td>\n",
       "      <td>-0.520443</td>\n",
       "    </tr>\n",
       "    <tr>\n",
       "      <th>8582346</th>\n",
       "      <td>24081</td>\n",
       "      <td>2022-10-24</td>\n",
       "      <td>68.147276</td>\n",
       "      <td>-0.225505</td>\n",
       "    </tr>\n",
       "    <tr>\n",
       "      <th>8582347</th>\n",
       "      <td>24081</td>\n",
       "      <td>2022-10-25</td>\n",
       "      <td>379.534146</td>\n",
       "      <td>1.249338</td>\n",
       "    </tr>\n",
       "  </tbody>\n",
       "</table>\n",
       "<p>8582348 rows × 4 columns</p>\n",
       "</div>"
      ],
      "text/plain": [
       "         user_id order_datetime  total_dollar  normal_total_dollar\n",
       "0              1     2021-02-28    163.668243             0.349362\n",
       "1              1     2021-03-02    301.677498             1.048156\n",
       "2              1     2021-03-04      5.904951            -0.449453\n",
       "3              1     2021-03-06     18.135592            -0.387525\n",
       "4              1     2021-03-09     64.670772            -0.151899\n",
       "...          ...            ...           ...                  ...\n",
       "8582343    24081     2022-10-19    575.305082             2.176581\n",
       "8582344    24081     2022-10-20    705.340737             2.792478\n",
       "8582345    24081     2022-10-21      5.876394            -0.520443\n",
       "8582346    24081     2022-10-24     68.147276            -0.225505\n",
       "8582347    24081     2022-10-25    379.534146             1.249338\n",
       "\n",
       "[8582348 rows x 4 columns]"
      ]
     },
     "execution_count": 20,
     "metadata": {},
     "output_type": "execute_result"
    }
   ],
   "source": [
    "consumer_transactions_day"
   ]
  },
  {
   "cell_type": "markdown",
   "id": "85ef71be",
   "metadata": {},
   "source": [
    "After Median and Quantile scaling, we can now see that all outliers would have a normal total dollar value of >2. Now we will build a linear model based on given fraud probabilities and scaled distance of the transactions. "
   ]
  },
  {
   "cell_type": "code",
   "execution_count": 21,
   "id": "6d7d01e1",
   "metadata": {
    "ExecuteTime": {
     "end_time": "2022-10-05T19:24:11.369076Z",
     "start_time": "2022-10-05T19:24:11.315935Z"
    },
    "scrolled": true
   },
   "outputs": [
    {
     "data": {
      "text/html": [
       "<div>\n",
       "<style scoped>\n",
       "    .dataframe tbody tr th:only-of-type {\n",
       "        vertical-align: middle;\n",
       "    }\n",
       "\n",
       "    .dataframe tbody tr th {\n",
       "        vertical-align: top;\n",
       "    }\n",
       "\n",
       "    .dataframe thead th {\n",
       "        text-align: right;\n",
       "    }\n",
       "</style>\n",
       "<table border=\"1\" class=\"dataframe\">\n",
       "  <thead>\n",
       "    <tr style=\"text-align: right;\">\n",
       "      <th></th>\n",
       "      <th>user_id</th>\n",
       "      <th>order_datetime</th>\n",
       "      <th>fraud_probability</th>\n",
       "    </tr>\n",
       "  </thead>\n",
       "  <tbody>\n",
       "    <tr>\n",
       "      <th>0</th>\n",
       "      <td>6228</td>\n",
       "      <td>2021-12-19</td>\n",
       "      <td>97.629808</td>\n",
       "    </tr>\n",
       "    <tr>\n",
       "      <th>1</th>\n",
       "      <td>21419</td>\n",
       "      <td>2021-12-10</td>\n",
       "      <td>99.247380</td>\n",
       "    </tr>\n",
       "    <tr>\n",
       "      <th>2</th>\n",
       "      <td>5606</td>\n",
       "      <td>2021-10-17</td>\n",
       "      <td>84.058250</td>\n",
       "    </tr>\n",
       "    <tr>\n",
       "      <th>3</th>\n",
       "      <td>3101</td>\n",
       "      <td>2021-04-17</td>\n",
       "      <td>91.421921</td>\n",
       "    </tr>\n",
       "    <tr>\n",
       "      <th>4</th>\n",
       "      <td>22239</td>\n",
       "      <td>2021-10-19</td>\n",
       "      <td>94.703425</td>\n",
       "    </tr>\n",
       "    <tr>\n",
       "      <th>...</th>\n",
       "      <td>...</td>\n",
       "      <td>...</td>\n",
       "      <td>...</td>\n",
       "    </tr>\n",
       "    <tr>\n",
       "      <th>34859</th>\n",
       "      <td>18466</td>\n",
       "      <td>2022-02-22</td>\n",
       "      <td>8.679873</td>\n",
       "    </tr>\n",
       "    <tr>\n",
       "      <th>34860</th>\n",
       "      <td>17552</td>\n",
       "      <td>2021-12-26</td>\n",
       "      <td>8.349463</td>\n",
       "    </tr>\n",
       "    <tr>\n",
       "      <th>34861</th>\n",
       "      <td>17875</td>\n",
       "      <td>2021-06-27</td>\n",
       "      <td>8.288847</td>\n",
       "    </tr>\n",
       "    <tr>\n",
       "      <th>34862</th>\n",
       "      <td>10401</td>\n",
       "      <td>2021-09-18</td>\n",
       "      <td>8.842216</td>\n",
       "    </tr>\n",
       "    <tr>\n",
       "      <th>34863</th>\n",
       "      <td>18076</td>\n",
       "      <td>2021-11-30</td>\n",
       "      <td>8.542029</td>\n",
       "    </tr>\n",
       "  </tbody>\n",
       "</table>\n",
       "<p>34864 rows × 3 columns</p>\n",
       "</div>"
      ],
      "text/plain": [
       "       user_id order_datetime  fraud_probability\n",
       "0         6228     2021-12-19          97.629808\n",
       "1        21419     2021-12-10          99.247380\n",
       "2         5606     2021-10-17          84.058250\n",
       "3         3101     2021-04-17          91.421921\n",
       "4        22239     2021-10-19          94.703425\n",
       "...        ...            ...                ...\n",
       "34859    18466     2022-02-22           8.679873\n",
       "34860    17552     2021-12-26           8.349463\n",
       "34861    17875     2021-06-27           8.288847\n",
       "34862    10401     2021-09-18           8.842216\n",
       "34863    18076     2021-11-30           8.542029\n",
       "\n",
       "[34864 rows x 3 columns]"
      ]
     },
     "execution_count": 21,
     "metadata": {},
     "output_type": "execute_result"
    }
   ],
   "source": [
    "consumer_fraud_prob"
   ]
  },
  {
   "cell_type": "code",
   "execution_count": 22,
   "id": "ad9cefcd",
   "metadata": {
    "ExecuteTime": {
     "end_time": "2022-10-05T19:45:26.898380Z",
     "start_time": "2022-10-05T19:45:16.489007Z"
    }
   },
   "outputs": [
    {
     "data": {
      "text/html": [
       "<div>\n",
       "<style scoped>\n",
       "    .dataframe tbody tr th:only-of-type {\n",
       "        vertical-align: middle;\n",
       "    }\n",
       "\n",
       "    .dataframe tbody tr th {\n",
       "        vertical-align: top;\n",
       "    }\n",
       "\n",
       "    .dataframe thead th {\n",
       "        text-align: right;\n",
       "    }\n",
       "</style>\n",
       "<table border=\"1\" class=\"dataframe\">\n",
       "  <thead>\n",
       "    <tr style=\"text-align: right;\">\n",
       "      <th></th>\n",
       "      <th>user_id</th>\n",
       "      <th>order_datetime</th>\n",
       "      <th>total_dollar</th>\n",
       "      <th>normal_total_dollar</th>\n",
       "      <th>fraud_probability</th>\n",
       "    </tr>\n",
       "  </thead>\n",
       "  <tbody>\n",
       "    <tr>\n",
       "      <th>0</th>\n",
       "      <td>1</td>\n",
       "      <td>2022-02-20</td>\n",
       "      <td>2479.076338</td>\n",
       "      <td>12.073154</td>\n",
       "      <td>9.805431</td>\n",
       "    </tr>\n",
       "    <tr>\n",
       "      <th>1</th>\n",
       "      <td>2</td>\n",
       "      <td>2021-08-30</td>\n",
       "      <td>2132.002253</td>\n",
       "      <td>10.716341</td>\n",
       "      <td>9.599514</td>\n",
       "    </tr>\n",
       "    <tr>\n",
       "      <th>2</th>\n",
       "      <td>2</td>\n",
       "      <td>2021-09-25</td>\n",
       "      <td>2236.461666</td>\n",
       "      <td>11.265957</td>\n",
       "      <td>10.069851</td>\n",
       "    </tr>\n",
       "    <tr>\n",
       "      <th>3</th>\n",
       "      <td>4</td>\n",
       "      <td>2021-10-09</td>\n",
       "      <td>2260.675824</td>\n",
       "      <td>10.692605</td>\n",
       "      <td>9.633302</td>\n",
       "    </tr>\n",
       "    <tr>\n",
       "      <th>4</th>\n",
       "      <td>5</td>\n",
       "      <td>2021-10-04</td>\n",
       "      <td>3478.498116</td>\n",
       "      <td>19.014681</td>\n",
       "      <td>10.868365</td>\n",
       "    </tr>\n",
       "    <tr>\n",
       "      <th>...</th>\n",
       "      <td>...</td>\n",
       "      <td>...</td>\n",
       "      <td>...</td>\n",
       "      <td>...</td>\n",
       "      <td>...</td>\n",
       "    </tr>\n",
       "    <tr>\n",
       "      <th>31032</th>\n",
       "      <td>24079</td>\n",
       "      <td>2021-10-12</td>\n",
       "      <td>4708.648444</td>\n",
       "      <td>22.228621</td>\n",
       "      <td>14.948165</td>\n",
       "    </tr>\n",
       "    <tr>\n",
       "      <th>31033</th>\n",
       "      <td>24079</td>\n",
       "      <td>2021-11-08</td>\n",
       "      <td>2816.251072</td>\n",
       "      <td>13.108516</td>\n",
       "      <td>8.940524</td>\n",
       "    </tr>\n",
       "    <tr>\n",
       "      <th>31034</th>\n",
       "      <td>24079</td>\n",
       "      <td>2021-11-26</td>\n",
       "      <td>2784.152043</td>\n",
       "      <td>12.953820</td>\n",
       "      <td>8.838622</td>\n",
       "    </tr>\n",
       "    <tr>\n",
       "      <th>31035</th>\n",
       "      <td>24081</td>\n",
       "      <td>2021-10-08</td>\n",
       "      <td>4320.715449</td>\n",
       "      <td>19.916225</td>\n",
       "      <td>14.343772</td>\n",
       "    </tr>\n",
       "    <tr>\n",
       "      <th>31036</th>\n",
       "      <td>24081</td>\n",
       "      <td>2021-11-28</td>\n",
       "      <td>12.889139</td>\n",
       "      <td>-0.487228</td>\n",
       "      <td>11.695397</td>\n",
       "    </tr>\n",
       "  </tbody>\n",
       "</table>\n",
       "<p>31037 rows × 5 columns</p>\n",
       "</div>"
      ],
      "text/plain": [
       "       user_id order_datetime  total_dollar  normal_total_dollar  \\\n",
       "0            1     2022-02-20   2479.076338            12.073154   \n",
       "1            2     2021-08-30   2132.002253            10.716341   \n",
       "2            2     2021-09-25   2236.461666            11.265957   \n",
       "3            4     2021-10-09   2260.675824            10.692605   \n",
       "4            5     2021-10-04   3478.498116            19.014681   \n",
       "...        ...            ...           ...                  ...   \n",
       "31032    24079     2021-10-12   4708.648444            22.228621   \n",
       "31033    24079     2021-11-08   2816.251072            13.108516   \n",
       "31034    24079     2021-11-26   2784.152043            12.953820   \n",
       "31035    24081     2021-10-08   4320.715449            19.916225   \n",
       "31036    24081     2021-11-28     12.889139            -0.487228   \n",
       "\n",
       "       fraud_probability  \n",
       "0               9.805431  \n",
       "1               9.599514  \n",
       "2              10.069851  \n",
       "3               9.633302  \n",
       "4              10.868365  \n",
       "...                  ...  \n",
       "31032          14.948165  \n",
       "31033           8.940524  \n",
       "31034           8.838622  \n",
       "31035          14.343772  \n",
       "31036          11.695397  \n",
       "\n",
       "[31037 rows x 5 columns]"
      ]
     },
     "execution_count": 22,
     "metadata": {},
     "output_type": "execute_result"
    }
   ],
   "source": [
    "fraud_consumer_norm_prob = consumer_transactions_day.merge(consumer_fraud_prob, how='inner', on=['user_id', 'order_datetime'])\n",
    "fraud_consumer_norm_prob"
   ]
  },
  {
   "cell_type": "code",
   "execution_count": 54,
   "id": "66436cc4",
   "metadata": {
    "ExecuteTime": {
     "end_time": "2022-10-05T20:29:48.794171Z",
     "start_time": "2022-10-05T20:29:48.783553Z"
    }
   },
   "outputs": [],
   "source": [
    "lm = linear_model.LinearRegression()\n",
    "X = fraud_consumer_norm_prob['normal_total_dollar']\n",
    "y = fraud_consumer_norm_prob['fraud_probability']"
   ]
  },
  {
   "cell_type": "code",
   "execution_count": 55,
   "id": "643385af",
   "metadata": {
    "ExecuteTime": {
     "end_time": "2022-10-05T20:29:49.169016Z",
     "start_time": "2022-10-05T20:29:49.134357Z"
    }
   },
   "outputs": [],
   "source": [
    "from sklearn.model_selection import train_test_split\n",
    "X = X.values.reshape(-1, 1)\n",
    "X_train, X_test, y_train, y_test = train_test_split(X, y, test_size=0.1)"
   ]
  },
  {
   "cell_type": "code",
   "execution_count": 56,
   "id": "78827980",
   "metadata": {
    "ExecuteTime": {
     "end_time": "2022-10-05T20:29:49.865368Z",
     "start_time": "2022-10-05T20:29:49.858513Z"
    }
   },
   "outputs": [
    {
     "data": {
      "text/plain": [
       "LinearRegression()"
      ]
     },
     "execution_count": 56,
     "metadata": {},
     "output_type": "execute_result"
    }
   ],
   "source": [
    "lm.fit(X_train,y_train)"
   ]
  },
  {
   "cell_type": "code",
   "execution_count": 57,
   "id": "8b4a091b",
   "metadata": {
    "ExecuteTime": {
     "end_time": "2022-10-05T20:29:52.797917Z",
     "start_time": "2022-10-05T20:29:52.787890Z"
    }
   },
   "outputs": [
    {
     "data": {
      "text/plain": [
       "array([0.27893171])"
      ]
     },
     "execution_count": 57,
     "metadata": {},
     "output_type": "execute_result"
    }
   ],
   "source": [
    "lm.coef_"
   ]
  },
  {
   "cell_type": "code",
   "execution_count": 58,
   "id": "a0d454be",
   "metadata": {
    "ExecuteTime": {
     "end_time": "2022-10-05T20:29:57.852779Z",
     "start_time": "2022-10-05T20:29:57.847126Z"
    }
   },
   "outputs": [],
   "source": [
    "y_pred = lm.predict(X_test)"
   ]
  },
  {
   "cell_type": "code",
   "execution_count": 59,
   "id": "7617040f",
   "metadata": {
    "ExecuteTime": {
     "end_time": "2022-10-05T20:29:58.318701Z",
     "start_time": "2022-10-05T20:29:58.306010Z"
    }
   },
   "outputs": [
    {
     "data": {
      "text/plain": [
       "0.41559230261831015"
      ]
     },
     "execution_count": 59,
     "metadata": {},
     "output_type": "execute_result"
    }
   ],
   "source": [
    "metrics.r2_score(y_test, y_pred)"
   ]
  },
  {
   "cell_type": "code",
   "execution_count": 60,
   "id": "02ec28dd",
   "metadata": {
    "ExecuteTime": {
     "end_time": "2022-10-05T20:30:02.369109Z",
     "start_time": "2022-10-05T20:30:02.363983Z"
    }
   },
   "outputs": [
    {
     "data": {
      "text/plain": [
       "52.01648458109954"
      ]
     },
     "execution_count": 60,
     "metadata": {},
     "output_type": "execute_result"
    }
   ],
   "source": [
    "metrics.mean_squared_error(y_test, y_pred)"
   ]
  },
  {
   "cell_type": "code",
   "execution_count": 61,
   "id": "e630bb75",
   "metadata": {
    "ExecuteTime": {
     "end_time": "2022-10-05T20:30:03.379186Z",
     "start_time": "2022-10-05T20:30:03.371224Z"
    }
   },
   "outputs": [
    {
     "data": {
      "text/plain": [
       "4.536372173715659"
      ]
     },
     "execution_count": 61,
     "metadata": {},
     "output_type": "execute_result"
    }
   ],
   "source": [
    "metrics.mean_absolute_error(y_test,y_pred)"
   ]
  },
  {
   "cell_type": "markdown",
   "id": "a223842f",
   "metadata": {},
   "source": [
    "We have a fraud model that predicts accuractly the fraud probability (+- 4.536%). Now we will find all the outliers in the transactions and give it a fraud probability, and remove it with the fraud probability chance. "
   ]
  },
  {
   "cell_type": "code",
   "execution_count": 92,
   "id": "c06362f1",
   "metadata": {
    "ExecuteTime": {
     "end_time": "2022-10-05T22:13:44.452119Z",
     "start_time": "2022-10-05T22:13:01.804436Z"
    }
   },
   "outputs": [],
   "source": [
    "consumer_transactions_day['fraud_prob'] = consumer_transactions_day['normal_total_dollar'].apply(lambda x: (lm.predict([[x]]))[0] if x>2 else 0.00001)"
   ]
  },
  {
   "cell_type": "code",
   "execution_count": 93,
   "id": "016ebbc1",
   "metadata": {
    "ExecuteTime": {
     "end_time": "2022-10-05T22:13:44.544066Z",
     "start_time": "2022-10-05T22:13:44.454253Z"
    },
    "scrolled": true
   },
   "outputs": [],
   "source": [
    "consumer_transactions_day['fraud_prob'] = consumer_transactions_day['fraud_prob']/100"
   ]
  },
  {
   "cell_type": "code",
   "execution_count": 83,
   "id": "0477b139",
   "metadata": {
    "ExecuteTime": {
     "end_time": "2022-10-05T21:59:54.376656Z",
     "start_time": "2022-10-05T21:59:54.272156Z"
    }
   },
   "outputs": [
    {
     "data": {
      "text/html": [
       "<div>\n",
       "<style scoped>\n",
       "    .dataframe tbody tr th:only-of-type {\n",
       "        vertical-align: middle;\n",
       "    }\n",
       "\n",
       "    .dataframe tbody tr th {\n",
       "        vertical-align: top;\n",
       "    }\n",
       "\n",
       "    .dataframe thead th {\n",
       "        text-align: right;\n",
       "    }\n",
       "</style>\n",
       "<table border=\"1\" class=\"dataframe\">\n",
       "  <thead>\n",
       "    <tr style=\"text-align: right;\">\n",
       "      <th></th>\n",
       "      <th>user_id</th>\n",
       "      <th>order_datetime</th>\n",
       "      <th>total_dollar</th>\n",
       "      <th>normal_total_dollar</th>\n",
       "      <th>fraud_prob</th>\n",
       "    </tr>\n",
       "  </thead>\n",
       "  <tbody>\n",
       "    <tr>\n",
       "      <th>0</th>\n",
       "      <td>1</td>\n",
       "      <td>2021-02-28</td>\n",
       "      <td>163.668243</td>\n",
       "      <td>0.349362</td>\n",
       "      <td>NaN</td>\n",
       "    </tr>\n",
       "    <tr>\n",
       "      <th>1</th>\n",
       "      <td>1</td>\n",
       "      <td>2021-03-02</td>\n",
       "      <td>301.677498</td>\n",
       "      <td>1.048156</td>\n",
       "      <td>NaN</td>\n",
       "    </tr>\n",
       "    <tr>\n",
       "      <th>2</th>\n",
       "      <td>1</td>\n",
       "      <td>2021-03-04</td>\n",
       "      <td>5.904951</td>\n",
       "      <td>-0.449453</td>\n",
       "      <td>NaN</td>\n",
       "    </tr>\n",
       "    <tr>\n",
       "      <th>3</th>\n",
       "      <td>1</td>\n",
       "      <td>2021-03-06</td>\n",
       "      <td>18.135592</td>\n",
       "      <td>-0.387525</td>\n",
       "      <td>NaN</td>\n",
       "    </tr>\n",
       "    <tr>\n",
       "      <th>4</th>\n",
       "      <td>1</td>\n",
       "      <td>2021-03-09</td>\n",
       "      <td>64.670772</td>\n",
       "      <td>-0.151899</td>\n",
       "      <td>NaN</td>\n",
       "    </tr>\n",
       "    <tr>\n",
       "      <th>...</th>\n",
       "      <td>...</td>\n",
       "      <td>...</td>\n",
       "      <td>...</td>\n",
       "      <td>...</td>\n",
       "      <td>...</td>\n",
       "    </tr>\n",
       "    <tr>\n",
       "      <th>8582343</th>\n",
       "      <td>24081</td>\n",
       "      <td>2022-10-19</td>\n",
       "      <td>575.305082</td>\n",
       "      <td>2.176581</td>\n",
       "      <td>0.108962</td>\n",
       "    </tr>\n",
       "    <tr>\n",
       "      <th>8582344</th>\n",
       "      <td>24081</td>\n",
       "      <td>2022-10-20</td>\n",
       "      <td>705.340737</td>\n",
       "      <td>2.792478</td>\n",
       "      <td>0.110680</td>\n",
       "    </tr>\n",
       "    <tr>\n",
       "      <th>8582345</th>\n",
       "      <td>24081</td>\n",
       "      <td>2022-10-21</td>\n",
       "      <td>5.876394</td>\n",
       "      <td>-0.520443</td>\n",
       "      <td>NaN</td>\n",
       "    </tr>\n",
       "    <tr>\n",
       "      <th>8582346</th>\n",
       "      <td>24081</td>\n",
       "      <td>2022-10-24</td>\n",
       "      <td>68.147276</td>\n",
       "      <td>-0.225505</td>\n",
       "      <td>NaN</td>\n",
       "    </tr>\n",
       "    <tr>\n",
       "      <th>8582347</th>\n",
       "      <td>24081</td>\n",
       "      <td>2022-10-25</td>\n",
       "      <td>379.534146</td>\n",
       "      <td>1.249338</td>\n",
       "      <td>NaN</td>\n",
       "    </tr>\n",
       "  </tbody>\n",
       "</table>\n",
       "<p>8580519 rows × 5 columns</p>\n",
       "</div>"
      ],
      "text/plain": [
       "         user_id order_datetime  total_dollar  normal_total_dollar  fraud_prob\n",
       "0              1     2021-02-28    163.668243             0.349362         NaN\n",
       "1              1     2021-03-02    301.677498             1.048156         NaN\n",
       "2              1     2021-03-04      5.904951            -0.449453         NaN\n",
       "3              1     2021-03-06     18.135592            -0.387525         NaN\n",
       "4              1     2021-03-09     64.670772            -0.151899         NaN\n",
       "...          ...            ...           ...                  ...         ...\n",
       "8582343    24081     2022-10-19    575.305082             2.176581    0.108962\n",
       "8582344    24081     2022-10-20    705.340737             2.792478    0.110680\n",
       "8582345    24081     2022-10-21      5.876394            -0.520443         NaN\n",
       "8582346    24081     2022-10-24     68.147276            -0.225505         NaN\n",
       "8582347    24081     2022-10-25    379.534146             1.249338         NaN\n",
       "\n",
       "[8580519 rows x 5 columns]"
      ]
     },
     "execution_count": 83,
     "metadata": {},
     "output_type": "execute_result"
    }
   ],
   "source": [
    "consumer_transactions_day"
   ]
  },
  {
   "cell_type": "code",
   "execution_count": 94,
   "id": "bf717bb1",
   "metadata": {
    "ExecuteTime": {
     "end_time": "2022-10-05T22:13:52.663931Z",
     "start_time": "2022-10-05T22:13:52.263492Z"
    }
   },
   "outputs": [],
   "source": [
    "consumer_transactions_day['generated_prob'] = np.random.random(size=len(consumer_transactions_day))"
   ]
  },
  {
   "cell_type": "code",
   "execution_count": 95,
   "id": "ef381006",
   "metadata": {
    "ExecuteTime": {
     "end_time": "2022-10-05T22:13:54.213633Z",
     "start_time": "2022-10-05T22:13:54.191271Z"
    }
   },
   "outputs": [
    {
     "data": {
      "text/html": [
       "<div>\n",
       "<style scoped>\n",
       "    .dataframe tbody tr th:only-of-type {\n",
       "        vertical-align: middle;\n",
       "    }\n",
       "\n",
       "    .dataframe tbody tr th {\n",
       "        vertical-align: top;\n",
       "    }\n",
       "\n",
       "    .dataframe thead th {\n",
       "        text-align: right;\n",
       "    }\n",
       "</style>\n",
       "<table border=\"1\" class=\"dataframe\">\n",
       "  <thead>\n",
       "    <tr style=\"text-align: right;\">\n",
       "      <th></th>\n",
       "      <th>user_id</th>\n",
       "      <th>order_datetime</th>\n",
       "      <th>total_dollar</th>\n",
       "      <th>normal_total_dollar</th>\n",
       "      <th>fraud_prob</th>\n",
       "      <th>generated_prob</th>\n",
       "    </tr>\n",
       "  </thead>\n",
       "  <tbody>\n",
       "    <tr>\n",
       "      <th>0</th>\n",
       "      <td>1</td>\n",
       "      <td>2021-02-28</td>\n",
       "      <td>163.668243</td>\n",
       "      <td>0.349362</td>\n",
       "      <td>1.000000e-07</td>\n",
       "      <td>0.134738</td>\n",
       "    </tr>\n",
       "    <tr>\n",
       "      <th>1</th>\n",
       "      <td>1</td>\n",
       "      <td>2021-03-02</td>\n",
       "      <td>301.677498</td>\n",
       "      <td>1.048156</td>\n",
       "      <td>1.000000e-07</td>\n",
       "      <td>0.954311</td>\n",
       "    </tr>\n",
       "    <tr>\n",
       "      <th>2</th>\n",
       "      <td>1</td>\n",
       "      <td>2021-03-04</td>\n",
       "      <td>5.904951</td>\n",
       "      <td>-0.449453</td>\n",
       "      <td>1.000000e-07</td>\n",
       "      <td>0.038001</td>\n",
       "    </tr>\n",
       "    <tr>\n",
       "      <th>3</th>\n",
       "      <td>1</td>\n",
       "      <td>2021-03-06</td>\n",
       "      <td>18.135592</td>\n",
       "      <td>-0.387525</td>\n",
       "      <td>1.000000e-07</td>\n",
       "      <td>0.292134</td>\n",
       "    </tr>\n",
       "    <tr>\n",
       "      <th>4</th>\n",
       "      <td>1</td>\n",
       "      <td>2021-03-09</td>\n",
       "      <td>64.670772</td>\n",
       "      <td>-0.151899</td>\n",
       "      <td>1.000000e-07</td>\n",
       "      <td>0.092263</td>\n",
       "    </tr>\n",
       "    <tr>\n",
       "      <th>...</th>\n",
       "      <td>...</td>\n",
       "      <td>...</td>\n",
       "      <td>...</td>\n",
       "      <td>...</td>\n",
       "      <td>...</td>\n",
       "      <td>...</td>\n",
       "    </tr>\n",
       "    <tr>\n",
       "      <th>8582343</th>\n",
       "      <td>24081</td>\n",
       "      <td>2022-10-19</td>\n",
       "      <td>575.305082</td>\n",
       "      <td>2.176581</td>\n",
       "      <td>1.089625e-01</td>\n",
       "      <td>0.282900</td>\n",
       "    </tr>\n",
       "    <tr>\n",
       "      <th>8582344</th>\n",
       "      <td>24081</td>\n",
       "      <td>2022-10-20</td>\n",
       "      <td>705.340737</td>\n",
       "      <td>2.792478</td>\n",
       "      <td>1.106804e-01</td>\n",
       "      <td>0.052777</td>\n",
       "    </tr>\n",
       "    <tr>\n",
       "      <th>8582345</th>\n",
       "      <td>24081</td>\n",
       "      <td>2022-10-21</td>\n",
       "      <td>5.876394</td>\n",
       "      <td>-0.520443</td>\n",
       "      <td>1.000000e-07</td>\n",
       "      <td>0.949943</td>\n",
       "    </tr>\n",
       "    <tr>\n",
       "      <th>8582346</th>\n",
       "      <td>24081</td>\n",
       "      <td>2022-10-24</td>\n",
       "      <td>68.147276</td>\n",
       "      <td>-0.225505</td>\n",
       "      <td>1.000000e-07</td>\n",
       "      <td>0.142533</td>\n",
       "    </tr>\n",
       "    <tr>\n",
       "      <th>8582347</th>\n",
       "      <td>24081</td>\n",
       "      <td>2022-10-25</td>\n",
       "      <td>379.534146</td>\n",
       "      <td>1.249338</td>\n",
       "      <td>1.000000e-07</td>\n",
       "      <td>0.276078</td>\n",
       "    </tr>\n",
       "  </tbody>\n",
       "</table>\n",
       "<p>8580245 rows × 6 columns</p>\n",
       "</div>"
      ],
      "text/plain": [
       "         user_id order_datetime  total_dollar  normal_total_dollar  \\\n",
       "0              1     2021-02-28    163.668243             0.349362   \n",
       "1              1     2021-03-02    301.677498             1.048156   \n",
       "2              1     2021-03-04      5.904951            -0.449453   \n",
       "3              1     2021-03-06     18.135592            -0.387525   \n",
       "4              1     2021-03-09     64.670772            -0.151899   \n",
       "...          ...            ...           ...                  ...   \n",
       "8582343    24081     2022-10-19    575.305082             2.176581   \n",
       "8582344    24081     2022-10-20    705.340737             2.792478   \n",
       "8582345    24081     2022-10-21      5.876394            -0.520443   \n",
       "8582346    24081     2022-10-24     68.147276            -0.225505   \n",
       "8582347    24081     2022-10-25    379.534146             1.249338   \n",
       "\n",
       "           fraud_prob  generated_prob  \n",
       "0        1.000000e-07        0.134738  \n",
       "1        1.000000e-07        0.954311  \n",
       "2        1.000000e-07        0.038001  \n",
       "3        1.000000e-07        0.292134  \n",
       "4        1.000000e-07        0.092263  \n",
       "...               ...             ...  \n",
       "8582343  1.089625e-01        0.282900  \n",
       "8582344  1.106804e-01        0.052777  \n",
       "8582345  1.000000e-07        0.949943  \n",
       "8582346  1.000000e-07        0.142533  \n",
       "8582347  1.000000e-07        0.276078  \n",
       "\n",
       "[8580245 rows x 6 columns]"
      ]
     },
     "execution_count": 95,
     "metadata": {},
     "output_type": "execute_result"
    }
   ],
   "source": [
    "consumer_transactions_day"
   ]
  },
  {
   "cell_type": "code",
   "execution_count": 99,
   "id": "e7f7d479",
   "metadata": {
    "ExecuteTime": {
     "end_time": "2022-10-05T22:16:13.245240Z",
     "start_time": "2022-10-05T22:16:13.148505Z"
    }
   },
   "outputs": [],
   "source": [
    "consumer_transactions_day['remove'] = consumer_transactions_day['generated_prob'] < consumer_transactions_day['fraud_prob']"
   ]
  },
  {
   "cell_type": "code",
   "execution_count": 100,
   "id": "e371cc6f",
   "metadata": {
    "ExecuteTime": {
     "end_time": "2022-10-05T22:16:14.450969Z",
     "start_time": "2022-10-05T22:16:14.431931Z"
    }
   },
   "outputs": [
    {
     "data": {
      "text/html": [
       "<div>\n",
       "<style scoped>\n",
       "    .dataframe tbody tr th:only-of-type {\n",
       "        vertical-align: middle;\n",
       "    }\n",
       "\n",
       "    .dataframe tbody tr th {\n",
       "        vertical-align: top;\n",
       "    }\n",
       "\n",
       "    .dataframe thead th {\n",
       "        text-align: right;\n",
       "    }\n",
       "</style>\n",
       "<table border=\"1\" class=\"dataframe\">\n",
       "  <thead>\n",
       "    <tr style=\"text-align: right;\">\n",
       "      <th></th>\n",
       "      <th>user_id</th>\n",
       "      <th>order_datetime</th>\n",
       "      <th>total_dollar</th>\n",
       "      <th>normal_total_dollar</th>\n",
       "      <th>fraud_prob</th>\n",
       "      <th>generated_prob</th>\n",
       "      <th>remove</th>\n",
       "    </tr>\n",
       "  </thead>\n",
       "  <tbody>\n",
       "    <tr>\n",
       "      <th>0</th>\n",
       "      <td>1</td>\n",
       "      <td>2021-02-28</td>\n",
       "      <td>163.668243</td>\n",
       "      <td>0.349362</td>\n",
       "      <td>1.000000e-07</td>\n",
       "      <td>0.134738</td>\n",
       "      <td>False</td>\n",
       "    </tr>\n",
       "    <tr>\n",
       "      <th>1</th>\n",
       "      <td>1</td>\n",
       "      <td>2021-03-02</td>\n",
       "      <td>301.677498</td>\n",
       "      <td>1.048156</td>\n",
       "      <td>1.000000e-07</td>\n",
       "      <td>0.954311</td>\n",
       "      <td>False</td>\n",
       "    </tr>\n",
       "    <tr>\n",
       "      <th>2</th>\n",
       "      <td>1</td>\n",
       "      <td>2021-03-04</td>\n",
       "      <td>5.904951</td>\n",
       "      <td>-0.449453</td>\n",
       "      <td>1.000000e-07</td>\n",
       "      <td>0.038001</td>\n",
       "      <td>False</td>\n",
       "    </tr>\n",
       "    <tr>\n",
       "      <th>3</th>\n",
       "      <td>1</td>\n",
       "      <td>2021-03-06</td>\n",
       "      <td>18.135592</td>\n",
       "      <td>-0.387525</td>\n",
       "      <td>1.000000e-07</td>\n",
       "      <td>0.292134</td>\n",
       "      <td>False</td>\n",
       "    </tr>\n",
       "    <tr>\n",
       "      <th>4</th>\n",
       "      <td>1</td>\n",
       "      <td>2021-03-09</td>\n",
       "      <td>64.670772</td>\n",
       "      <td>-0.151899</td>\n",
       "      <td>1.000000e-07</td>\n",
       "      <td>0.092263</td>\n",
       "      <td>False</td>\n",
       "    </tr>\n",
       "    <tr>\n",
       "      <th>...</th>\n",
       "      <td>...</td>\n",
       "      <td>...</td>\n",
       "      <td>...</td>\n",
       "      <td>...</td>\n",
       "      <td>...</td>\n",
       "      <td>...</td>\n",
       "      <td>...</td>\n",
       "    </tr>\n",
       "    <tr>\n",
       "      <th>8582343</th>\n",
       "      <td>24081</td>\n",
       "      <td>2022-10-19</td>\n",
       "      <td>575.305082</td>\n",
       "      <td>2.176581</td>\n",
       "      <td>1.089625e-01</td>\n",
       "      <td>0.282900</td>\n",
       "      <td>False</td>\n",
       "    </tr>\n",
       "    <tr>\n",
       "      <th>8582344</th>\n",
       "      <td>24081</td>\n",
       "      <td>2022-10-20</td>\n",
       "      <td>705.340737</td>\n",
       "      <td>2.792478</td>\n",
       "      <td>1.106804e-01</td>\n",
       "      <td>0.052777</td>\n",
       "      <td>True</td>\n",
       "    </tr>\n",
       "    <tr>\n",
       "      <th>8582345</th>\n",
       "      <td>24081</td>\n",
       "      <td>2022-10-21</td>\n",
       "      <td>5.876394</td>\n",
       "      <td>-0.520443</td>\n",
       "      <td>1.000000e-07</td>\n",
       "      <td>0.949943</td>\n",
       "      <td>False</td>\n",
       "    </tr>\n",
       "    <tr>\n",
       "      <th>8582346</th>\n",
       "      <td>24081</td>\n",
       "      <td>2022-10-24</td>\n",
       "      <td>68.147276</td>\n",
       "      <td>-0.225505</td>\n",
       "      <td>1.000000e-07</td>\n",
       "      <td>0.142533</td>\n",
       "      <td>False</td>\n",
       "    </tr>\n",
       "    <tr>\n",
       "      <th>8582347</th>\n",
       "      <td>24081</td>\n",
       "      <td>2022-10-25</td>\n",
       "      <td>379.534146</td>\n",
       "      <td>1.249338</td>\n",
       "      <td>1.000000e-07</td>\n",
       "      <td>0.276078</td>\n",
       "      <td>False</td>\n",
       "    </tr>\n",
       "  </tbody>\n",
       "</table>\n",
       "<p>8580245 rows × 7 columns</p>\n",
       "</div>"
      ],
      "text/plain": [
       "         user_id order_datetime  total_dollar  normal_total_dollar  \\\n",
       "0              1     2021-02-28    163.668243             0.349362   \n",
       "1              1     2021-03-02    301.677498             1.048156   \n",
       "2              1     2021-03-04      5.904951            -0.449453   \n",
       "3              1     2021-03-06     18.135592            -0.387525   \n",
       "4              1     2021-03-09     64.670772            -0.151899   \n",
       "...          ...            ...           ...                  ...   \n",
       "8582343    24081     2022-10-19    575.305082             2.176581   \n",
       "8582344    24081     2022-10-20    705.340737             2.792478   \n",
       "8582345    24081     2022-10-21      5.876394            -0.520443   \n",
       "8582346    24081     2022-10-24     68.147276            -0.225505   \n",
       "8582347    24081     2022-10-25    379.534146             1.249338   \n",
       "\n",
       "           fraud_prob  generated_prob  remove  \n",
       "0        1.000000e-07        0.134738   False  \n",
       "1        1.000000e-07        0.954311   False  \n",
       "2        1.000000e-07        0.038001   False  \n",
       "3        1.000000e-07        0.292134   False  \n",
       "4        1.000000e-07        0.092263   False  \n",
       "...               ...             ...     ...  \n",
       "8582343  1.089625e-01        0.282900   False  \n",
       "8582344  1.106804e-01        0.052777    True  \n",
       "8582345  1.000000e-07        0.949943   False  \n",
       "8582346  1.000000e-07        0.142533   False  \n",
       "8582347  1.000000e-07        0.276078   False  \n",
       "\n",
       "[8580245 rows x 7 columns]"
      ]
     },
     "execution_count": 100,
     "metadata": {},
     "output_type": "execute_result"
    }
   ],
   "source": [
    "consumer_transactions_day"
   ]
  },
  {
   "cell_type": "code",
   "execution_count": 101,
   "id": "09d5de0c",
   "metadata": {
    "ExecuteTime": {
     "end_time": "2022-10-05T22:18:05.711082Z",
     "start_time": "2022-10-05T22:18:03.216053Z"
    }
   },
   "outputs": [],
   "source": [
    "consumer_transactions_removed_fraud = consumer_transactions_day[consumer_transactions_day['remove']==False]"
   ]
  },
  {
   "cell_type": "code",
   "execution_count": 102,
   "id": "d5f1675b",
   "metadata": {
    "ExecuteTime": {
     "end_time": "2022-10-05T22:18:12.047032Z",
     "start_time": "2022-10-05T22:18:12.004423Z"
    }
   },
   "outputs": [
    {
     "data": {
      "text/html": [
       "<div>\n",
       "<style scoped>\n",
       "    .dataframe tbody tr th:only-of-type {\n",
       "        vertical-align: middle;\n",
       "    }\n",
       "\n",
       "    .dataframe tbody tr th {\n",
       "        vertical-align: top;\n",
       "    }\n",
       "\n",
       "    .dataframe thead th {\n",
       "        text-align: right;\n",
       "    }\n",
       "</style>\n",
       "<table border=\"1\" class=\"dataframe\">\n",
       "  <thead>\n",
       "    <tr style=\"text-align: right;\">\n",
       "      <th></th>\n",
       "      <th>user_id</th>\n",
       "      <th>order_datetime</th>\n",
       "      <th>total_dollar</th>\n",
       "      <th>normal_total_dollar</th>\n",
       "      <th>fraud_prob</th>\n",
       "      <th>generated_prob</th>\n",
       "      <th>remove</th>\n",
       "    </tr>\n",
       "  </thead>\n",
       "  <tbody>\n",
       "    <tr>\n",
       "      <th>0</th>\n",
       "      <td>1</td>\n",
       "      <td>2021-02-28</td>\n",
       "      <td>163.668243</td>\n",
       "      <td>0.349362</td>\n",
       "      <td>1.000000e-07</td>\n",
       "      <td>0.134738</td>\n",
       "      <td>False</td>\n",
       "    </tr>\n",
       "    <tr>\n",
       "      <th>1</th>\n",
       "      <td>1</td>\n",
       "      <td>2021-03-02</td>\n",
       "      <td>301.677498</td>\n",
       "      <td>1.048156</td>\n",
       "      <td>1.000000e-07</td>\n",
       "      <td>0.954311</td>\n",
       "      <td>False</td>\n",
       "    </tr>\n",
       "    <tr>\n",
       "      <th>2</th>\n",
       "      <td>1</td>\n",
       "      <td>2021-03-04</td>\n",
       "      <td>5.904951</td>\n",
       "      <td>-0.449453</td>\n",
       "      <td>1.000000e-07</td>\n",
       "      <td>0.038001</td>\n",
       "      <td>False</td>\n",
       "    </tr>\n",
       "    <tr>\n",
       "      <th>3</th>\n",
       "      <td>1</td>\n",
       "      <td>2021-03-06</td>\n",
       "      <td>18.135592</td>\n",
       "      <td>-0.387525</td>\n",
       "      <td>1.000000e-07</td>\n",
       "      <td>0.292134</td>\n",
       "      <td>False</td>\n",
       "    </tr>\n",
       "    <tr>\n",
       "      <th>4</th>\n",
       "      <td>1</td>\n",
       "      <td>2021-03-09</td>\n",
       "      <td>64.670772</td>\n",
       "      <td>-0.151899</td>\n",
       "      <td>1.000000e-07</td>\n",
       "      <td>0.092263</td>\n",
       "      <td>False</td>\n",
       "    </tr>\n",
       "    <tr>\n",
       "      <th>...</th>\n",
       "      <td>...</td>\n",
       "      <td>...</td>\n",
       "      <td>...</td>\n",
       "      <td>...</td>\n",
       "      <td>...</td>\n",
       "      <td>...</td>\n",
       "      <td>...</td>\n",
       "    </tr>\n",
       "    <tr>\n",
       "      <th>8582342</th>\n",
       "      <td>24081</td>\n",
       "      <td>2022-10-18</td>\n",
       "      <td>235.300136</td>\n",
       "      <td>0.566192</td>\n",
       "      <td>1.000000e-07</td>\n",
       "      <td>0.053562</td>\n",
       "      <td>False</td>\n",
       "    </tr>\n",
       "    <tr>\n",
       "      <th>8582343</th>\n",
       "      <td>24081</td>\n",
       "      <td>2022-10-19</td>\n",
       "      <td>575.305082</td>\n",
       "      <td>2.176581</td>\n",
       "      <td>1.089625e-01</td>\n",
       "      <td>0.282900</td>\n",
       "      <td>False</td>\n",
       "    </tr>\n",
       "    <tr>\n",
       "      <th>8582345</th>\n",
       "      <td>24081</td>\n",
       "      <td>2022-10-21</td>\n",
       "      <td>5.876394</td>\n",
       "      <td>-0.520443</td>\n",
       "      <td>1.000000e-07</td>\n",
       "      <td>0.949943</td>\n",
       "      <td>False</td>\n",
       "    </tr>\n",
       "    <tr>\n",
       "      <th>8582346</th>\n",
       "      <td>24081</td>\n",
       "      <td>2022-10-24</td>\n",
       "      <td>68.147276</td>\n",
       "      <td>-0.225505</td>\n",
       "      <td>1.000000e-07</td>\n",
       "      <td>0.142533</td>\n",
       "      <td>False</td>\n",
       "    </tr>\n",
       "    <tr>\n",
       "      <th>8582347</th>\n",
       "      <td>24081</td>\n",
       "      <td>2022-10-25</td>\n",
       "      <td>379.534146</td>\n",
       "      <td>1.249338</td>\n",
       "      <td>1.000000e-07</td>\n",
       "      <td>0.276078</td>\n",
       "      <td>False</td>\n",
       "    </tr>\n",
       "  </tbody>\n",
       "</table>\n",
       "<p>8475177 rows × 7 columns</p>\n",
       "</div>"
      ],
      "text/plain": [
       "         user_id order_datetime  total_dollar  normal_total_dollar  \\\n",
       "0              1     2021-02-28    163.668243             0.349362   \n",
       "1              1     2021-03-02    301.677498             1.048156   \n",
       "2              1     2021-03-04      5.904951            -0.449453   \n",
       "3              1     2021-03-06     18.135592            -0.387525   \n",
       "4              1     2021-03-09     64.670772            -0.151899   \n",
       "...          ...            ...           ...                  ...   \n",
       "8582342    24081     2022-10-18    235.300136             0.566192   \n",
       "8582343    24081     2022-10-19    575.305082             2.176581   \n",
       "8582345    24081     2022-10-21      5.876394            -0.520443   \n",
       "8582346    24081     2022-10-24     68.147276            -0.225505   \n",
       "8582347    24081     2022-10-25    379.534146             1.249338   \n",
       "\n",
       "           fraud_prob  generated_prob  remove  \n",
       "0        1.000000e-07        0.134738   False  \n",
       "1        1.000000e-07        0.954311   False  \n",
       "2        1.000000e-07        0.038001   False  \n",
       "3        1.000000e-07        0.292134   False  \n",
       "4        1.000000e-07        0.092263   False  \n",
       "...               ...             ...     ...  \n",
       "8582342  1.000000e-07        0.053562   False  \n",
       "8582343  1.089625e-01        0.282900   False  \n",
       "8582345  1.000000e-07        0.949943   False  \n",
       "8582346  1.000000e-07        0.142533   False  \n",
       "8582347  1.000000e-07        0.276078   False  \n",
       "\n",
       "[8475177 rows x 7 columns]"
      ]
     },
     "execution_count": 102,
     "metadata": {},
     "output_type": "execute_result"
    }
   ],
   "source": [
    "consumer_transactions_removed_fraud"
   ]
  },
  {
   "cell_type": "markdown",
   "id": "41bee947",
   "metadata": {},
   "source": [
    "We only removed 8580245 - 8475177 = 105,068 rows which is 1.22% of the data. This additional removal would improve our model as we remove likelihood of fraud as much as we can so we can generate an accurate ranking system for the merchants."
   ]
  }
 ],
 "metadata": {
  "kernelspec": {
   "display_name": "Python 3",
   "language": "python",
   "name": "python3"
  },
  "language_info": {
   "codemirror_mode": {
    "name": "ipython",
    "version": 3
   },
   "file_extension": ".py",
   "mimetype": "text/x-python",
   "name": "python",
   "nbconvert_exporter": "python",
   "pygments_lexer": "ipython3",
   "version": "3.8.8"
  },
  "toc": {
   "base_numbering": 1,
   "nav_menu": {},
   "number_sections": true,
   "sideBar": true,
   "skip_h1_title": false,
   "title_cell": "Table of Contents",
   "title_sidebar": "Contents",
   "toc_cell": false,
   "toc_position": {},
   "toc_section_display": true,
   "toc_window_display": false
  }
 },
 "nbformat": 4,
 "nbformat_minor": 5
}
