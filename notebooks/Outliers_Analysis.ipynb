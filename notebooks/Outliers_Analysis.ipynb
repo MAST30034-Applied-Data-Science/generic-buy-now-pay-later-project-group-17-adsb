{
 "cells": [
  {
   "cell_type": "code",
   "execution_count": 1,
   "id": "9ffa6e50",
   "metadata": {
    "ExecuteTime": {
     "end_time": "2022-09-13T14:08:55.360178Z",
     "start_time": "2022-09-13T14:08:51.713363Z"
    }
   },
   "outputs": [],
   "source": [
    "# from pyspark.sql import SparkSession\n",
    "# import pyspark.pandas as ps\n",
    "import numpy as np\n",
    "import pandas as pd\n",
    "import matplotlib.pyplot as plt\n",
    "import seaborn as sns\n",
    "\n",
    "# spark = (\n",
    "#     SparkSession.builder.appName(\"BNPL\")\n",
    "#     .config(\"spark.sql.repl.eagerEval.enabled\", True) \n",
    "#     .config(\"spark.sql.parquet.cacheMetadata\", \"true\")\n",
    "#     .config(\"spark.driver.memory\", \"8g\")\n",
    "#     .getOrCreate()\n",
    "# )\n",
    "\n",
    "data_directory = \"../data/\"\n",
    "tables_directory = data_directory + \"tables/\"\n",
    "transactions_directory = tables_directory + \"transactions_20210228_20210827_snapshot/\"\n",
    "merchants_file_loc = tables_directory + \"tbl_merchants.parquet\""
   ]
  },
  {
   "cell_type": "code",
   "execution_count": 2,
   "id": "d4e91453",
   "metadata": {
    "ExecuteTime": {
     "end_time": "2022-09-13T14:09:07.845501Z",
     "start_time": "2022-09-13T14:09:04.649475Z"
    }
   },
   "outputs": [
    {
     "name": "stdout",
     "output_type": "stream",
     "text": [
      "<class 'pandas.core.frame.DataFrame'>\n",
      "Int64Index: 3643266 entries, 0 to 3643265\n",
      "Data columns (total 7 columns):\n",
      " #   Column          Dtype   \n",
      "---  ------          -----   \n",
      " 0   user_id         int64   \n",
      " 1   merchant_abn    int64   \n",
      " 2   dollar_value    float64 \n",
      " 3   order_id        object  \n",
      " 4   order_datetime  category\n",
      " 5   name            object  \n",
      " 6   tags            object  \n",
      "dtypes: category(1), float64(1), int64(2), object(3)\n",
      "memory usage: 201.5+ MB\n"
     ]
    }
   ],
   "source": [
    "merchants = pd.read_parquet(merchants_file_loc)\n",
    "transactions = pd.read_parquet(transactions_directory)\n",
    "transactions = transactions.merge(merchants, how=\"left\", on=\"merchant_abn\")\n",
    "transactions[\"order_datetime\"] = pd.to_datetime(transactions[\"order_datetime\"])\n",
    "transactions.info()"
   ]
  },
  {
   "cell_type": "code",
   "execution_count": 4,
   "id": "9cc07cf1",
   "metadata": {
    "ExecuteTime": {
     "end_time": "2022-09-13T14:57:53.737293Z",
     "start_time": "2022-09-13T14:57:51.942648Z"
    }
   },
   "outputs": [
    {
     "data": {
      "text/html": [
       "<div>\n",
       "<style scoped>\n",
       "    .dataframe tbody tr th:only-of-type {\n",
       "        vertical-align: middle;\n",
       "    }\n",
       "\n",
       "    .dataframe tbody tr th {\n",
       "        vertical-align: top;\n",
       "    }\n",
       "\n",
       "    .dataframe thead th {\n",
       "        text-align: right;\n",
       "    }\n",
       "</style>\n",
       "<table border=\"1\" class=\"dataframe\">\n",
       "  <thead>\n",
       "    <tr style=\"text-align: right;\">\n",
       "      <th></th>\n",
       "      <th>user_id</th>\n",
       "      <th>merchant_abn</th>\n",
       "      <th>dollar_value</th>\n",
       "      <th>order_id</th>\n",
       "      <th>order_datetime</th>\n",
       "      <th>name</th>\n",
       "      <th>tags</th>\n",
       "    </tr>\n",
       "  </thead>\n",
       "  <tbody>\n",
       "    <tr>\n",
       "      <th>0</th>\n",
       "      <td>1</td>\n",
       "      <td>28000487688</td>\n",
       "      <td>133.226894</td>\n",
       "      <td>0c37b3f7-c7f1-48cb-bcc7-0a58e76608ea</td>\n",
       "      <td>2021-02-28</td>\n",
       "      <td>Sed Nunc Industries</td>\n",
       "      <td>((books, periodicals, anD newspapers), (b), (t...</td>\n",
       "    </tr>\n",
       "    <tr>\n",
       "      <th>1</th>\n",
       "      <td>18485</td>\n",
       "      <td>62191208634</td>\n",
       "      <td>79.131400</td>\n",
       "      <td>9e18b913-0465-4fd4-92fd-66d15e65d93c</td>\n",
       "      <td>2021-02-28</td>\n",
       "      <td>Cursus Non Egestas Foundation</td>\n",
       "      <td>[(furniture, home furnishings and equipment sh...</td>\n",
       "    </tr>\n",
       "    <tr>\n",
       "      <th>2</th>\n",
       "      <td>1</td>\n",
       "      <td>83690644458</td>\n",
       "      <td>30.441348</td>\n",
       "      <td>40a2ff69-ea34-4657-8429-df7ca957d6a1</td>\n",
       "      <td>2021-02-28</td>\n",
       "      <td>Id Erat Etiam Consulting</td>\n",
       "      <td>[(gift, card, novelty, and souvenir shops), (b...</td>\n",
       "    </tr>\n",
       "    <tr>\n",
       "      <th>3</th>\n",
       "      <td>18488</td>\n",
       "      <td>39649557865</td>\n",
       "      <td>962.813341</td>\n",
       "      <td>f4c1a5ae-5b76-40d0-ae0f-cb9730ac325a</td>\n",
       "      <td>2021-02-28</td>\n",
       "      <td>Arcu Morbi Institute</td>\n",
       "      <td>([artist supply and craft shops], [c], [take r...</td>\n",
       "    </tr>\n",
       "    <tr>\n",
       "      <th>4</th>\n",
       "      <td>2</td>\n",
       "      <td>80779820715</td>\n",
       "      <td>48.123977</td>\n",
       "      <td>cd09bdd6-f56d-489f-81ea-440f4bda933c</td>\n",
       "      <td>2021-02-28</td>\n",
       "      <td>Euismod Enim LLC</td>\n",
       "      <td>([watch, clock, and jewelry repair shops], [b]...</td>\n",
       "    </tr>\n",
       "    <tr>\n",
       "      <th>...</th>\n",
       "      <td>...</td>\n",
       "      <td>...</td>\n",
       "      <td>...</td>\n",
       "      <td>...</td>\n",
       "      <td>...</td>\n",
       "      <td>...</td>\n",
       "      <td>...</td>\n",
       "    </tr>\n",
       "    <tr>\n",
       "      <th>3643260</th>\n",
       "      <td>18469</td>\n",
       "      <td>13514558491</td>\n",
       "      <td>615.370797</td>\n",
       "      <td>b84e4f6d-921d-455a-84b7-d27be8389526</td>\n",
       "      <td>2021-08-27</td>\n",
       "      <td>Magna Praesent PC</td>\n",
       "      <td>[(motor vehicle supplies and new parts), (a), ...</td>\n",
       "    </tr>\n",
       "    <tr>\n",
       "      <th>3643262</th>\n",
       "      <td>18471</td>\n",
       "      <td>21359184622</td>\n",
       "      <td>97.760164</td>\n",
       "      <td>8ed0f865-9f70-4e20-8266-81904c95de89</td>\n",
       "      <td>2021-08-27</td>\n",
       "      <td>Sit Amet PC</td>\n",
       "      <td>((motor vehicle supplies and new parts), (b), ...</td>\n",
       "    </tr>\n",
       "    <tr>\n",
       "      <th>3643263</th>\n",
       "      <td>18472</td>\n",
       "      <td>21807339153</td>\n",
       "      <td>54.310599</td>\n",
       "      <td>3251ce95-a850-4fbc-98d0-32bce1651d40</td>\n",
       "      <td>2021-08-27</td>\n",
       "      <td>Praesent Eu LLP</td>\n",
       "      <td>([digital goods: books, movies, music], [c], [...</td>\n",
       "    </tr>\n",
       "    <tr>\n",
       "      <th>3643264</th>\n",
       "      <td>18475</td>\n",
       "      <td>41944909975</td>\n",
       "      <td>103.804012</td>\n",
       "      <td>bd52416a-a7f1-4293-ae96-cc4a8392e414</td>\n",
       "      <td>2021-08-27</td>\n",
       "      <td>Et Nunc Consulting</td>\n",
       "      <td>([books, periodicals, and newspapers], [e], [t...</td>\n",
       "    </tr>\n",
       "    <tr>\n",
       "      <th>3643265</th>\n",
       "      <td>18477</td>\n",
       "      <td>63290521567</td>\n",
       "      <td>17.826070</td>\n",
       "      <td>0aa657d5-c559-41f7-9345-5d2162ad46f5</td>\n",
       "      <td>2021-08-27</td>\n",
       "      <td>Vehicula Pellentesque Corporation</td>\n",
       "      <td>((artist supply and craft shops), (a), (take r...</td>\n",
       "    </tr>\n",
       "  </tbody>\n",
       "</table>\n",
       "<p>3494038 rows × 7 columns</p>\n",
       "</div>"
      ],
      "text/plain": [
       "         user_id  merchant_abn  dollar_value  \\\n",
       "0              1   28000487688    133.226894   \n",
       "1          18485   62191208634     79.131400   \n",
       "2              1   83690644458     30.441348   \n",
       "3          18488   39649557865    962.813341   \n",
       "4              2   80779820715     48.123977   \n",
       "...          ...           ...           ...   \n",
       "3643260    18469   13514558491    615.370797   \n",
       "3643262    18471   21359184622     97.760164   \n",
       "3643263    18472   21807339153     54.310599   \n",
       "3643264    18475   41944909975    103.804012   \n",
       "3643265    18477   63290521567     17.826070   \n",
       "\n",
       "                                     order_id order_datetime  \\\n",
       "0        0c37b3f7-c7f1-48cb-bcc7-0a58e76608ea     2021-02-28   \n",
       "1        9e18b913-0465-4fd4-92fd-66d15e65d93c     2021-02-28   \n",
       "2        40a2ff69-ea34-4657-8429-df7ca957d6a1     2021-02-28   \n",
       "3        f4c1a5ae-5b76-40d0-ae0f-cb9730ac325a     2021-02-28   \n",
       "4        cd09bdd6-f56d-489f-81ea-440f4bda933c     2021-02-28   \n",
       "...                                       ...            ...   \n",
       "3643260  b84e4f6d-921d-455a-84b7-d27be8389526     2021-08-27   \n",
       "3643262  8ed0f865-9f70-4e20-8266-81904c95de89     2021-08-27   \n",
       "3643263  3251ce95-a850-4fbc-98d0-32bce1651d40     2021-08-27   \n",
       "3643264  bd52416a-a7f1-4293-ae96-cc4a8392e414     2021-08-27   \n",
       "3643265  0aa657d5-c559-41f7-9345-5d2162ad46f5     2021-08-27   \n",
       "\n",
       "                                      name  \\\n",
       "0                      Sed Nunc Industries   \n",
       "1            Cursus Non Egestas Foundation   \n",
       "2                 Id Erat Etiam Consulting   \n",
       "3                     Arcu Morbi Institute   \n",
       "4                         Euismod Enim LLC   \n",
       "...                                    ...   \n",
       "3643260                  Magna Praesent PC   \n",
       "3643262                        Sit Amet PC   \n",
       "3643263                    Praesent Eu LLP   \n",
       "3643264                 Et Nunc Consulting   \n",
       "3643265  Vehicula Pellentesque Corporation   \n",
       "\n",
       "                                                      tags  \n",
       "0        ((books, periodicals, anD newspapers), (b), (t...  \n",
       "1        [(furniture, home furnishings and equipment sh...  \n",
       "2        [(gift, card, novelty, and souvenir shops), (b...  \n",
       "3        ([artist supply and craft shops], [c], [take r...  \n",
       "4        ([watch, clock, and jewelry repair shops], [b]...  \n",
       "...                                                    ...  \n",
       "3643260  [(motor vehicle supplies and new parts), (a), ...  \n",
       "3643262  ((motor vehicle supplies and new parts), (b), ...  \n",
       "3643263  ([digital goods: books, movies, music], [c], [...  \n",
       "3643264  ([books, periodicals, and newspapers], [e], [t...  \n",
       "3643265  ((artist supply and craft shops), (a), (take r...  \n",
       "\n",
       "[3494038 rows x 7 columns]"
      ]
     },
     "execution_count": 4,
     "metadata": {},
     "output_type": "execute_result"
    }
   ],
   "source": [
    "transactions_noNull = transactions.dropna()\n",
    "transactions_noNull"
   ]
  },
  {
   "cell_type": "code",
   "execution_count": 8,
   "id": "bbe2a6cb",
   "metadata": {
    "ExecuteTime": {
     "end_time": "2022-09-13T15:12:11.588382Z",
     "start_time": "2022-09-13T15:12:06.799661Z"
    },
    "scrolled": true
   },
   "outputs": [
    {
     "data": {
      "text/plain": [
       "user_id             24081\n",
       "merchant_abn         3981\n",
       "dollar_value      3483403\n",
       "order_id          3494038\n",
       "order_datetime        181\n",
       "name                 3981\n",
       "tags                 3910\n",
       "dtype: int64"
      ]
     },
     "execution_count": 8,
     "metadata": {},
     "output_type": "execute_result"
    }
   ],
   "source": [
    "transactions_noNull.nunique()"
   ]
  },
  {
   "cell_type": "markdown",
   "id": "dbe7f876",
   "metadata": {},
   "source": [
    "We are looking at 3981 different merchants that we can choose from. There also does not seem to be any spelling errors in the merchant names as it has the same count as the merchant_abn. "
   ]
  },
  {
   "cell_type": "code",
   "execution_count": 6,
   "id": "d10a0340",
   "metadata": {
    "ExecuteTime": {
     "end_time": "2022-09-13T15:08:43.728522Z",
     "start_time": "2022-09-13T15:06:59.236508Z"
    }
   },
   "outputs": [
    {
     "data": {
      "text/plain": [
       "<AxesSubplot:xlabel='name', ylabel='dollar_value'>"
      ]
     },
     "execution_count": 6,
     "metadata": {},
     "output_type": "execute_result"
    },
    {
     "data": {
      "image/png": "[encoded data removed]",
      "text/plain": [
       "<Figure size 720x720 with 1 Axes>"
      ]
     },
     "metadata": {
      "needs_background": "light"
     },
     "output_type": "display_data"
    }
   ],
   "source": [
    "plt.figure(figsize=(10,10))\n",
    "sns.boxplot(x='name', y='dollar_value', data = transactions_noNull)"
   ]
  },
  {
   "cell_type": "markdown",
   "id": "8043feb6",
   "metadata": {},
   "source": [
    "Although it looks messy, we do see lots of outliers from different merchants, but as these would be considered rare purchases due to them being outliers, we would remove them to further improve our analysis. "
   ]
  },
  {
   "cell_type": "code",
   "execution_count": 9,
   "id": "82ed06e9",
   "metadata": {
    "ExecuteTime": {
     "end_time": "2022-09-13T15:52:10.056975Z",
     "start_time": "2022-09-13T15:52:10.039060Z"
    }
   },
   "outputs": [],
   "source": [
    "def is_outlier(merchant):\n",
    "    Q3 = np.quantile(merchant,0.75)\n",
    "    Q1 = np.quantile(merchant,0.25)\n",
    "    IQR = Q3 - Q1\n",
    "    lower_limit = Q1 - 1.5*IQR\n",
    "    upper_limit = Q3 + 1.5*IQR\n",
    "    return ~merchant.between(lower_limit, upper_limit)"
   ]
  },
  {
   "cell_type": "code",
   "execution_count": 10,
   "id": "5497f092",
   "metadata": {
    "ExecuteTime": {
     "end_time": "2022-09-13T15:52:18.028137Z",
     "start_time": "2022-09-13T15:52:11.464010Z"
    }
   },
   "outputs": [],
   "source": [
    "transactions_noOutlier = transactions_noNull[~transactions_noNull.groupby('name')['dollar_value'].apply(is_outlier)]"
   ]
  },
  {
   "cell_type": "code",
   "execution_count": 12,
   "id": "f47b4d91",
   "metadata": {
    "ExecuteTime": {
     "end_time": "2022-09-13T15:56:28.989797Z",
     "start_time": "2022-09-13T15:56:28.955670Z"
    }
   },
   "outputs": [
    {
     "data": {
      "text/html": [
       "<div>\n",
       "<style scoped>\n",
       "    .dataframe tbody tr th:only-of-type {\n",
       "        vertical-align: middle;\n",
       "    }\n",
       "\n",
       "    .dataframe tbody tr th {\n",
       "        vertical-align: top;\n",
       "    }\n",
       "\n",
       "    .dataframe thead th {\n",
       "        text-align: right;\n",
       "    }\n",
       "</style>\n",
       "<table border=\"1\" class=\"dataframe\">\n",
       "  <thead>\n",
       "    <tr style=\"text-align: right;\">\n",
       "      <th></th>\n",
       "      <th>user_id</th>\n",
       "      <th>merchant_abn</th>\n",
       "      <th>dollar_value</th>\n",
       "      <th>order_id</th>\n",
       "      <th>order_datetime</th>\n",
       "      <th>name</th>\n",
       "      <th>tags</th>\n",
       "    </tr>\n",
       "  </thead>\n",
       "  <tbody>\n",
       "    <tr>\n",
       "      <th>0</th>\n",
       "      <td>1</td>\n",
       "      <td>28000487688</td>\n",
       "      <td>133.226894</td>\n",
       "      <td>0c37b3f7-c7f1-48cb-bcc7-0a58e76608ea</td>\n",
       "      <td>2021-02-28</td>\n",
       "      <td>Sed Nunc Industries</td>\n",
       "      <td>((books, periodicals, anD newspapers), (b), (t...</td>\n",
       "    </tr>\n",
       "    <tr>\n",
       "      <th>1</th>\n",
       "      <td>18485</td>\n",
       "      <td>62191208634</td>\n",
       "      <td>79.131400</td>\n",
       "      <td>9e18b913-0465-4fd4-92fd-66d15e65d93c</td>\n",
       "      <td>2021-02-28</td>\n",
       "      <td>Cursus Non Egestas Foundation</td>\n",
       "      <td>[(furniture, home furnishings and equipment sh...</td>\n",
       "    </tr>\n",
       "    <tr>\n",
       "      <th>2</th>\n",
       "      <td>1</td>\n",
       "      <td>83690644458</td>\n",
       "      <td>30.441348</td>\n",
       "      <td>40a2ff69-ea34-4657-8429-df7ca957d6a1</td>\n",
       "      <td>2021-02-28</td>\n",
       "      <td>Id Erat Etiam Consulting</td>\n",
       "      <td>[(gift, card, novelty, and souvenir shops), (b...</td>\n",
       "    </tr>\n",
       "    <tr>\n",
       "      <th>3</th>\n",
       "      <td>18488</td>\n",
       "      <td>39649557865</td>\n",
       "      <td>962.813341</td>\n",
       "      <td>f4c1a5ae-5b76-40d0-ae0f-cb9730ac325a</td>\n",
       "      <td>2021-02-28</td>\n",
       "      <td>Arcu Morbi Institute</td>\n",
       "      <td>([artist supply and craft shops], [c], [take r...</td>\n",
       "    </tr>\n",
       "    <tr>\n",
       "      <th>4</th>\n",
       "      <td>2</td>\n",
       "      <td>80779820715</td>\n",
       "      <td>48.123977</td>\n",
       "      <td>cd09bdd6-f56d-489f-81ea-440f4bda933c</td>\n",
       "      <td>2021-02-28</td>\n",
       "      <td>Euismod Enim LLC</td>\n",
       "      <td>([watch, clock, and jewelry repair shops], [b]...</td>\n",
       "    </tr>\n",
       "    <tr>\n",
       "      <th>...</th>\n",
       "      <td>...</td>\n",
       "      <td>...</td>\n",
       "      <td>...</td>\n",
       "      <td>...</td>\n",
       "      <td>...</td>\n",
       "      <td>...</td>\n",
       "      <td>...</td>\n",
       "    </tr>\n",
       "    <tr>\n",
       "      <th>3643260</th>\n",
       "      <td>18469</td>\n",
       "      <td>13514558491</td>\n",
       "      <td>615.370797</td>\n",
       "      <td>b84e4f6d-921d-455a-84b7-d27be8389526</td>\n",
       "      <td>2021-08-27</td>\n",
       "      <td>Magna Praesent PC</td>\n",
       "      <td>[(motor vehicle supplies and new parts), (a), ...</td>\n",
       "    </tr>\n",
       "    <tr>\n",
       "      <th>3643262</th>\n",
       "      <td>18471</td>\n",
       "      <td>21359184622</td>\n",
       "      <td>97.760164</td>\n",
       "      <td>8ed0f865-9f70-4e20-8266-81904c95de89</td>\n",
       "      <td>2021-08-27</td>\n",
       "      <td>Sit Amet PC</td>\n",
       "      <td>((motor vehicle supplies and new parts), (b), ...</td>\n",
       "    </tr>\n",
       "    <tr>\n",
       "      <th>3643263</th>\n",
       "      <td>18472</td>\n",
       "      <td>21807339153</td>\n",
       "      <td>54.310599</td>\n",
       "      <td>3251ce95-a850-4fbc-98d0-32bce1651d40</td>\n",
       "      <td>2021-08-27</td>\n",
       "      <td>Praesent Eu LLP</td>\n",
       "      <td>([digital goods: books, movies, music], [c], [...</td>\n",
       "    </tr>\n",
       "    <tr>\n",
       "      <th>3643264</th>\n",
       "      <td>18475</td>\n",
       "      <td>41944909975</td>\n",
       "      <td>103.804012</td>\n",
       "      <td>bd52416a-a7f1-4293-ae96-cc4a8392e414</td>\n",
       "      <td>2021-08-27</td>\n",
       "      <td>Et Nunc Consulting</td>\n",
       "      <td>([books, periodicals, and newspapers], [e], [t...</td>\n",
       "    </tr>\n",
       "    <tr>\n",
       "      <th>3643265</th>\n",
       "      <td>18477</td>\n",
       "      <td>63290521567</td>\n",
       "      <td>17.826070</td>\n",
       "      <td>0aa657d5-c559-41f7-9345-5d2162ad46f5</td>\n",
       "      <td>2021-08-27</td>\n",
       "      <td>Vehicula Pellentesque Corporation</td>\n",
       "      <td>((artist supply and craft shops), (a), (take r...</td>\n",
       "    </tr>\n",
       "  </tbody>\n",
       "</table>\n",
       "<p>3380056 rows × 7 columns</p>\n",
       "</div>"
      ],
      "text/plain": [
       "         user_id  merchant_abn  dollar_value  \\\n",
       "0              1   28000487688    133.226894   \n",
       "1          18485   62191208634     79.131400   \n",
       "2              1   83690644458     30.441348   \n",
       "3          18488   39649557865    962.813341   \n",
       "4              2   80779820715     48.123977   \n",
       "...          ...           ...           ...   \n",
       "3643260    18469   13514558491    615.370797   \n",
       "3643262    18471   21359184622     97.760164   \n",
       "3643263    18472   21807339153     54.310599   \n",
       "3643264    18475   41944909975    103.804012   \n",
       "3643265    18477   63290521567     17.826070   \n",
       "\n",
       "                                     order_id order_datetime  \\\n",
       "0        0c37b3f7-c7f1-48cb-bcc7-0a58e76608ea     2021-02-28   \n",
       "1        9e18b913-0465-4fd4-92fd-66d15e65d93c     2021-02-28   \n",
       "2        40a2ff69-ea34-4657-8429-df7ca957d6a1     2021-02-28   \n",
       "3        f4c1a5ae-5b76-40d0-ae0f-cb9730ac325a     2021-02-28   \n",
       "4        cd09bdd6-f56d-489f-81ea-440f4bda933c     2021-02-28   \n",
       "...                                       ...            ...   \n",
       "3643260  b84e4f6d-921d-455a-84b7-d27be8389526     2021-08-27   \n",
       "3643262  8ed0f865-9f70-4e20-8266-81904c95de89     2021-08-27   \n",
       "3643263  3251ce95-a850-4fbc-98d0-32bce1651d40     2021-08-27   \n",
       "3643264  bd52416a-a7f1-4293-ae96-cc4a8392e414     2021-08-27   \n",
       "3643265  0aa657d5-c559-41f7-9345-5d2162ad46f5     2021-08-27   \n",
       "\n",
       "                                      name  \\\n",
       "0                      Sed Nunc Industries   \n",
       "1            Cursus Non Egestas Foundation   \n",
       "2                 Id Erat Etiam Consulting   \n",
       "3                     Arcu Morbi Institute   \n",
       "4                         Euismod Enim LLC   \n",
       "...                                    ...   \n",
       "3643260                  Magna Praesent PC   \n",
       "3643262                        Sit Amet PC   \n",
       "3643263                    Praesent Eu LLP   \n",
       "3643264                 Et Nunc Consulting   \n",
       "3643265  Vehicula Pellentesque Corporation   \n",
       "\n",
       "                                                      tags  \n",
       "0        ((books, periodicals, anD newspapers), (b), (t...  \n",
       "1        [(furniture, home furnishings and equipment sh...  \n",
       "2        [(gift, card, novelty, and souvenir shops), (b...  \n",
       "3        ([artist supply and craft shops], [c], [take r...  \n",
       "4        ([watch, clock, and jewelry repair shops], [b]...  \n",
       "...                                                    ...  \n",
       "3643260  [(motor vehicle supplies and new parts), (a), ...  \n",
       "3643262  ((motor vehicle supplies and new parts), (b), ...  \n",
       "3643263  ([digital goods: books, movies, music], [c], [...  \n",
       "3643264  ([books, periodicals, and newspapers], [e], [t...  \n",
       "3643265  ((artist supply and craft shops), (a), (take r...  \n",
       "\n",
       "[3380056 rows x 7 columns]"
      ]
     },
     "execution_count": 12,
     "metadata": {},
     "output_type": "execute_result"
    }
   ],
   "source": [
    "transactions_noOutlier"
   ]
  },
  {
   "cell_type": "markdown",
   "id": "3b83d502",
   "metadata": {},
   "source": [
    "3494038 - 3380056 = 113982 rows, that were outliers,were removed from the data, which is ~3% of all rows. "
   ]
  }
 ],
 "metadata": {
  "kernelspec": {
   "display_name": "Python 3",
   "language": "python",
   "name": "python3"
  },
  "language_info": {
   "codemirror_mode": {
    "name": "ipython",
    "version": 3
   },
   "file_extension": ".py",
   "mimetype": "text/x-python",
   "name": "python",
   "nbconvert_exporter": "python",
   "pygments_lexer": "ipython3",
   "version": "3.8.8"
  },
  "toc": {
   "base_numbering": 1,
   "nav_menu": {},
   "number_sections": true,
   "sideBar": true,
   "skip_h1_title": false,
   "title_cell": "Table of Contents",
   "title_sidebar": "Contents",
   "toc_cell": false,
   "toc_position": {},
   "toc_section_display": true,
   "toc_window_display": false
  }
 },
 "nbformat": 4,
 "nbformat_minor": 5
}
