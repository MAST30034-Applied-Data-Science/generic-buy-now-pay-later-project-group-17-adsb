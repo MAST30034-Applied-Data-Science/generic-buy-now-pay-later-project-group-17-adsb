{
 "cells": [
  {
   "cell_type": "markdown",
   "id": "f8911b05-25f1-4663-8b1f-5b41700edc5a",
   "metadata": {},
   "source": [
    "This notebook provides a summary of our approach to the project, with any issues we face and limitations/assumptions made."
   ]
  },
  {
   "cell_type": "code",
   "execution_count": 23,
   "id": "527b8a72-c70a-41e6-9afc-71209585fb87",
   "metadata": {},
   "outputs": [],
   "source": [
    "import numpy as np\n",
    "import matplotlib.pyplot as plt\n",
    "import seaborn as sns\n",
    "from sklearn.linear_model import SGDRegressor\n",
    "from sklearn.model_selection import train_test_split\n",
    "import pandas as pd\n",
    "from sklearn.metrics import r2_score, mean_absolute_error\n",
    "from sklearn.preprocessing import StandardScaler, OneHotEncoder\n",
    "import math\n",
    "\n",
    "data_directory = \"../data/curated/\"\n",
    "merchants = pd.read_parquet(data_directory + \"merchants.parquet\")\n",
    "transactions = pd.read_parquet(data_directory + \"transactions.parquet\")\n",
    "consumers = pd.read_parquet(data_directory + \"consumers.parquet\")\n",
    "census = pd.read_csv(data_directory + \"census.csv\")"
   ]
  },
  {
   "cell_type": "markdown",
   "id": "d6c06c27-214f-4722-b463-e33fbb62de9f",
   "metadata": {},
   "source": [
    "# Normalisation"
   ]
  },
  {
   "cell_type": "markdown",
   "id": "12d9979d-0ae5-48f2-a8ee-9b2c6e954877",
   "metadata": {},
   "source": [
    "Firstly, we noticed an issue with the merchant dataset: the 'tags' column was incorrectly constructed with an overload of information - it required normalisation, not only because it showcases technical competency, but the separation could be useful in ranking later on (for example, take-rate, revenue band and category of purchase may all be relevant when ranking and, ideally, should be in different columns).\n",
    "\n",
    "Hence, a normalisation procedure was conducted on this column and the corresponding ETL implementation was done, too. "
   ]
  },
  {
   "cell_type": "code",
   "execution_count": 21,
   "id": "5db8cfaf-2771-4af9-b1e9-efb8d6dc5d04",
   "metadata": {},
   "outputs": [
    {
     "data": {
      "text/html": [
       "<div>\n",
       "<style scoped>\n",
       "    .dataframe tbody tr th:only-of-type {\n",
       "        vertical-align: middle;\n",
       "    }\n",
       "\n",
       "    .dataframe tbody tr th {\n",
       "        vertical-align: top;\n",
       "    }\n",
       "\n",
       "    .dataframe thead th {\n",
       "        text-align: right;\n",
       "    }\n",
       "</style>\n",
       "<table border=\"1\" class=\"dataframe\">\n",
       "  <thead>\n",
       "    <tr style=\"text-align: right;\">\n",
       "      <th></th>\n",
       "      <th>name</th>\n",
       "      <th>tags</th>\n",
       "      <th>sector_tags</th>\n",
       "      <th>revenue_band</th>\n",
       "      <th>take_rate</th>\n",
       "    </tr>\n",
       "    <tr>\n",
       "      <th>merchant_abn</th>\n",
       "      <th></th>\n",
       "      <th></th>\n",
       "      <th></th>\n",
       "      <th></th>\n",
       "      <th></th>\n",
       "    </tr>\n",
       "  </thead>\n",
       "  <tbody>\n",
       "    <tr>\n",
       "      <th>10023283211</th>\n",
       "      <td>Felis Limited</td>\n",
       "      <td>((furniture, home furnishings and equipment sh...</td>\n",
       "      <td>furniture, home furnishings and equipment shop...</td>\n",
       "      <td>e</td>\n",
       "      <td>0.18</td>\n",
       "    </tr>\n",
       "    <tr>\n",
       "      <th>10142254217</th>\n",
       "      <td>Arcu Ac Orci Corporation</td>\n",
       "      <td>([cable, satellite, and otHer pay television a...</td>\n",
       "      <td>cable, satellite, and other pay television and...</td>\n",
       "      <td>b</td>\n",
       "      <td>4.22</td>\n",
       "    </tr>\n",
       "    <tr>\n",
       "      <th>10165489824</th>\n",
       "      <td>Nunc Sed Company</td>\n",
       "      <td>([jewelry, watch, clock, and silverware shops]...</td>\n",
       "      <td>jewelry, watch, clock, and silverware shops</td>\n",
       "      <td>b</td>\n",
       "      <td>4.40</td>\n",
       "    </tr>\n",
       "    <tr>\n",
       "      <th>10187291046</th>\n",
       "      <td>Ultricies Dignissim Lacus Foundation</td>\n",
       "      <td>([wAtch, clock, and jewelry repair shops], [b]...</td>\n",
       "      <td>watch, clock, and jewelry repair shops</td>\n",
       "      <td>b</td>\n",
       "      <td>3.29</td>\n",
       "    </tr>\n",
       "    <tr>\n",
       "      <th>10192359162</th>\n",
       "      <td>Enim Condimentum PC</td>\n",
       "      <td>([music shops - musical instruments, pianos, a...</td>\n",
       "      <td>music shops - musical instruments, pianos, and...</td>\n",
       "      <td>a</td>\n",
       "      <td>6.33</td>\n",
       "    </tr>\n",
       "  </tbody>\n",
       "</table>\n",
       "</div>"
      ],
      "text/plain": [
       "                                              name  \\\n",
       "merchant_abn                                         \n",
       "10023283211                          Felis Limited   \n",
       "10142254217               Arcu Ac Orci Corporation   \n",
       "10165489824                       Nunc Sed Company   \n",
       "10187291046   Ultricies Dignissim Lacus Foundation   \n",
       "10192359162                    Enim Condimentum PC   \n",
       "\n",
       "                                                           tags  \\\n",
       "merchant_abn                                                      \n",
       "10023283211   ((furniture, home furnishings and equipment sh...   \n",
       "10142254217   ([cable, satellite, and otHer pay television a...   \n",
       "10165489824   ([jewelry, watch, clock, and silverware shops]...   \n",
       "10187291046   ([wAtch, clock, and jewelry repair shops], [b]...   \n",
       "10192359162   ([music shops - musical instruments, pianos, a...   \n",
       "\n",
       "                                                    sector_tags revenue_band  \\\n",
       "merchant_abn                                                                   \n",
       "10023283211   furniture, home furnishings and equipment shop...            e   \n",
       "10142254217   cable, satellite, and other pay television and...            b   \n",
       "10165489824         jewelry, watch, clock, and silverware shops            b   \n",
       "10187291046              watch, clock, and jewelry repair shops            b   \n",
       "10192359162   music shops - musical instruments, pianos, and...            a   \n",
       "\n",
       "             take_rate  \n",
       "merchant_abn            \n",
       "10023283211       0.18  \n",
       "10142254217       4.22  \n",
       "10165489824       4.40  \n",
       "10187291046       3.29  \n",
       "10192359162       6.33  "
      ]
     },
     "execution_count": 21,
     "metadata": {},
     "output_type": "execute_result"
    }
   ],
   "source": [
    "merchants.head(5)"
   ]
  },
  {
   "cell_type": "markdown",
   "id": "f7842842-29da-4284-bca6-247a08dd6f4a",
   "metadata": {},
   "source": [
    "# Preprocessing/Outlier Analysis"
   ]
  },
  {
   "cell_type": "markdown",
   "id": "cdd59627-2cad-4669-b45e-df28a24ce276",
   "metadata": {},
   "source": [
    "After downloading/extracting the relevant datasets that were provided to us and conducting some preliminary analysis, the first step was to examine outliers and determine a method to eliminate them from the dataset. "
   ]
  },
  {
   "cell_type": "code",
   "execution_count": 12,
   "id": "7d9b914e-849b-479d-a754-e6bd9ada8d30",
   "metadata": {},
   "outputs": [
    {
     "data": {
      "text/html": [
       "<div>\n",
       "<style scoped>\n",
       "    .dataframe tbody tr th:only-of-type {\n",
       "        vertical-align: middle;\n",
       "    }\n",
       "\n",
       "    .dataframe tbody tr th {\n",
       "        vertical-align: top;\n",
       "    }\n",
       "\n",
       "    .dataframe thead th {\n",
       "        text-align: right;\n",
       "    }\n",
       "</style>\n",
       "<table border=\"1\" class=\"dataframe\">\n",
       "  <thead>\n",
       "    <tr style=\"text-align: right;\">\n",
       "      <th></th>\n",
       "      <th>user_id</th>\n",
       "      <th>merchant_abn</th>\n",
       "      <th>dollar_value</th>\n",
       "      <th>order_id</th>\n",
       "      <th>order_datetime</th>\n",
       "      <th>name</th>\n",
       "      <th>tags</th>\n",
       "    </tr>\n",
       "    <tr>\n",
       "      <th>index</th>\n",
       "      <th></th>\n",
       "      <th></th>\n",
       "      <th></th>\n",
       "      <th></th>\n",
       "      <th></th>\n",
       "      <th></th>\n",
       "      <th></th>\n",
       "    </tr>\n",
       "  </thead>\n",
       "  <tbody>\n",
       "    <tr>\n",
       "      <th>6</th>\n",
       "      <td>3</td>\n",
       "      <td>29566626791</td>\n",
       "      <td>46.330872</td>\n",
       "      <td>26b7574e-81c2-4558-a7d1-017ea9d29440</td>\n",
       "      <td>2021-02-28</td>\n",
       "      <td>None</td>\n",
       "      <td>None</td>\n",
       "    </tr>\n",
       "    <tr>\n",
       "      <th>39</th>\n",
       "      <td>18512</td>\n",
       "      <td>75342681786</td>\n",
       "      <td>11.114536</td>\n",
       "      <td>bdd7bdb2-f5c6-47e6-81f8-4e8c0d9882d2</td>\n",
       "      <td>2021-02-28</td>\n",
       "      <td>None</td>\n",
       "      <td>None</td>\n",
       "    </tr>\n",
       "    <tr>\n",
       "      <th>51</th>\n",
       "      <td>18519</td>\n",
       "      <td>27130058170</td>\n",
       "      <td>914.106232</td>\n",
       "      <td>f0a2ad39-0b6f-4b22-a87f-0345ae4bb677</td>\n",
       "      <td>2021-02-28</td>\n",
       "      <td>None</td>\n",
       "      <td>None</td>\n",
       "    </tr>\n",
       "    <tr>\n",
       "      <th>54</th>\n",
       "      <td>29</td>\n",
       "      <td>29323795999</td>\n",
       "      <td>9.257938</td>\n",
       "      <td>e74e8f04-2fe3-44d4-b081-0ccf1e8aba69</td>\n",
       "      <td>2021-02-28</td>\n",
       "      <td>None</td>\n",
       "      <td>None</td>\n",
       "    </tr>\n",
       "    <tr>\n",
       "      <th>68</th>\n",
       "      <td>32</td>\n",
       "      <td>32234779638</td>\n",
       "      <td>15.485283</td>\n",
       "      <td>ed81cbe9-2474-45a8-895a-9189c3877e84</td>\n",
       "      <td>2021-02-28</td>\n",
       "      <td>None</td>\n",
       "      <td>None</td>\n",
       "    </tr>\n",
       "    <tr>\n",
       "      <th>75</th>\n",
       "      <td>18535</td>\n",
       "      <td>33604812025</td>\n",
       "      <td>437.409129</td>\n",
       "      <td>1eadbf02-68a3-4f69-9e74-c4fb05e48df6</td>\n",
       "      <td>2021-02-28</td>\n",
       "      <td>None</td>\n",
       "      <td>None</td>\n",
       "    </tr>\n",
       "    <tr>\n",
       "      <th>77</th>\n",
       "      <td>18535</td>\n",
       "      <td>32234779638</td>\n",
       "      <td>166.279269</td>\n",
       "      <td>0ae141b2-2413-408a-8824-8c2bdd506da7</td>\n",
       "      <td>2021-02-28</td>\n",
       "      <td>None</td>\n",
       "      <td>None</td>\n",
       "    </tr>\n",
       "    <tr>\n",
       "      <th>108</th>\n",
       "      <td>66</td>\n",
       "      <td>17135205181</td>\n",
       "      <td>55.309494</td>\n",
       "      <td>be717197-58cf-4358-84e6-a4adcb3ba892</td>\n",
       "      <td>2021-02-28</td>\n",
       "      <td>None</td>\n",
       "      <td>None</td>\n",
       "    </tr>\n",
       "    <tr>\n",
       "      <th>110</th>\n",
       "      <td>67</td>\n",
       "      <td>29323795999</td>\n",
       "      <td>82.363296</td>\n",
       "      <td>10a03669-aca1-4858-ae56-e0c1a7d2a4e7</td>\n",
       "      <td>2021-02-28</td>\n",
       "      <td>None</td>\n",
       "      <td>None</td>\n",
       "    </tr>\n",
       "    <tr>\n",
       "      <th>124</th>\n",
       "      <td>76</td>\n",
       "      <td>32234779638</td>\n",
       "      <td>114.817248</td>\n",
       "      <td>209271b0-35cc-42e0-9ff7-2601b420af50</td>\n",
       "      <td>2021-02-28</td>\n",
       "      <td>None</td>\n",
       "      <td>None</td>\n",
       "    </tr>\n",
       "  </tbody>\n",
       "</table>\n",
       "</div>"
      ],
      "text/plain": [
       "       user_id  merchant_abn  dollar_value  \\\n",
       "index                                        \n",
       "6            3   29566626791     46.330872   \n",
       "39       18512   75342681786     11.114536   \n",
       "51       18519   27130058170    914.106232   \n",
       "54          29   29323795999      9.257938   \n",
       "68          32   32234779638     15.485283   \n",
       "75       18535   33604812025    437.409129   \n",
       "77       18535   32234779638    166.279269   \n",
       "108         66   17135205181     55.309494   \n",
       "110         67   29323795999     82.363296   \n",
       "124         76   32234779638    114.817248   \n",
       "\n",
       "                                   order_id order_datetime  name  tags  \n",
       "index                                                                   \n",
       "6      26b7574e-81c2-4558-a7d1-017ea9d29440     2021-02-28  None  None  \n",
       "39     bdd7bdb2-f5c6-47e6-81f8-4e8c0d9882d2     2021-02-28  None  None  \n",
       "51     f0a2ad39-0b6f-4b22-a87f-0345ae4bb677     2021-02-28  None  None  \n",
       "54     e74e8f04-2fe3-44d4-b081-0ccf1e8aba69     2021-02-28  None  None  \n",
       "68     ed81cbe9-2474-45a8-895a-9189c3877e84     2021-02-28  None  None  \n",
       "75     1eadbf02-68a3-4f69-9e74-c4fb05e48df6     2021-02-28  None  None  \n",
       "77     0ae141b2-2413-408a-8824-8c2bdd506da7     2021-02-28  None  None  \n",
       "108    be717197-58cf-4358-84e6-a4adcb3ba892     2021-02-28  None  None  \n",
       "110    10a03669-aca1-4858-ae56-e0c1a7d2a4e7     2021-02-28  None  None  \n",
       "124    209271b0-35cc-42e0-9ff7-2601b420af50     2021-02-28  None  None  "
      ]
     },
     "execution_count": 12,
     "metadata": {},
     "output_type": "execute_result"
    }
   ],
   "source": [
    "transactions[transactions.isnull().any(axis=1)].head(10)"
   ]
  },
  {
   "cell_type": "markdown",
   "id": "d0bd6d18-6883-4ad0-b603-020e08da3950",
   "metadata": {},
   "source": [
    "We found that the nulls are predominantly related to the name of the merchant and what they purchased ('tags'). At the preliminary stage, it was determined that these can be considered vital features when ranking merchants, and if we lack this data, we hinder the accuracy of our selection metrics. Hence, all nulls were removed from further analysis.\n",
    "\n",
    "To conduct further outlier analysis, we utilised a box plot (per merchant) to visualise the anomalies:"
   ]
  },
  {
   "cell_type": "code",
   "execution_count": 18,
   "id": "278cf7c8-179f-4062-be2c-592002bdc109",
   "metadata": {},
   "outputs": [
    {
     "data": {
      "text/plain": [
       "<AxesSubplot:xlabel='name', ylabel='dollar_value'>"
      ]
     },
     "execution_count": 18,
     "metadata": {},
     "output_type": "execute_result"
    },
    {
     "data": {
      "image/png": "[encoded data removed]",
      "text/plain": [
       "<Figure size 720x720 with 1 Axes>"
      ]
     },
     "metadata": {
      "needs_background": "light"
     },
     "output_type": "display_data"
    }
   ],
   "source": [
    "transactions_noNull = transactions.dropna()\n",
    "plt.figure(figsize=(10,10))\n",
    "sns.boxplot(x='name', y='dollar_value', data = transactions_noNull)"
   ]
  },
  {
   "cell_type": "markdown",
   "id": "8e788bb3-f4b4-4610-ab3f-c8115fbbf521",
   "metadata": {},
   "source": [
    "To eliminate the observed outliers, an IQR statistical implementation was used, resulting in approximately 3% of all data (113982 rows) being removed.\n",
    "\n",
    "Complementing all these steps, a generic ETL script was being updated using separate functions for obtaining and preprocessing the data."
   ]
  },
  {
   "cell_type": "markdown",
   "id": "f31bc3b5-7633-420d-80dc-12d440ebc8f5",
   "metadata": {},
   "source": [
    "### Using a Fraud Model to Further Remove Data"
   ]
  },
  {
   "cell_type": "markdown",
   "id": "3b803cab-ed40-4c03-aad3-c59ec3f63254",
   "metadata": {},
   "source": [
    "After the release of the fraud dataset, we wanted to implement a model that detects fraudulent transactions and also removes them from the dataset.\n",
    "\n"
   ]
  },
  {
   "cell_type": "markdown",
   "id": "f6635bd1-a756-424a-8d53-78bf0d335354",
   "metadata": {},
   "source": [
    "### External Dataset"
   ]
  },
  {
   "cell_type": "markdown",
   "id": "8b88f2a7-8f57-41c2-a1f5-44cec4f142f0",
   "metadata": {},
   "source": [
    "The external dataset (census data) was retrieved from the ABS website. We believed that some of these features could prove useful in deriving a ranking model. Additionally, as the census data linked customer data by postcode and gender, it is assumed that this average is representative of the individual.\n",
    "\n",
    "Due to the hundreds of features available, feature engineering was done in order to obtain the most predictive attributes of a consumer. For example, a house-repayment-to-income ratio was deemed important as it showcases how risky - or how likely to default - a consumer is, and was engineered by dividing median mortgage payment of a consumer by their median income.\n",
    "\n",
    "The data was then cleaned and merged into other datasets."
   ]
  },
  {
   "cell_type": "markdown",
   "id": "7c723e95-35ab-44b1-b5f1-07862b43dca4",
   "metadata": {},
   "source": [
    " ### Final (Merged) Dataset"
   ]
  },
  {
   "cell_type": "markdown",
   "id": "ef52ebb9-4ef7-4fbb-a3d3-508ab6b410c5",
   "metadata": {},
   "source": [
    "By the preprocessing and outlier analysis detailed above for each dataset, we were able to obtain a final dataset by merging.\n",
    "\n",
    "The ETL script was finalised, also. "
   ]
  },
  {
   "cell_type": "code",
   "execution_count": 25,
   "id": "1d63c17f-9607-42b9-b55a-6eeb0d751392",
   "metadata": {
    "collapsed": true,
    "jupyter": {
     "outputs_hidden": true
    },
    "tags": []
   },
   "outputs": [
    {
     "ename": "TypeError",
     "evalue": "unsupported operand type(s) for +: 'int' and 'dict'",
     "output_type": "error",
     "traceback": [
      "\u001b[0;31m---------------------------------------------------------------------------\u001b[0m",
      "\u001b[0;31mTypeError\u001b[0m                                 Traceback (most recent call last)",
      "Input \u001b[0;32mIn [25]\u001b[0m, in \u001b[0;36m<cell line: 1>\u001b[0;34m()\u001b[0m\n\u001b[0;32m----> 1\u001b[0m merged_transactions \u001b[38;5;241m=\u001b[39m \u001b[43mpd\u001b[49m\u001b[38;5;241;43m.\u001b[39;49m\u001b[43mread_parquet\u001b[49m\u001b[43m(\u001b[49m\u001b[43mdata_directory\u001b[49m\u001b[43m \u001b[49m\u001b[38;5;241;43m+\u001b[39;49m\u001b[43m \u001b[49m\u001b[38;5;124;43m\"\u001b[39;49m\u001b[38;5;124;43mmerged_transactions.parquet\u001b[39;49m\u001b[38;5;124;43m\"\u001b[39;49m\u001b[43m)\u001b[49m\n",
      "File \u001b[0;32m~/opt/anaconda3/lib/python3.9/site-packages/pandas/io/parquet.py:493\u001b[0m, in \u001b[0;36mread_parquet\u001b[0;34m(path, engine, columns, storage_options, use_nullable_dtypes, **kwargs)\u001b[0m\n\u001b[1;32m    446\u001b[0m \u001b[38;5;124;03m\"\"\"\u001b[39;00m\n\u001b[1;32m    447\u001b[0m \u001b[38;5;124;03mLoad a parquet object from the file path, returning a DataFrame.\u001b[39;00m\n\u001b[1;32m    448\u001b[0m \n\u001b[0;32m   (...)\u001b[0m\n\u001b[1;32m    489\u001b[0m \u001b[38;5;124;03mDataFrame\u001b[39;00m\n\u001b[1;32m    490\u001b[0m \u001b[38;5;124;03m\"\"\"\u001b[39;00m\n\u001b[1;32m    491\u001b[0m impl \u001b[38;5;241m=\u001b[39m get_engine(engine)\n\u001b[0;32m--> 493\u001b[0m \u001b[38;5;28;01mreturn\u001b[39;00m \u001b[43mimpl\u001b[49m\u001b[38;5;241;43m.\u001b[39;49m\u001b[43mread\u001b[49m\u001b[43m(\u001b[49m\n\u001b[1;32m    494\u001b[0m \u001b[43m    \u001b[49m\u001b[43mpath\u001b[49m\u001b[43m,\u001b[49m\n\u001b[1;32m    495\u001b[0m \u001b[43m    \u001b[49m\u001b[43mcolumns\u001b[49m\u001b[38;5;241;43m=\u001b[39;49m\u001b[43mcolumns\u001b[49m\u001b[43m,\u001b[49m\n\u001b[1;32m    496\u001b[0m \u001b[43m    \u001b[49m\u001b[43mstorage_options\u001b[49m\u001b[38;5;241;43m=\u001b[39;49m\u001b[43mstorage_options\u001b[49m\u001b[43m,\u001b[49m\n\u001b[1;32m    497\u001b[0m \u001b[43m    \u001b[49m\u001b[43muse_nullable_dtypes\u001b[49m\u001b[38;5;241;43m=\u001b[39;49m\u001b[43muse_nullable_dtypes\u001b[49m\u001b[43m,\u001b[49m\n\u001b[1;32m    498\u001b[0m \u001b[43m    \u001b[49m\u001b[38;5;241;43m*\u001b[39;49m\u001b[38;5;241;43m*\u001b[39;49m\u001b[43mkwargs\u001b[49m\u001b[43m,\u001b[49m\n\u001b[1;32m    499\u001b[0m \u001b[43m\u001b[49m\u001b[43m)\u001b[49m\n",
      "File \u001b[0;32m~/opt/anaconda3/lib/python3.9/site-packages/pandas/io/parquet.py:347\u001b[0m, in \u001b[0;36mFastParquetImpl.read\u001b[0;34m(self, path, columns, storage_options, **kwargs)\u001b[0m\n\u001b[1;32m    343\u001b[0m     path \u001b[38;5;241m=\u001b[39m handles\u001b[38;5;241m.\u001b[39mhandle\n\u001b[1;32m    345\u001b[0m parquet_file \u001b[38;5;241m=\u001b[39m \u001b[38;5;28mself\u001b[39m\u001b[38;5;241m.\u001b[39mapi\u001b[38;5;241m.\u001b[39mParquetFile(path, \u001b[38;5;241m*\u001b[39m\u001b[38;5;241m*\u001b[39mparquet_kwargs)\n\u001b[0;32m--> 347\u001b[0m result \u001b[38;5;241m=\u001b[39m \u001b[43mparquet_file\u001b[49m\u001b[38;5;241;43m.\u001b[39;49m\u001b[43mto_pandas\u001b[49m\u001b[43m(\u001b[49m\u001b[43mcolumns\u001b[49m\u001b[38;5;241;43m=\u001b[39;49m\u001b[43mcolumns\u001b[49m\u001b[43m,\u001b[49m\u001b[43m \u001b[49m\u001b[38;5;241;43m*\u001b[39;49m\u001b[38;5;241;43m*\u001b[39;49m\u001b[43mkwargs\u001b[49m\u001b[43m)\u001b[49m\n\u001b[1;32m    349\u001b[0m \u001b[38;5;28;01mif\u001b[39;00m handles \u001b[38;5;129;01mis\u001b[39;00m \u001b[38;5;129;01mnot\u001b[39;00m \u001b[38;5;28;01mNone\u001b[39;00m:\n\u001b[1;32m    350\u001b[0m     handles\u001b[38;5;241m.\u001b[39mclose()\n",
      "File \u001b[0;32m~/opt/anaconda3/lib/python3.9/site-packages/fastparquet/api.py:752\u001b[0m, in \u001b[0;36mParquetFile.to_pandas\u001b[0;34m(self, columns, categories, filters, index, row_filter)\u001b[0m\n\u001b[1;32m    750\u001b[0m         start \u001b[38;5;241m+\u001b[39m\u001b[38;5;241m=\u001b[39m rg\u001b[38;5;241m.\u001b[39mnum_rows\n\u001b[1;32m    751\u001b[0m \u001b[38;5;28;01melse\u001b[39;00m:\n\u001b[0;32m--> 752\u001b[0m     size \u001b[38;5;241m=\u001b[39m \u001b[38;5;28;43msum\u001b[39;49m\u001b[43m(\u001b[49m\u001b[43mrg\u001b[49m\u001b[38;5;241;43m.\u001b[39;49m\u001b[43mnum_rows\u001b[49m\u001b[43m \u001b[49m\u001b[38;5;28;43;01mfor\u001b[39;49;00m\u001b[43m \u001b[49m\u001b[43mrg\u001b[49m\u001b[43m \u001b[49m\u001b[38;5;129;43;01min\u001b[39;49;00m\u001b[43m \u001b[49m\u001b[43mrgs\u001b[49m\u001b[43m)\u001b[49m\n\u001b[1;32m    753\u001b[0m     selected \u001b[38;5;241m=\u001b[39m [\u001b[38;5;28;01mNone\u001b[39;00m] \u001b[38;5;241m*\u001b[39m \u001b[38;5;28mlen\u001b[39m(rgs)  \u001b[38;5;66;03m# just to fill zip, below\u001b[39;00m\n\u001b[1;32m    754\u001b[0m df, views \u001b[38;5;241m=\u001b[39m \u001b[38;5;28mself\u001b[39m\u001b[38;5;241m.\u001b[39mpre_allocate(size, columns, categories, index)\n",
      "\u001b[0;31mTypeError\u001b[0m: unsupported operand type(s) for +: 'int' and 'dict'"
     ]
    }
   ],
   "source": [
    "merged_transactions = pd.read_parquet(data_directory + \"merged_transactions.parquet\")"
   ]
  },
  {
   "cell_type": "markdown",
   "id": "47cb0d7c-3298-497f-812f-0be18e1d556f",
   "metadata": {},
   "source": [
    "# The Ranking Model and Segmentations"
   ]
  },
  {
   "cell_type": "markdown",
   "id": "db95a7ef-f31b-4050-ace7-53f1fd2a9928",
   "metadata": {},
   "source": [
    "Initially, we devised a metric using three models: Customer-Merchant Model (CN), Customer Number Model (CNM) and Customer Sampling Model (CS). The CN model would be used to predict the amount each cutomer-merchant pair would spend on a monthly basis; the CNM model in conjunction with CS would be used to predict revenue for a specific month (using a Monte-Carlo sampling method). Ultimately, we would use all of this information to predict the future revenue for any given month for a specific merchant. However, we faced a number of issues in creation of this system:\n",
    "- Customer were sparse: we found that each customer only had a few transactions per merchant, hence making it difficult to derive a predictive power\n",
    "- Memory/Technical Issues: since these databases/operations were computationally heavy, we were met with several RAM issues across group members, as well as .env and environment errors which impeded the creation process significantly \n",
    "\n",
    "As a result, we decided to change the model to the one we have now. By using several, reputable articles and studies, we were able to select and create features \n",
    "\n",
    "- rankings.csv"
   ]
  },
  {
   "cell_type": "code",
   "execution_count": null,
   "id": "46d4a467-0e76-48f8-be90-c6f05a534778",
   "metadata": {},
   "outputs": [],
   "source": []
  }
 ],
 "metadata": {
  "kernelspec": {
   "display_name": "Python 3 (ipykernel)",
   "language": "python",
   "name": "python3"
  },
  "language_info": {
   "codemirror_mode": {
    "name": "ipython",
    "version": 3
   },
   "file_extension": ".py",
   "mimetype": "text/x-python",
   "name": "python",
   "nbconvert_exporter": "python",
   "pygments_lexer": "ipython3",
   "version": "3.9.12"
  }
 },
 "nbformat": 4,
 "nbformat_minor": 5
}
